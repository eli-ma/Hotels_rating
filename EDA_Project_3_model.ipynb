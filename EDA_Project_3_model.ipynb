{
 "cells": [
  {
   "cell_type": "code",
   "execution_count": 1,
   "metadata": {},
   "outputs": [],
   "source": [
    "import pandas as pd"
   ]
  },
  {
   "cell_type": "code",
   "execution_count": 2,
   "metadata": {},
   "outputs": [
    {
     "data": {
      "text/html": [
       "<div>\n",
       "<style scoped>\n",
       "    .dataframe tbody tr th:only-of-type {\n",
       "        vertical-align: middle;\n",
       "    }\n",
       "\n",
       "    .dataframe tbody tr th {\n",
       "        vertical-align: top;\n",
       "    }\n",
       "\n",
       "    .dataframe thead th {\n",
       "        text-align: right;\n",
       "    }\n",
       "</style>\n",
       "<table border=\"1\" class=\"dataframe\">\n",
       "  <thead>\n",
       "    <tr style=\"text-align: right;\">\n",
       "      <th></th>\n",
       "      <th>hotel_address</th>\n",
       "      <th>additional_number_of_scoring</th>\n",
       "      <th>review_date</th>\n",
       "      <th>average_score</th>\n",
       "      <th>hotel_name</th>\n",
       "      <th>reviewer_nationality</th>\n",
       "      <th>negative_review</th>\n",
       "      <th>review_total_negative_word_counts</th>\n",
       "      <th>total_number_of_reviews</th>\n",
       "      <th>positive_review</th>\n",
       "      <th>review_total_positive_word_counts</th>\n",
       "      <th>total_number_of_reviews_reviewer_has_given</th>\n",
       "      <th>reviewer_score</th>\n",
       "      <th>tags</th>\n",
       "      <th>days_since_review</th>\n",
       "      <th>lat</th>\n",
       "      <th>lng</th>\n",
       "    </tr>\n",
       "  </thead>\n",
       "  <tbody>\n",
       "    <tr>\n",
       "      <th>0</th>\n",
       "      <td>Stratton Street Mayfair Westminster Borough Lo...</td>\n",
       "      <td>581</td>\n",
       "      <td>2/19/2016</td>\n",
       "      <td>8.4</td>\n",
       "      <td>The May Fair Hotel</td>\n",
       "      <td>United Kingdom</td>\n",
       "      <td>Leaving</td>\n",
       "      <td>3</td>\n",
       "      <td>1994</td>\n",
       "      <td>Staff were amazing</td>\n",
       "      <td>4</td>\n",
       "      <td>7</td>\n",
       "      <td>10.0</td>\n",
       "      <td>[' Leisure trip ', ' Couple ', ' Studio Suite ...</td>\n",
       "      <td>531 day</td>\n",
       "      <td>51.507894</td>\n",
       "      <td>-0.143671</td>\n",
       "    </tr>\n",
       "    <tr>\n",
       "      <th>1</th>\n",
       "      <td>130 134 Southampton Row Camden London WC1B 5AF...</td>\n",
       "      <td>299</td>\n",
       "      <td>1/12/2017</td>\n",
       "      <td>8.3</td>\n",
       "      <td>Mercure London Bloomsbury Hotel</td>\n",
       "      <td>United Kingdom</td>\n",
       "      <td>poor breakfast</td>\n",
       "      <td>3</td>\n",
       "      <td>1361</td>\n",
       "      <td>location</td>\n",
       "      <td>2</td>\n",
       "      <td>14</td>\n",
       "      <td>6.3</td>\n",
       "      <td>[' Business trip ', ' Couple ', ' Standard Dou...</td>\n",
       "      <td>203 day</td>\n",
       "      <td>51.521009</td>\n",
       "      <td>-0.123097</td>\n",
       "    </tr>\n",
       "    <tr>\n",
       "      <th>2</th>\n",
       "      <td>151 bis Rue de Rennes 6th arr 75006 Paris France</td>\n",
       "      <td>32</td>\n",
       "      <td>10/18/2016</td>\n",
       "      <td>8.9</td>\n",
       "      <td>Legend Saint Germain by Elegancia</td>\n",
       "      <td>China</td>\n",
       "      <td>No kettle in room</td>\n",
       "      <td>6</td>\n",
       "      <td>406</td>\n",
       "      <td>No Positive</td>\n",
       "      <td>0</td>\n",
       "      <td>14</td>\n",
       "      <td>7.5</td>\n",
       "      <td>[' Leisure trip ', ' Solo traveler ', ' Modern...</td>\n",
       "      <td>289 day</td>\n",
       "      <td>48.845377</td>\n",
       "      <td>2.325643</td>\n",
       "    </tr>\n",
       "  </tbody>\n",
       "</table>\n",
       "</div>"
      ],
      "text/plain": [
       "                                       hotel_address  \\\n",
       "0  Stratton Street Mayfair Westminster Borough Lo...   \n",
       "1  130 134 Southampton Row Camden London WC1B 5AF...   \n",
       "2   151 bis Rue de Rennes 6th arr 75006 Paris France   \n",
       "\n",
       "   additional_number_of_scoring review_date  average_score  \\\n",
       "0                           581   2/19/2016            8.4   \n",
       "1                           299   1/12/2017            8.3   \n",
       "2                            32  10/18/2016            8.9   \n",
       "\n",
       "                          hotel_name reviewer_nationality  \\\n",
       "0                 The May Fair Hotel      United Kingdom    \n",
       "1    Mercure London Bloomsbury Hotel      United Kingdom    \n",
       "2  Legend Saint Germain by Elegancia               China    \n",
       "\n",
       "       negative_review  review_total_negative_word_counts  \\\n",
       "0             Leaving                                   3   \n",
       "1       poor breakfast                                  3   \n",
       "2   No kettle in room                                   6   \n",
       "\n",
       "   total_number_of_reviews      positive_review  \\\n",
       "0                     1994   Staff were amazing   \n",
       "1                     1361             location   \n",
       "2                      406          No Positive   \n",
       "\n",
       "   review_total_positive_word_counts  \\\n",
       "0                                  4   \n",
       "1                                  2   \n",
       "2                                  0   \n",
       "\n",
       "   total_number_of_reviews_reviewer_has_given  reviewer_score  \\\n",
       "0                                           7            10.0   \n",
       "1                                          14             6.3   \n",
       "2                                          14             7.5   \n",
       "\n",
       "                                                tags days_since_review  \\\n",
       "0  [' Leisure trip ', ' Couple ', ' Studio Suite ...           531 day   \n",
       "1  [' Business trip ', ' Couple ', ' Standard Dou...           203 day   \n",
       "2  [' Leisure trip ', ' Solo traveler ', ' Modern...           289 day   \n",
       "\n",
       "         lat       lng  \n",
       "0  51.507894 -0.143671  \n",
       "1  51.521009 -0.123097  \n",
       "2  48.845377  2.325643  "
      ]
     },
     "execution_count": 2,
     "metadata": {},
     "output_type": "execute_result"
    }
   ],
   "source": [
    "hotels = pd.read_csv('hotels.csv')\n",
    "hotels.head(3)"
   ]
  },
  {
   "cell_type": "code",
   "execution_count": 3,
   "metadata": {},
   "outputs": [],
   "source": [
    "# Разбиваем датафрейм на части, необходимые для обучения и тестирования модели  \n",
    "# Х - данные с информацией об отелях, у - целевая переменная (рейтинги отелей)  \n",
    "X = hotels.drop(['reviewer_score'], axis = 1)  \n",
    "y = hotels['reviewer_score'] "
   ]
  },
  {
   "cell_type": "code",
   "execution_count": 4,
   "metadata": {},
   "outputs": [],
   "source": [
    "# Загружаем специальный инструмент для разбивки:  \n",
    "from sklearn.model_selection import train_test_split  "
   ]
  },
  {
   "cell_type": "code",
   "execution_count": 5,
   "metadata": {},
   "outputs": [],
   "source": [
    "# Наборы данных с меткой \"train\" будут использоваться для обучения модели, \"test\" - для тестирования.  \n",
    "# Для тестирования мы будем использовать 25% от исходного датасета.  \n",
    "X_train, X_test, y_train, y_test = train_test_split(X, y, test_size=0.25, random_state=42)"
   ]
  },
  {
   "cell_type": "code",
   "execution_count": 6,
   "metadata": {},
   "outputs": [],
   "source": [
    "# Удаляем столбцы содержащие строковые значения\n",
    "drop_list = [\n",
    "    'hotel_address',\n",
    "    'review_date',\n",
    "    'hotel_name',\n",
    "    'reviewer_nationality',\n",
    "    'negative_review',\n",
    "    'positive_review',\n",
    "    'tags','days_since_review']\n",
    "X_train = X_train.drop(drop_list,axis=1)\n",
    "X_test = X_test.drop(drop_list,axis=1)\n",
    "\n",
    "# Заполняем пропуски в данных\n",
    "X_train['lat'].fillna(X_train['lat'].mean(),inplace=True)\n",
    "X_train['lng'].fillna(X_train['lng'].mean(),inplace=True)\n",
    "X_test['lat'].fillna(X_test['lat'].mean(),inplace=True)\n",
    "X_test['lng'].fillna(X_test['lng'].mean(),inplace=True)"
   ]
  },
  {
   "cell_type": "code",
   "execution_count": 68,
   "metadata": {},
   "outputs": [],
   "source": [
    "# Импортируем необходимые библиотеки:  \n",
    "#from sklearn.ensemble import RandomForestRegressor # инструмент для создания и обучения модели  \n",
    "#from sklearn import metrics # инструменты для оценки точности модели  \n",
    "  \n",
    "# Создаём модель  \n",
    "regr = RandomForestRegressor(n_estimators=100)  \n",
    "      \n",
    "# Обучаем модель на тестовом наборе данных  \n",
    "regr.fit(X_train, y_train)  \n",
    "      \n",
    "# Используем обученную модель для предсказания рейтинга отелей в тестовой выборке.  \n",
    "# Предсказанные значения записываем в переменную y_pred  \n",
    "y_pred = regr.predict(X_test)  \n"
   ]
  },
  {
   "cell_type": "code",
   "execution_count": 69,
   "metadata": {},
   "outputs": [
    {
     "name": "stdout",
     "output_type": "stream",
     "text": [
      "MAPE: 0.14139310126433405\n"
     ]
    }
   ],
   "source": [
    "# Сравниваем предсказанные значения (y_pred) с реальными (y_test), и смотрим насколько они отличаются  \n",
    "# Метрика называется Mean Absolute Percentage Error (MAPE) и показывает среднюю абсолютную процентную ошибку предсказанных значений от фактических.  \n",
    "print('MAPE:', metrics.mean_absolute_percentage_error(y_test, y_pred))\n"
   ]
  },
  {
   "cell_type": "markdown",
   "metadata": {},
   "source": [
    "Небольшой бонус:\n"
   ]
  },
  {
   "cell_type": "code",
   "execution_count": 9,
   "metadata": {},
   "outputs": [],
   "source": [
    "# # убираем признаки которые еще не успели обработать, \n",
    "# # модель на признаках с dtypes \"object\" обучаться не будет, просто выберим их и удалим\n",
    "# object_columns = [s for s in hotels.columns if hotels[s].dtypes == 'object']\n",
    "# hotels.drop(object_columns, axis = 1, inplace=True)\n",
    "\n",
    "# # заполняем пропуски самым простым способом\n",
    "# hotels = hotels.fillna(0)"
   ]
  },
  {
   "cell_type": "code",
   "execution_count": 11,
   "metadata": {},
   "outputs": [],
   "source": [
    "# непрерывные признаки\n",
    "num_cols = ['total_number_of_reviews', 'review_total_negative_word_counts']\n",
    "\n",
    "# категориальные признаки\n",
    "cat_cols = ['average_score', 'lat']"
   ]
  },
  {
   "cell_type": "code",
   "execution_count": 12,
   "metadata": {},
   "outputs": [],
   "source": [
    "X['lat'].fillna(X['lat'].mean(),inplace=True)\n",
    "X['lng'].fillna(X['lng'].mean(),inplace=True)"
   ]
  },
  {
   "cell_type": "code",
   "execution_count": 13,
   "metadata": {},
   "outputs": [
    {
     "data": {
      "text/plain": [
       "<AxesSubplot:>"
      ]
     },
     "execution_count": 13,
     "metadata": {},
     "output_type": "execute_result"
    },
    {
     "data": {
      "image/png": "[encoded data removed]",
      "text/plain": [
       "<Figure size 432x288 with 1 Axes>"
      ]
     },
     "metadata": {
      "needs_background": "light"
     },
     "output_type": "display_data"
    }
   ],
   "source": [
    "y=y.astype('int')\n",
    "\n",
    "...\n",
    "from sklearn.feature_selection import chi2 # хи-квадрат\n",
    "\n",
    "imp_cat = pd.Series(chi2(X[cat_cols], y)[0], index=cat_cols)\n",
    "imp_cat.sort_values(inplace = True)\n",
    "imp_cat.plot(kind = 'barh')"
   ]
  },
  {
   "cell_type": "code",
   "execution_count": 14,
   "metadata": {},
   "outputs": [
    {
     "data": {
      "text/plain": [
       "<AxesSubplot:>"
      ]
     },
     "execution_count": 14,
     "metadata": {},
     "output_type": "execute_result"
    },
    {
     "data": {
      "image/png": "[encoded data removed]",
      "text/plain": [
       "<Figure size 432x288 with 1 Axes>"
      ]
     },
     "metadata": {
      "needs_background": "light"
     },
     "output_type": "display_data"
    }
   ],
   "source": [
    "from sklearn.feature_selection import f_classif # anova\n",
    "\n",
    "imp_num = pd.Series(f_classif(X[num_cols], y)[0], index = num_cols)\n",
    "imp_num.sort_values(inplace = True)\n",
    "imp_num.plot(kind = 'barh')"
   ]
  },
  {
   "cell_type": "code",
   "execution_count": 48,
   "metadata": {
    "tags": []
   },
   "outputs": [
    {
     "data": {
      "text/plain": [
       "0         {Luxury Room 3 Adults with canal view, Deluxe ...\n",
       "1         {Luxury Room 3 Adults with canal view, Deluxe ...\n",
       "2         {Luxury Room 3 Adults with canal view, Deluxe ...\n",
       "3         {Luxury Room 3 Adults with canal view, Deluxe ...\n",
       "4         {Luxury Room 3 Adults with canal view, Deluxe ...\n",
       "                                ...                        \n",
       "386798    {Luxury Room 3 Adults with canal view, Deluxe ...\n",
       "386799    {Luxury Room 3 Adults with canal view, Deluxe ...\n",
       "386800    {Luxury Room 3 Adults with canal view, Deluxe ...\n",
       "386801    {Luxury Room 3 Adults with canal view, Deluxe ...\n",
       "386802    {Luxury Room 3 Adults with canal view, Deluxe ...\n",
       "Name: tags, Length: 386803, dtype: object"
      ]
     },
     "execution_count": 48,
     "metadata": {},
     "output_type": "execute_result"
    }
   ],
   "source": [
    "# Функция принимает на вход строку, преобразует ее в список тэгов\n",
    "# и возвращает уникальный список тэгов таблицы\n",
    "uniq_tags_set = set() # задаем пустое множетсво, в которе будем добавлять тэги\n",
    "def get_tags(tags_str):\n",
    "         \n",
    "    tags_list = tags_str[1:-1] # удаляем скобки вначале и в конце строки\n",
    "    tags_list = tags_list.replace(\"' \",\"\") # удаляем кавычки вначале тэга\n",
    "    tags_list = tags_list.replace(\" '\",\"\") # удаляем кавычки вконце тэга\n",
    "    tags_list = tags_list.split(', ') # разделяем строку на отдельные тэги\n",
    "    \n",
    "    #uniq_tags_list = uniq_tags_list.add(*tags_list)\n",
    "    for elem in tags_list:\n",
    "        uniq_tags_set.add(elem)\n",
    "    #   if elem not in uniq_tags_list:\n",
    "    #        uniq_tags_list.append(elem)\n",
    "    return(uniq_tags_set)\n",
    "    \n",
    "X['tags'].apply(get_tags)"
   ]
  },
  {
   "cell_type": "code",
   "execution_count": 62,
   "metadata": {},
   "outputs": [
    {
     "data": {
      "text/plain": [
       "2368"
      ]
     },
     "execution_count": 62,
     "metadata": {},
     "output_type": "execute_result"
    }
   ],
   "source": [
    "# Функция принимает на вход строку, преобразует ее в список тэгов\n",
    "# и возвращает словарь тэгов таблицы, где значения - количество их повтров в ячейках таблицы\n",
    "\n",
    "uniq_tags_dict = dict() # задаем словарь, в который будем добавлять тэги\n",
    "def get_tags(tags_str):\n",
    "         \n",
    "    tags_list = tags_str[1:-1] # удаляем скобки вначале и в конце строки\n",
    "    tags_list = tags_list.replace(\"' \",\"\") # удаляем кавычки вначале тэга\n",
    "    tags_list = tags_list.replace(\" '\",\"\") # удаляем кавычки вконце тэга\n",
    "    tags_list = tags_list.split(', ') # разделяем строку на отдельные тэги\n",
    "    \n",
    "    for elem in tags_list:\n",
    "        if elem in uniq_tags_dict.keys():\n",
    "            uniq_tags_dict[elem] = int(uniq_tags_dict.get(elem)) + 1 \n",
    "        else:\n",
    "            uniq_tags_dict[elem] = 1\n",
    "    \n",
    "    return(uniq_tags_dict)\n",
    "    \n",
    "X['tags'].apply(get_tags)\n",
    "\n",
    "# Количество уникальных тэгов в таблице\n",
    "len(uniq_tags_dict)"
   ]
  },
  {
   "cell_type": "code",
   "execution_count": 65,
   "metadata": {},
   "outputs": [
    {
     "name": "stdout",
     "output_type": "stream",
     "text": [
      "{'Leisure trip': 313593, 'Submitted from a mobile device': 230778, 'Couple': 189212, 'Stayed 1 night': 145373, 'Stayed 2 nights': 100263, 'Solo traveler': 81235, 'Stayed 3 nights': 72000, 'Business trip': 61989, 'Group': 49088, 'Family with young children': 45836, 'Stayed 4 nights': 35748, 'Double Room': 26386, 'Standard Double Room': 24151, 'Superior Double Room': 23550, 'Family with older children': 19802, 'Deluxe Double Room': 18623, 'Double or Twin Room': 16824, 'Stayed 5 nights': 15611, 'Standard Double or Twin Room': 13062, 'Classic Double Room': 12716, 'Superior Double or Twin Room': 10238, '2 rooms': 9287, 'Stayed 6 nights': 7399, 'Standard Twin Room': 7325, 'Single Room': 7227, 'Twin Room': 6279, 'Stayed 7 nights': 5549, 'Executive Double Room': 4763, 'Classic Double or Twin Room': 4576, 'Superior Twin Room': 4540, 'Club Double Room': 4485, 'Deluxe Double or Twin Room': 4465, 'Queen Room': 4071, 'Deluxe King Room': 3993, 'Superior Queen Room': 3686, 'Standard Single Room': 3470, 'Junior Suite': 3392, 'Triple Room': 3385, 'Classic Room': 3322, 'Superior Room': 3292, 'Superior King Room': 3208, 'Standard Room': 3171, 'Deluxe Room': 2956, 'Double Guest Room': 2629, 'Standard Queen Room': 2611, 'Deluxe Single Room': 2469, 'Small Double Room': 2373, 'Queen Guest Room': 2355, 'Deluxe Twin Room': 2309, 'King Room': 2135, 'Basic Double Room': 2125, 'Comfort Double Room': 2005, 'Executive King Room': 1962, 'Stayed 8 nights': 1910, 'Small Queen Room': 1890, 'Comfort Double or Twin Room': 1832, 'Double or Twin Room 1 2 Adults': 1812, 'Standard Double Room without Window': 1808, 'Classic Twin Room': 1798, 'Family Room': 1651, 'Twin Guest Room': 1643, 'Travelers with friends': 1630, 'Suite': 1404, 'Superior King or Twin Room': 1331, 'Deluxe King or Twin Room': 1234, 'Deluxe Double': 1232, 'King Guest Room': 1202, 'Cosy Double Room': 1191, 'Executive Double or Twin Room': 1061, 'Standard Double Twin Room': 1060, 'With a pet': 1045, 'Club Twin Room': 1039, 'Standard Triple Room': 1022, 'Double Hilton Guestroom': 1001, 'Double Room Non Smoking': 977, 'Stayed 9 nights': 966, 'Executive Room': 940, 'Standard': 934, 'Economy Double Room': 880, 'Quadruple Room': 873, 'Large Double Room': 867, 'Superior Single Room': 846, 'Executive Twin Room': 825, 'Luxury Double Room': 824, 'Superior Double Room with Internal View': 821, 'Double Room with Two Double Beds': 816, 'Classic Single Room': 803, 'Dorsett Double Room': 787, 'Premier Double Room': 765, 'Studio': 728, 'Superior Double or Twin Room 1 2 Adults': 723, 'Twin Hilton Guest Room': 711, 'Family Room 2 Adults 2 Children': 699, 'Compact Double Room': 685, 'Standard Room with 1 Double Bed': 677, 'City King or Twin Room': 676, 'Studio King Family': 664, 'Stayed 10 nights': 663, 'Classic Queen Room': 591, 'Deluxe Queen Room': 566, 'City King Room': 551, 'Queen or Two Double Beds Room': 549, 'Standard Double': 547, 'Superior Triple Room': 546, 'Deluxe Triple Room': 544, 'Studio Suite': 543, 'Queen Room Non Smoking': 526, 'Superior Twin Room with Internal View': 518, 'Twin Room Non Smoking': 509, 'King Hilton Guest Room': 490, 'One Bedroom Suite': 489, 'Double Room 1 Adult': 483, 'Double Room with View': 478, 'Art King Room': 467, 'Executive King Room with Lounge Access': 452, 'Standard King Room': 450, 'Premium Double Room': 449, 'Deluxe Room Barlow Wing': 446, 'Double Room with Courtyard View': 442, 'Deluxe King Room with River View': 414, 'Studio Double Family': 395, 'Double or Twin Room Non Smoking': 394, 'Double Room 1 2 Adults': 393, 'Queen Room Mobility Access': 390, 'City Twin Room': 379, '3 rooms': 360, 'Double Room with Sofa Bed': 358, 'Cosy Single Room': 356, 'Standard Double Room No Window': 348, 'Room Selected at Check In': 321, 'Superior Shard King': 308, 'Stayed 11 nights': 306, 'Comfort Triple Room': 304, 'Deluxe King Room Balcony with Eiffel Tower View': 303, 'Superior Double Room Disability Access': 300, 'Double or Twin Room with Spa Access': 296, 'Double Deluxe Room': 290, 'Deluxe King Room with City View': 289, 'Double Room with Spa Bath': 288, 'Double Room with Terrace': 285, 'Deluxe with Two Double Beds': 280, 'Deluxe King Room with Stadium View': 279, 'Club Single Room': 278, 'Standard Double Room with Bridge View': 271, 'Double or Twin Ground Floor': 270, 'Standard Room with 1 Single Bed': 268, 'One Bedroom Apartment': 264, 'Queen Room with Mobility Access': 259, 'Deluxe One Bedroom Apartment': 258, 'Deluxe Double Room with Two Double Beds': 252, 'Double Room with City View': 251, 'Basic Single Room': 241, 'Duplex Double Room': 234, 'Luxury Room': 233, 'Large Twin Room': 231, 'Standard Room with Spa access': 227, 'Deluxe Double or Twin Room with Canal View': 226, 'Deluxe Double Room 1 2 Adults': 225, 'Double Room with Sofa Bed Non Smoking': 224, 'Standard Room with 2 Single Beds': 223, 'Superior Double Room with City View': 222, 'Queen Hilton Guest Room': 221, 'Stayed 12 nights': 217, 'Superior Double or Twin Room with View': 216, 'Executive Double Room River View': 214, 'Standard Room 1 2 adults': 210, 'Superior': 209, 'Superior Room with Queen size bed and Sofa Bed': 205, 'Double Studio': 204, 'Superior Deluxe Room': 202, 'Queen Guest Room with Sofa Bed': 200, 'Superior Double Room with Terrace': 198, 'Business Double Room': 197, 'Deluxe King Room with Balcony': 194, 'Superior Room with Queensize Bed and double couch 2 adults 2 children': 193, 'Double or Twin Room with City View': 192, 'Double Hilton Deluxe Room': 188, 'Double or Twin Room with Courtyard View': 185, 'Stayed 14 nights': 184, 'Deluxe Double Room with View': 179, 'Superior Double': 177, 'Quality Double or Twin Room': 176, 'Privilege Double Room': 175, 'Stayed 13 nights': 174, 'King Double Room': 173, 'Studio Triple': 172, 'Large Room': 171, 'Deluxe King with Balcony': 170, 'Superior King Room Barlow Wing': 169, 'Triple Room 2 Adults 1 Child': 168, 'Double Room with Eiffel Tower View': 165, 'Wonderful Room': 164, 'Junior Double Room': 163, 'Studio King': 161, 'Studio Double Room': 157, 'Classic Room with Courtyard View': 156, 'Cabin Single Room': 154, 'Double or Twin Room with Balcony': 152, 'Double Room with Extra Bed': 150, 'Executive Suite': 149, 'Urban Double or Twin Room': 147, 'Double Suite': 146, 'Superior Double Room with Balcony': 143, 'Dalston King': 142, 'Family Room 3 Adults': 140, 'Executive Queen Room with Lounge Access': 139, 'Club Room': 138, 'Superior Room with Spa access': 137, 'Queen Double Room': 136, 'Single Room with Shower': 135, 'Two Bedroom Apartment': 133, 'Family Room 4 Adults': 132, 'Superior Room with 1 Queen Bed': 131, 'Deluxe Studio': 130, 'Double Room Disability Access': 129, 'Double or Twin Room with Sea View': 128, 'Family Room with sofa bed': 127, 'Superior Double Room with Two Double Beds': 126, 'Grand Deluxe Double or Twin Room': 124, 'Two Connecting Double Rooms': 123, 'Deluxe Suite': 122, 'Classic Double or Twin Room with City View': 121, 'Signature Luxury King with Balcony': 120, 'Deluxe Double or Twin Room with City View': 119, 'Queen Hilton Superior Room': 118, 'Queen Room with Sofa Bed': 116, 'Superior Family Room': 115, 'Standard Double Room with View Terrace': 113, 'Twin Room Disability Access': 112, 'Deluxe Double Studio': 111, 'Souterraine Double or Twin Room': 110, 'Classic King Twin Room': 109, 'Superior Room with Queen Bed': 108, 'Standard Room with Double Bed and Sofa Bed': 107, 'Executive Studio City View Family': 105, 'River View Deluxe': 104, 'King Deluxe Guest Room': 103, 'Special Offer Superior Double Room': 102, 'Superior Queen Suite with Sofa Bed': 101, 'Twin Deluxe Room': 100, 'Standard Double Room with Park View': 99, 'Standard Double Room with Two Single Beds': 98, 'Deluxe Room with Two Double Beds': 97, 'Premier Twin Room': 96, 'Double Room Free Wi Fi': 95, 'Superior Plus Double Room': 94, 'Discovery Double Room': 93, 'Comfort Double or Twin Room Non Smoking': 92, 'Queen Bed Leisure': 91, 'Deluxe Double or Twin Room 2 adults 1 child': 90, 'Queen Room Upper Floors': 88, 'Comfort Single Room': 87, 'Single Room with Double Bed': 86, 'Queen Guestroom': 85, 'Standard Guest Room': 84, 'Club Double or Twin Room': 83, 'Maisonette': 82, 'King Deluxe Room': 81, 'Accessible Queen Guest Room': 80, 'Executive Club Room': 79, 'Junior Double': 78, 'Deluxe Double Room with Eiffel Tower view': 77, 'Deluxe Single Room with View': 76, 'Andaz Double Room': 75, 'Art Room with Iconic View': 74, 'Garden King Room': 73, 'Superior Double Double': 72, 'Double Family Guestroom': 71, 'Superior Room with Spa Fitness Access': 70, 'Superior Double Room with Balcony and City View': 69, 'Standard Double or Twin Room with Extra bed 2 Adults 1 Child': 68, 'Superior Room with Double Bed and Sofa Bed': 67, 'X Ordinary Room': 66, 'Design Double or Twin Room': 65, 'Classic Triple Room 3 Adults': 64, 'Deluxe Double Room with Private Access to Pool and Spa': 63, 'Queen Guest Room with River View': 62, 'Classic Double Room Loge Classique': 61, 'Premier King Room Barlow Wing': 60, 'Queen Deluxe Room': 59, 'King Superior Room': 58, 'Chelsea Twin Suite': 57, 'Queen or Twin Room': 56, 'Superior Twin Room with View': 55, 'Double Room Medium': 54, 'Double or Twin Room 2 Adults': 53, 'Superior King': 52, 'Condal Double or Twin Room': 51, 'Deluxe Double Room Annex': 50, 'Art Twin Room': 49, 'Large King Room': 48, 'Executive Junior Suite': 47, 'King Guest Room Wheelchair Accessible': 46, 'King Room with River View': 45, 'Super Deluxe Double Room': 44, 'Twin Deluxe Guest Room': 43, 'Double or Twin Room with Extra Bed 3 Adults': 42, 'King Hilton Plaza Room': 41, 'Superior Triple Room 3 Adults': 40, 'Hypoallergenic Double or Twin Room': 39, 'Standard Room Sopi': 38, 'Double or Twin Room Allergy Free': 37, 'Spare Room Double': 36, 'Classic Room with 2 double beds 2 Adults': 35, 'Privilege Room with 1 Kingsize Bed': 34, 'Superior Premium Queen Room': 33, 'Luxury Suite Patio': 32, 'Double Room Disability Access Non Smoking': 31, 'Observatory King': 30, 'Suite with Balcony': 29, 'Deluxe Double Room without Window': 28, 'Apartment for 3 to 4 People with Kitchenette': 27, 'Superior Room with 1 Double bed and Sofa 3 adults': 26, 'Premium Double or Twin Room with View': 25, 'Twin Room with Extra Bed 3 Adults': 24, 'Standard Double Room with Sea View': 23, 'Deluxe Family Room with 1 Double and 2 Single Beds 4 Adults': 22, 'Double Twin Superior Room': 21, 'Double Room with Extra Bed 2 Adults 1 Child': 20, 'Two Bedroom Suite with Two Bathrooms': 19, 'Executive Family Room 2 Adults and 2 Children': 18, 'Room with Dock View Main Deck': 17, 'Privilege Junior Suite with Spa Access': 16, 'Executive room with Executive lounge access Free Wifi': 15, 'Superior Double or Twin Room with Parking': 14, 'Pasha Suite': 13, 'Double Room Ground Floor': 12, 'Superior Room for 1 2 people with Kitchenette': 11, 'Superior Double or Twin Room with Garden View': 10, 'Townhouse Club': 9, 'Club Double or Twin Room with Club Lounge Access': 8, 'Deluxe Double with Terrace': 7, 'Junior Suite Twin 1 2 Adults': 6, 'Junior Suite Blue': 5, 'Modern Double Room Echo': 4, 'Senior Suite 1 3 Adults': 3, 'Suite with Spa Access': 2, 'King Room with Sea View': 1}\n"
     ]
    }
   ],
   "source": [
    "# Отсоритируем словарь с тэгами по значению в порядке убывания \n",
    "\n",
    "sorted_values = sorted(uniq_tags_dict.values(),reverse=True) # Создадим отсортированный список со значениями \n",
    "sorted_dict = {} # пустой словарь, куда будем добавлять отсортированные ключи со значениями\n",
    "\n",
    "for i in sorted_values:\n",
    "    for k in uniq_tags_dict.keys():\n",
    "        if uniq_tags_dict[k] == i:\n",
    "            sorted_dict[k] = uniq_tags_dict[k]\n",
    "            break\n",
    "\n",
    "print(sorted_dict)"
   ]
  },
  {
   "cell_type": "code",
   "execution_count": 67,
   "metadata": {},
   "outputs": [
    {
     "data": {
      "text/plain": [
       "2368"
      ]
     },
     "execution_count": 67,
     "metadata": {},
     "output_type": "execute_result"
    }
   ],
   "source": [
    "len(uniq_tags_dict)"
   ]
  },
  {
   "cell_type": "code",
   "execution_count": 16,
   "metadata": {},
   "outputs": [],
   "source": [
    "X['review_date'] = pd.to_datetime(X['review_date'],yearfirst=True)"
   ]
  }
 ],
 "metadata": {
  "kernelspec": {
   "display_name": "Python 3.9.12 64-bit",
   "language": "python",
   "name": "python3"
  },
  "language_info": {
   "codemirror_mode": {
    "name": "ipython",
    "version": 3
   },
   "file_extension": ".py",
   "mimetype": "text/x-python",
   "name": "python",
   "nbconvert_exporter": "python",
   "pygments_lexer": "ipython3",
   "version": "3.9.12"
  },
  "vscode": {
   "interpreter": {
    "hash": "8c217115874aa3a99d670e318d7f682ebdb43585778ade470915451b5cfdc522"
   }
  }
 },
 "nbformat": 4,
 "nbformat_minor": 2
}
