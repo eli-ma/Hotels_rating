{
 "cells": [
  {
   "cell_type": "markdown",
   "metadata": {},
   "source": [
    "## Постановка задачи\n",
    "\n",
    "### Проблема:\n",
    "Booking — американский поисковик-агрегатор, позволяющий бронировать места в ресторанах, отелях, арендовать авто и т.д. Одна из проблем компании — это нечестные отели, которые накручивают себе рейтинг. Одним из способов обнаружения таких отелей является построение модели, которая предсказывает рейтинг отеля. Если предсказания модели сильно отличаются от фактического результата, то, возможно, отель ведёт себя нечестно, и его стоит проверить.\n",
    "\n",
    "### Задача:\n",
    "Создать модель, которая должна предсказывать рейтинг отеля по данным сайта Booking на основе имеющихся в датасете данных. "
   ]
  },
  {
   "cell_type": "code",
   "execution_count": 150,
   "metadata": {},
   "outputs": [],
   "source": [
    "import pandas as pd\n",
    "import category_encoders as ce\n",
    "import re # регулярные выражения"
   ]
  },
  {
   "cell_type": "markdown",
   "metadata": {},
   "source": [
    "## Информация о датасете"
   ]
  },
  {
   "attachments": {},
   "cell_type": "markdown",
   "metadata": {},
   "source": [
    "Первоначальная версия датасета содержит 17 полей со следующей информацией:\n",
    "\n",
    "* hotel_address — адрес отеля;\n",
    "* review_date — дата, когда рецензент разместил соответствующий отзыв;\n",
    "* average_score — средний балл отеля, рассчитанный на основе последнего комментария за последний год;\n",
    "* hotel_name — название отеля;\n",
    "* reviewer_nationality — страна рецензента;\n",
    "* negative_review — отрицательный отзыв, который рецензент дал отелю;\n",
    "* review_total_negative_word_counts — общее количество слов в отрицательном отзыве;\n",
    "* positive_review — положительный отзыв, который рецензент дал отелю;\n",
    "* review_total_positive_word_counts — общее количество слов в положительном отзыве.\n",
    "* reviewer_score — оценка, которую рецензент поставил отелю на основе своего опыта;\n",
    "* total_number_of_reviews_reviewer_has_given — количество отзывов, которые рецензенты дали в прошлом;\n",
    "* total_number_of_reviews — общее количество действительных отзывов об отеле;\n",
    "* tags — теги, которые рецензент дал отелю;\n",
    "* days_since_review — количество дней между датой проверки и датой очистки;\n",
    "* additional_number_of_scoring — есть также некоторые гости, которые просто поставили оценку сервису, но не оставили отзыв. Это число указывает, сколько там действительных оценок без проверки.\n",
    "* lat — географическая широта отеля;\n",
    "* lng — географическая долгота отеля.\n",
    "\n",
    "Размер таблицы: (386803;17)\n",
    "Пропуски в данных: 'lat', 'lng'"
   ]
  },
  {
   "cell_type": "code",
   "execution_count": 151,
   "metadata": {},
   "outputs": [
    {
     "name": "stdout",
     "output_type": "stream",
     "text": [
      "<class 'pandas.core.frame.DataFrame'>\n",
      "RangeIndex: 386803 entries, 0 to 386802\n",
      "Data columns (total 17 columns):\n",
      " #   Column                                      Non-Null Count   Dtype  \n",
      "---  ------                                      --------------   -----  \n",
      " 0   hotel_address                               386803 non-null  object \n",
      " 1   additional_number_of_scoring                386803 non-null  int64  \n",
      " 2   review_date                                 386803 non-null  object \n",
      " 3   average_score                               386803 non-null  float64\n",
      " 4   hotel_name                                  386803 non-null  object \n",
      " 5   reviewer_nationality                        386803 non-null  object \n",
      " 6   negative_review                             386803 non-null  object \n",
      " 7   review_total_negative_word_counts           386803 non-null  int64  \n",
      " 8   total_number_of_reviews                     386803 non-null  int64  \n",
      " 9   positive_review                             386803 non-null  object \n",
      " 10  review_total_positive_word_counts           386803 non-null  int64  \n",
      " 11  total_number_of_reviews_reviewer_has_given  386803 non-null  int64  \n",
      " 12  reviewer_score                              386803 non-null  float64\n",
      " 13  tags                                        386803 non-null  object \n",
      " 14  days_since_review                           386803 non-null  object \n",
      " 15  lat                                         384355 non-null  float64\n",
      " 16  lng                                         384355 non-null  float64\n",
      "dtypes: float64(4), int64(5), object(8)\n",
      "memory usage: 50.2+ MB\n"
     ]
    }
   ],
   "source": [
    "hotels = pd.read_csv('hotels.csv')\n",
    "hotels.info()"
   ]
  },
  {
   "cell_type": "code",
   "execution_count": 152,
   "metadata": {},
   "outputs": [
    {
     "data": {
      "text/html": [
       "<div>\n",
       "<style scoped>\n",
       "    .dataframe tbody tr th:only-of-type {\n",
       "        vertical-align: middle;\n",
       "    }\n",
       "\n",
       "    .dataframe tbody tr th {\n",
       "        vertical-align: top;\n",
       "    }\n",
       "\n",
       "    .dataframe thead th {\n",
       "        text-align: right;\n",
       "    }\n",
       "</style>\n",
       "<table border=\"1\" class=\"dataframe\">\n",
       "  <thead>\n",
       "    <tr style=\"text-align: right;\">\n",
       "      <th></th>\n",
       "      <th>hotel_address</th>\n",
       "      <th>additional_number_of_scoring</th>\n",
       "      <th>review_date</th>\n",
       "      <th>average_score</th>\n",
       "      <th>hotel_name</th>\n",
       "      <th>reviewer_nationality</th>\n",
       "      <th>negative_review</th>\n",
       "      <th>review_total_negative_word_counts</th>\n",
       "      <th>total_number_of_reviews</th>\n",
       "      <th>positive_review</th>\n",
       "      <th>review_total_positive_word_counts</th>\n",
       "      <th>total_number_of_reviews_reviewer_has_given</th>\n",
       "      <th>reviewer_score</th>\n",
       "      <th>tags</th>\n",
       "      <th>days_since_review</th>\n",
       "      <th>lat</th>\n",
       "      <th>lng</th>\n",
       "    </tr>\n",
       "  </thead>\n",
       "  <tbody>\n",
       "    <tr>\n",
       "      <th>0</th>\n",
       "      <td>Stratton Street Mayfair Westminster Borough Lo...</td>\n",
       "      <td>581</td>\n",
       "      <td>2/19/2016</td>\n",
       "      <td>8.4</td>\n",
       "      <td>The May Fair Hotel</td>\n",
       "      <td>United Kingdom</td>\n",
       "      <td>Leaving</td>\n",
       "      <td>3</td>\n",
       "      <td>1994</td>\n",
       "      <td>Staff were amazing</td>\n",
       "      <td>4</td>\n",
       "      <td>7</td>\n",
       "      <td>10.0</td>\n",
       "      <td>[' Leisure trip ', ' Couple ', ' Studio Suite ...</td>\n",
       "      <td>531 day</td>\n",
       "      <td>51.507894</td>\n",
       "      <td>-0.143671</td>\n",
       "    </tr>\n",
       "    <tr>\n",
       "      <th>1</th>\n",
       "      <td>130 134 Southampton Row Camden London WC1B 5AF...</td>\n",
       "      <td>299</td>\n",
       "      <td>1/12/2017</td>\n",
       "      <td>8.3</td>\n",
       "      <td>Mercure London Bloomsbury Hotel</td>\n",
       "      <td>United Kingdom</td>\n",
       "      <td>poor breakfast</td>\n",
       "      <td>3</td>\n",
       "      <td>1361</td>\n",
       "      <td>location</td>\n",
       "      <td>2</td>\n",
       "      <td>14</td>\n",
       "      <td>6.3</td>\n",
       "      <td>[' Business trip ', ' Couple ', ' Standard Dou...</td>\n",
       "      <td>203 day</td>\n",
       "      <td>51.521009</td>\n",
       "      <td>-0.123097</td>\n",
       "    </tr>\n",
       "    <tr>\n",
       "      <th>2</th>\n",
       "      <td>151 bis Rue de Rennes 6th arr 75006 Paris France</td>\n",
       "      <td>32</td>\n",
       "      <td>10/18/2016</td>\n",
       "      <td>8.9</td>\n",
       "      <td>Legend Saint Germain by Elegancia</td>\n",
       "      <td>China</td>\n",
       "      <td>No kettle in room</td>\n",
       "      <td>6</td>\n",
       "      <td>406</td>\n",
       "      <td>No Positive</td>\n",
       "      <td>0</td>\n",
       "      <td>14</td>\n",
       "      <td>7.5</td>\n",
       "      <td>[' Leisure trip ', ' Solo traveler ', ' Modern...</td>\n",
       "      <td>289 day</td>\n",
       "      <td>48.845377</td>\n",
       "      <td>2.325643</td>\n",
       "    </tr>\n",
       "    <tr>\n",
       "      <th>3</th>\n",
       "      <td>216 Avenue Jean Jaures 19th arr 75019 Paris Fr...</td>\n",
       "      <td>34</td>\n",
       "      <td>9/22/2015</td>\n",
       "      <td>7.5</td>\n",
       "      <td>Mercure Paris 19 Philharmonie La Villette</td>\n",
       "      <td>United Kingdom</td>\n",
       "      <td>No Negative</td>\n",
       "      <td>0</td>\n",
       "      <td>607</td>\n",
       "      <td>Friendly staff quiet comfortable room spotles...</td>\n",
       "      <td>11</td>\n",
       "      <td>8</td>\n",
       "      <td>10.0</td>\n",
       "      <td>[' Leisure trip ', ' Solo traveler ', ' Standa...</td>\n",
       "      <td>681 day</td>\n",
       "      <td>48.888697</td>\n",
       "      <td>2.394540</td>\n",
       "    </tr>\n",
       "    <tr>\n",
       "      <th>4</th>\n",
       "      <td>Molenwerf 1 1014 AG Amsterdam Netherlands</td>\n",
       "      <td>914</td>\n",
       "      <td>3/5/2016</td>\n",
       "      <td>8.5</td>\n",
       "      <td>Golden Tulip Amsterdam West</td>\n",
       "      <td>Poland</td>\n",
       "      <td>Torn sheets</td>\n",
       "      <td>4</td>\n",
       "      <td>7586</td>\n",
       "      <td>The staff was very friendly and helpful Break...</td>\n",
       "      <td>20</td>\n",
       "      <td>10</td>\n",
       "      <td>9.6</td>\n",
       "      <td>[' Business trip ', ' Couple ', ' Standard Dou...</td>\n",
       "      <td>516 day</td>\n",
       "      <td>52.385601</td>\n",
       "      <td>4.847060</td>\n",
       "    </tr>\n",
       "  </tbody>\n",
       "</table>\n",
       "</div>"
      ],
      "text/plain": [
       "                                       hotel_address  \\\n",
       "0  Stratton Street Mayfair Westminster Borough Lo...   \n",
       "1  130 134 Southampton Row Camden London WC1B 5AF...   \n",
       "2   151 bis Rue de Rennes 6th arr 75006 Paris France   \n",
       "3  216 Avenue Jean Jaures 19th arr 75019 Paris Fr...   \n",
       "4          Molenwerf 1 1014 AG Amsterdam Netherlands   \n",
       "\n",
       "   additional_number_of_scoring review_date  average_score  \\\n",
       "0                           581   2/19/2016            8.4   \n",
       "1                           299   1/12/2017            8.3   \n",
       "2                            32  10/18/2016            8.9   \n",
       "3                            34   9/22/2015            7.5   \n",
       "4                           914    3/5/2016            8.5   \n",
       "\n",
       "                                  hotel_name reviewer_nationality  \\\n",
       "0                         The May Fair Hotel      United Kingdom    \n",
       "1            Mercure London Bloomsbury Hotel      United Kingdom    \n",
       "2          Legend Saint Germain by Elegancia               China    \n",
       "3  Mercure Paris 19 Philharmonie La Villette      United Kingdom    \n",
       "4                Golden Tulip Amsterdam West              Poland    \n",
       "\n",
       "       negative_review  review_total_negative_word_counts  \\\n",
       "0             Leaving                                   3   \n",
       "1       poor breakfast                                  3   \n",
       "2   No kettle in room                                   6   \n",
       "3          No Negative                                  0   \n",
       "4         Torn sheets                                   4   \n",
       "\n",
       "   total_number_of_reviews                                    positive_review  \\\n",
       "0                     1994                                 Staff were amazing   \n",
       "1                     1361                                           location   \n",
       "2                      406                                        No Positive   \n",
       "3                      607   Friendly staff quiet comfortable room spotles...   \n",
       "4                     7586   The staff was very friendly and helpful Break...   \n",
       "\n",
       "   review_total_positive_word_counts  \\\n",
       "0                                  4   \n",
       "1                                  2   \n",
       "2                                  0   \n",
       "3                                 11   \n",
       "4                                 20   \n",
       "\n",
       "   total_number_of_reviews_reviewer_has_given  reviewer_score  \\\n",
       "0                                           7            10.0   \n",
       "1                                          14             6.3   \n",
       "2                                          14             7.5   \n",
       "3                                           8            10.0   \n",
       "4                                          10             9.6   \n",
       "\n",
       "                                                tags days_since_review  \\\n",
       "0  [' Leisure trip ', ' Couple ', ' Studio Suite ...           531 day   \n",
       "1  [' Business trip ', ' Couple ', ' Standard Dou...           203 day   \n",
       "2  [' Leisure trip ', ' Solo traveler ', ' Modern...           289 day   \n",
       "3  [' Leisure trip ', ' Solo traveler ', ' Standa...           681 day   \n",
       "4  [' Business trip ', ' Couple ', ' Standard Dou...           516 day   \n",
       "\n",
       "         lat       lng  \n",
       "0  51.507894 -0.143671  \n",
       "1  51.521009 -0.123097  \n",
       "2  48.845377  2.325643  \n",
       "3  48.888697  2.394540  \n",
       "4  52.385601  4.847060  "
      ]
     },
     "execution_count": 152,
     "metadata": {},
     "output_type": "execute_result"
    }
   ],
   "source": [
    "hotels = pd.read_csv('hotels.csv')\n",
    "hotels.head(5)"
   ]
  },
  {
   "attachments": {},
   "cell_type": "markdown",
   "metadata": {},
   "source": [
    "Признаков типа object  а данной таблице всего 8 шт:\n",
    "1. hotel_address ✓\n",
    "2. review_date ✓\n",
    "3. hotel_name ✓\n",
    "4. reviewer_nationality проверить на корреляцию, не знаю чем может пригодиться\n",
    "5. negative_review\n",
    "6. positive_review\n",
    "7. tags ✓\n",
    "8. days_since_review ✓\n",
    "\n",
    "### Подзадача:\n",
    "Получить информацию из признаков типа object, которая может пригодиться для обучения модели."
   ]
  },
  {
   "attachments": {},
   "cell_type": "markdown",
   "metadata": {},
   "source": [
    "## Обработка признаков типа object"
   ]
  },
  {
   "attachments": {},
   "cell_type": "markdown",
   "metadata": {},
   "source": [
    "### ✓1. Обработка признака review_date"
   ]
  },
  {
   "cell_type": "code",
   "execution_count": 153,
   "metadata": {},
   "outputs": [],
   "source": [
    "# Преобразуем информацию о дате в формат datetime\n",
    "hotels['review_date'] = pd.to_datetime(hotels['review_date'],yearfirst=True)\n",
    "\n",
    "#Вынесем информацию о годе и месяце в отдельные признаки\n",
    "hotels['review_year'] = hotels['review_date'].dt.year\n",
    "hotels['review_month'] = hotels['review_date'].dt.month\n",
    "\n",
    "#Удалим исходный признак\n",
    "hotels = hotels.drop('review_date',axis=1)"
   ]
  },
  {
   "attachments": {},
   "cell_type": "markdown",
   "metadata": {},
   "source": [
    "### ✓2. Обработка признака tags"
   ]
  },
  {
   "cell_type": "markdown",
   "metadata": {},
   "source": [
    "Признак 'tags' содержит информацию о тэгах пользователей, оставленных в каждом коментариии к отелю, инфромация в ячейках представлена в виде строки. Нам необходимо получить из строки список тэгов. "
   ]
  },
  {
   "cell_type": "code",
   "execution_count": 154,
   "metadata": {},
   "outputs": [],
   "source": [
    "# Функция принимает строку с тэгами и возвращает список тэгов\n",
    "def get_tags_list(tags_str):\n",
    "\n",
    "    tags_list = tags_str[1:-1] # удаляем скобки вначале и в конце строки\n",
    "    tags_list = tags_list.replace(\"' \",\"\") # удаляем кавычки вначале тэга\n",
    "    tags_list = tags_list.replace(\" '\",\"\") # удаляем кавычки вконце тэга\n",
    "    tags_list = tags_list.split(', ') # разделяем строку на отдельные тэги\n",
    "    return tags_list\n",
    "\n",
    "hotels['tags'] = hotels['tags'].apply(get_tags_list)"
   ]
  },
  {
   "cell_type": "markdown",
   "metadata": {},
   "source": [
    "Попробуем выяснить какие тэги пользователи оставляли чаще, а какие реже."
   ]
  },
  {
   "cell_type": "code",
   "execution_count": 155,
   "metadata": {},
   "outputs": [
    {
     "name": "stdout",
     "output_type": "stream",
     "text": [
      "Количество уникальных тэгов в таблице: 2368\n",
      "{'Leisure trip': 313593, 'Submitted from a mobile device': 230778, 'Couple': 189212, 'Stayed 1 night': 145373, 'Stayed 2 nights': 100263, 'Solo traveler': 81235, 'Stayed 3 nights': 72000, 'Business trip': 61989, 'Group': 49088, 'Family with young children': 45836, 'Stayed 4 nights': 35748, 'Double Room': 26386, 'Standard Double Room': 24151, 'Superior Double Room': 23550, 'Family with older children': 19802, 'Deluxe Double Room': 18623, 'Double or Twin Room': 16824, 'Stayed 5 nights': 15611, 'Standard Double or Twin Room': 13062, 'Classic Double Room': 12716, 'Superior Double or Twin Room': 10238, '2 rooms': 9287, 'Stayed 6 nights': 7399, 'Standard Twin Room': 7325, 'Single Room': 7227, 'Twin Room': 6279, 'Stayed 7 nights': 5549, 'Executive Double Room': 4763, 'Classic Double or Twin Room': 4576, 'Superior Twin Room': 4540, 'Club Double Room': 4485, 'Deluxe Double or Twin Room': 4465, 'Queen Room': 4071, 'Deluxe King Room': 3993, 'Superior Queen Room': 3686, 'Standard Single Room': 3470, 'Junior Suite': 3392, 'Triple Room': 3385, 'Classic Room': 3322, 'Superior Room': 3292, 'Superior King Room': 3208, 'Standard Room': 3171, 'Deluxe Room': 2956, 'Double Guest Room': 2629, 'Standard Queen Room': 2611, 'Deluxe Single Room': 2469, 'Small Double Room': 2373, 'Queen Guest Room': 2355, 'Deluxe Twin Room': 2309, 'King Room': 2135, 'Basic Double Room': 2125, 'Comfort Double Room': 2005, 'Executive King Room': 1962, 'Stayed 8 nights': 1910, 'Small Queen Room': 1890, 'Comfort Double or Twin Room': 1832, 'Double or Twin Room 1 2 Adults': 1812, 'Standard Double Room without Window': 1808, 'Classic Twin Room': 1798, 'Family Room': 1651, 'Twin Guest Room': 1643, 'Travelers with friends': 1630, 'Suite': 1404, 'Superior King or Twin Room': 1331, 'Deluxe King or Twin Room': 1234, 'Deluxe Double': 1232, 'King Guest Room': 1202, 'Cosy Double Room': 1191, 'Executive Double or Twin Room': 1061, 'Standard Double Twin Room': 1060, 'With a pet': 1045, 'Club Twin Room': 1039, 'Standard Triple Room': 1022, 'Double Hilton Guestroom': 1001, 'Double Room Non Smoking': 977, 'Stayed 9 nights': 966, 'Executive Room': 940, 'Standard': 934, 'Economy Double Room': 880, 'Quadruple Room': 873, 'Large Double Room': 867, 'Superior Single Room': 846, 'Executive Twin Room': 825, 'Luxury Double Room': 824, 'Superior Double Room with Internal View': 821, 'Double Room with Two Double Beds': 816, 'Classic Single Room': 803, 'Dorsett Double Room': 787, 'Premier Double Room': 765, 'Studio': 728, 'Superior Double or Twin Room 1 2 Adults': 723, 'Twin Hilton Guest Room': 711, 'Family Room 2 Adults 2 Children': 699, 'Compact Double Room': 685, 'Standard Room with 1 Double Bed': 677, 'City King or Twin Room': 676, 'Studio King Family': 664, 'Stayed 10 nights': 663, 'Classic Queen Room': 591, 'Deluxe Queen Room': 566, 'City King Room': 551, 'Queen or Two Double Beds Room': 549, 'Standard Double': 547, 'Superior Triple Room': 546, 'Deluxe Triple Room': 544, 'Studio Suite': 543, 'Queen Room Non Smoking': 526, 'Superior Twin Room with Internal View': 518, 'Twin Room Non Smoking': 509, 'King Hilton Guest Room': 490, 'One Bedroom Suite': 489, 'Double Room 1 Adult': 483, 'Double Room with View': 478, 'Art King Room': 467, 'Executive King Room with Lounge Access': 452, 'Standard King Room': 450, 'Premium Double Room': 449, 'Deluxe Room Barlow Wing': 446, 'Double Room with Courtyard View': 442, 'Deluxe King Room with River View': 414, 'Studio Double Family': 395, 'Double or Twin Room Non Smoking': 394, 'Double Room 1 2 Adults': 393, 'Queen Room Mobility Access': 390, 'City Twin Room': 379, '3 rooms': 360, 'Double Room with Sofa Bed': 358, 'Cosy Single Room': 356, 'Standard Double Room No Window': 348, 'Room Selected at Check In': 321, 'Superior Shard King': 308, 'Stayed 11 nights': 306, 'Comfort Triple Room': 304, 'Deluxe King Room Balcony with Eiffel Tower View': 303, 'Superior Double Room Disability Access': 300, 'Double or Twin Room with Spa Access': 296, 'Double Deluxe Room': 290, 'Deluxe King Room with City View': 289, 'Double Room with Spa Bath': 288, 'Double Room with Terrace': 285, 'Deluxe with Two Double Beds': 280, 'Deluxe King Room with Stadium View': 279, 'Club Single Room': 278, 'Standard Double Room with Bridge View': 271, 'Double or Twin Ground Floor': 270, 'Standard Room with 1 Single Bed': 268, 'One Bedroom Apartment': 264, 'Queen Room with Mobility Access': 259, 'Deluxe One Bedroom Apartment': 258, 'Deluxe Double Room with Two Double Beds': 252, 'Double Room with City View': 251, 'Basic Single Room': 241, 'Duplex Double Room': 234, 'Luxury Room': 233, 'Large Twin Room': 231, 'Standard Room with Spa access': 227, 'Deluxe Double or Twin Room with Canal View': 226, 'Deluxe Double Room 1 2 Adults': 225, 'Double Room with Sofa Bed Non Smoking': 224, 'Standard Room with 2 Single Beds': 223, 'Superior Double Room with City View': 222, 'Queen Hilton Guest Room': 221, 'Stayed 12 nights': 217, 'Superior Double or Twin Room with View': 216, 'Executive Double Room River View': 214, 'Standard Room 1 2 adults': 210, 'Superior': 209, 'Superior Room with Queen size bed and Sofa Bed': 205, 'Double Studio': 204, 'Superior Deluxe Room': 202, 'Queen Guest Room with Sofa Bed': 200, 'Superior Double Room with Terrace': 198, 'Business Double Room': 197, 'Deluxe King Room with Balcony': 194, 'Superior Room with Queensize Bed and double couch 2 adults 2 children': 193, 'Double or Twin Room with City View': 192, 'Double Hilton Deluxe Room': 188, 'Double or Twin Room with Courtyard View': 185, 'Stayed 14 nights': 184, 'Deluxe Double Room with View': 179, 'Superior Double': 177, 'Quality Double or Twin Room': 176, 'Privilege Double Room': 175, 'Stayed 13 nights': 174, 'King Double Room': 173, 'Studio Triple': 172, 'Large Room': 171, 'Deluxe King with Balcony': 170, 'Superior King Room Barlow Wing': 169, 'Triple Room 2 Adults 1 Child': 168, 'Double Room with Eiffel Tower View': 165, 'Wonderful Room': 164, 'Junior Double Room': 163, 'Studio King': 161, 'Studio Double Room': 157, 'Classic Room with Courtyard View': 156, 'Cabin Single Room': 154, 'Double or Twin Room with Balcony': 152, 'Double Room with Extra Bed': 150, 'Executive Suite': 149, 'Urban Double or Twin Room': 147, 'Double Suite': 146, 'Superior Double Room with Balcony': 143, 'Dalston King': 142, 'Family Room 3 Adults': 140, 'Executive Queen Room with Lounge Access': 139, 'Club Room': 138, 'Superior Room with Spa access': 137, 'Queen Double Room': 136, 'Single Room with Shower': 135, 'Two Bedroom Apartment': 133, 'Family Room 4 Adults': 132, 'Superior Room with 1 Queen Bed': 131, 'Deluxe Studio': 130, 'Double Room Disability Access': 129, 'Double or Twin Room with Sea View': 128, 'Family Room with sofa bed': 127, 'Superior Double Room with Two Double Beds': 126, 'Grand Deluxe Double or Twin Room': 124, 'Two Connecting Double Rooms': 123, 'Deluxe Suite': 122, 'Classic Double or Twin Room with City View': 121, 'Signature Luxury King with Balcony': 120, 'Deluxe Double or Twin Room with City View': 119, 'Queen Hilton Superior Room': 118, 'Queen Room with Sofa Bed': 116, 'Superior Family Room': 115, 'Standard Double Room with View Terrace': 113, 'Twin Room Disability Access': 112, 'Deluxe Double Studio': 111, 'Souterraine Double or Twin Room': 110, 'Classic King Twin Room': 109, 'Superior Room with Queen Bed': 108, 'Standard Room with Double Bed and Sofa Bed': 107, 'Executive Studio City View Family': 105, 'River View Deluxe': 104, 'King Deluxe Guest Room': 103, 'Special Offer Superior Double Room': 102, 'Superior Queen Suite with Sofa Bed': 101, 'Twin Deluxe Room': 100, 'Standard Double Room with Park View': 99, 'Standard Double Room with Two Single Beds': 98, 'Deluxe Room with Two Double Beds': 97, 'Premier Twin Room': 96, 'Double Room Free Wi Fi': 95, 'Superior Plus Double Room': 94, 'Discovery Double Room': 93, 'Comfort Double or Twin Room Non Smoking': 92, 'Queen Bed Leisure': 91, 'Deluxe Double or Twin Room 2 adults 1 child': 90, 'Queen Room Upper Floors': 88, 'Comfort Single Room': 87, 'Single Room with Double Bed': 86, 'Queen Guestroom': 85, 'Standard Guest Room': 84, 'Club Double or Twin Room': 83, 'Maisonette': 82, 'King Deluxe Room': 81, 'Accessible Queen Guest Room': 80, 'Executive Club Room': 79, 'Junior Double': 78, 'Deluxe Double Room with Eiffel Tower view': 77, 'Deluxe Single Room with View': 76, 'Andaz Double Room': 75, 'Art Room with Iconic View': 74, 'Garden King Room': 73, 'Superior Double Double': 72, 'Double Family Guestroom': 71, 'Superior Room with Spa Fitness Access': 70, 'Superior Double Room with Balcony and City View': 69, 'Standard Double or Twin Room with Extra bed 2 Adults 1 Child': 68, 'Superior Room with Double Bed and Sofa Bed': 67, 'X Ordinary Room': 66, 'Design Double or Twin Room': 65, 'Classic Triple Room 3 Adults': 64, 'Deluxe Double Room with Private Access to Pool and Spa': 63, 'Queen Guest Room with River View': 62, 'Classic Double Room Loge Classique': 61, 'Premier King Room Barlow Wing': 60, 'Queen Deluxe Room': 59, 'King Superior Room': 58, 'Chelsea Twin Suite': 57, 'Queen or Twin Room': 56, 'Superior Twin Room with View': 55, 'Double Room Medium': 54, 'Double or Twin Room 2 Adults': 53, 'Superior King': 52, 'Condal Double or Twin Room': 51, 'Deluxe Double Room Annex': 50, 'Art Twin Room': 49, 'Large King Room': 48, 'Executive Junior Suite': 47, 'King Guest Room Wheelchair Accessible': 46, 'King Room with River View': 45, 'Super Deluxe Double Room': 44, 'Twin Deluxe Guest Room': 43, 'Double or Twin Room with Extra Bed 3 Adults': 42, 'King Hilton Plaza Room': 41, 'Superior Triple Room 3 Adults': 40, 'Hypoallergenic Double or Twin Room': 39, 'Standard Room Sopi': 38, 'Double or Twin Room Allergy Free': 37, 'Spare Room Double': 36, 'Classic Room with 2 double beds 2 Adults': 35, 'Privilege Room with 1 Kingsize Bed': 34, 'Superior Premium Queen Room': 33, 'Luxury Suite Patio': 32, 'Double Room Disability Access Non Smoking': 31, 'Observatory King': 30, 'Suite with Balcony': 29, 'Deluxe Double Room without Window': 28, 'Apartment for 3 to 4 People with Kitchenette': 27, 'Superior Room with 1 Double bed and Sofa 3 adults': 26, 'Premium Double or Twin Room with View': 25, 'Twin Room with Extra Bed 3 Adults': 24, 'Standard Double Room with Sea View': 23, 'Deluxe Family Room with 1 Double and 2 Single Beds 4 Adults': 22, 'Double Twin Superior Room': 21, 'Double Room with Extra Bed 2 Adults 1 Child': 20, 'Two Bedroom Suite with Two Bathrooms': 19, 'Executive Family Room 2 Adults and 2 Children': 18, 'Room with Dock View Main Deck': 17, 'Privilege Junior Suite with Spa Access': 16, 'Executive room with Executive lounge access Free Wifi': 15, 'Superior Double or Twin Room with Parking': 14, 'Pasha Suite': 13, 'Double Room Ground Floor': 12, 'Superior Room for 1 2 people with Kitchenette': 11, 'Superior Double or Twin Room with Garden View': 10, 'Townhouse Club': 9, 'Club Double or Twin Room with Club Lounge Access': 8, 'Deluxe Double with Terrace': 7, 'Junior Suite Twin 1 2 Adults': 6, 'Junior Suite Blue': 5, 'Modern Double Room Echo': 4, 'Senior Suite 1 3 Adults': 3, 'Suite with Spa Access': 2, 'King Room with Sea View': 1}\n"
     ]
    }
   ],
   "source": [
    "# Функция принимает на вход список тэгов\n",
    "# и возвращает словарь тэгов, где значения - количество их повтров в ячейках таблицы\n",
    "\n",
    "uniq_tags_dict = dict() # задаем словарь, в который будем добавлять тэги\n",
    "\n",
    "def tags_count(tags_list):\n",
    "    for elem in tags_list:\n",
    "        if elem in uniq_tags_dict.keys():\n",
    "            uniq_tags_dict[elem] = int(uniq_tags_dict.get(elem)) + 1 \n",
    "        else:\n",
    "            uniq_tags_dict[elem] = 1\n",
    "    return(uniq_tags_dict)\n",
    "    \n",
    "hotels['tags'].apply(tags_count)\n",
    "\n",
    "# Количество уникальных тэгов в таблице\n",
    "print(\"Количество уникальных тэгов в таблице:\",len(uniq_tags_dict))\n",
    "\n",
    "# Отсоритируем словарь с тэгами по значению в порядке убывания (сохранение порядка элементов словаря\n",
    "# не гарантируется в версиях Python старше 3.7) \n",
    "\n",
    "sorted_values = sorted(uniq_tags_dict.values(),reverse=True) # Создадим отсортированный список со значениями \n",
    "sorted_dict = {} # пустой словарь, куда будем добавлять отсортированные ключи со значениями\n",
    "\n",
    "for i in sorted_values:\n",
    "    for k in uniq_tags_dict.keys():\n",
    "        if uniq_tags_dict[k] == i:\n",
    "            sorted_dict[k] = uniq_tags_dict[k]\n",
    "            break\n",
    "\n",
    "print(sorted_dict)"
   ]
  },
  {
   "cell_type": "markdown",
   "metadata": {},
   "source": [
    "Итак, в таблице 2368 уникальных тэга, из них чаще всего используется тэг 'Leisure trip' - 313593 раз, \n",
    "реже всего тэг 'King Room with Sea View' - 1 раз. Тэги, которые редко используют пользователи, не несут для нас полезной информации поэтому можно оставить только те тэги, которые чаще встречаются в датасете."
   ]
  },
  {
   "cell_type": "code",
   "execution_count": 156,
   "metadata": {},
   "outputs": [],
   "source": [
    "# Составим список топ-20 тэгов\n",
    "top_tags = list(sorted_dict.keys())[:20]\n",
    "\n",
    "# По каждому тэгу создадим отдельный признак, который будет содержать информацию о наличии или отутсвии тэга \n",
    "for tag in top_tags:\n",
    "    hotels[tag] = hotels.tags.apply(lambda x: 1 if tag in x else 0)\n",
    "    \n",
    "# Удаляем исходный столбец\n",
    "hotels = hotels.drop('tags',axis=1)"
   ]
  },
  {
   "attachments": {},
   "cell_type": "markdown",
   "metadata": {},
   "source": [
    "### ✓3. Обработка признака days_since_review"
   ]
  },
  {
   "attachments": {},
   "cell_type": "markdown",
   "metadata": {},
   "source": [
    "Признак days_since_review содержит информацию о количестве прошедших дней с момента создания отзыва в формате строки, вынесем из этого признака число дней"
   ]
  },
  {
   "cell_type": "code",
   "execution_count": 157,
   "metadata": {},
   "outputs": [],
   "source": [
    "# Функция принимает на вход строку и возвращает из нее число\n",
    "def get_day_count(string):\n",
    "    pattern = re.compile(r'\\d+') #задаем паттерн для поиска числа в строке\n",
    "    day_count = int(pattern.findall(string)[0]) #применяем паттерн и преобразуем строку в число\n",
    "    return day_count\n",
    "\n",
    "# Применим функцию к признаку days_since_review\n",
    "hotels['days_since_review'] = hotels['days_since_review'].apply(get_day_count)"
   ]
  },
  {
   "attachments": {},
   "cell_type": "markdown",
   "metadata": {},
   "source": [
    "### 4. Обработка признака reviewer_nationality"
   ]
  },
  {
   "attachments": {},
   "cell_type": "markdown",
   "metadata": {},
   "source": [
    "Скорее всего этот признак не принесет статистической значимости, окончательный вывод можно будет сделать после тестирования на корреляцию"
   ]
  },
  {
   "cell_type": "code",
   "execution_count": 158,
   "metadata": {},
   "outputs": [
    {
     "name": "stdout",
     "output_type": "stream",
     "text": [
      "Количество уникальных значений 225\n"
     ]
    }
   ],
   "source": [
    "print(\"Количество уникальных значений\",hotels['reviewer_nationality'].nunique())"
   ]
  },
  {
   "cell_type": "code",
   "execution_count": 159,
   "metadata": {},
   "outputs": [
    {
     "data": {
      "text/plain": [
       " United Kingdom               184033\n",
       " United States of America      26541\n",
       " Australia                     16239\n",
       " Ireland                       11126\n",
       " United Arab Emirates           7617\n",
       " Saudi Arabia                   6722\n",
       " Netherlands                    6608\n",
       " Switzerland                    6498\n",
       " Canada                         5984\n",
       " Germany                        5956\n",
       " France                         5543\n",
       " Israel                         4918\n",
       " Italy                          4562\n",
       " Belgium                        4529\n",
       " Turkey                         4105\n",
       " Kuwait                         3702\n",
       " Spain                          3529\n",
       " Romania                        3425\n",
       " Russia                         2953\n",
       " South Africa                   2888\n",
       "Name: reviewer_nationality, dtype: int64"
      ]
     },
     "execution_count": 159,
     "metadata": {},
     "output_type": "execute_result"
    }
   ],
   "source": [
    "# Топ 20 национальностей рецензентов\n",
    "hotels['reviewer_nationality'].value_counts()[:20]"
   ]
  },
  {
   "attachments": {},
   "cell_type": "markdown",
   "metadata": {},
   "source": [
    "Для того чтобы опредедить нужен ли признак для предсказательной модели, необходимо произвести корреляционный анализ"
   ]
  },
  {
   "attachments": {},
   "cell_type": "markdown",
   "metadata": {},
   "source": [
    "### 5. Обработка признака hotel_address"
   ]
  },
  {
   "attachments": {},
   "cell_type": "markdown",
   "metadata": {},
   "source": [
    "В адрессе старана, где находится отель обозначена в конце адресса. Наша задача попробовать получить из этой строки только название станы, в которой находится отель."
   ]
  },
  {
   "attachments": {},
   "cell_type": "markdown",
   "metadata": {},
   "source": [
    "Заметим, что национальность интервьюера записана в таком же формате, как название страны в адрессе отеля (т.е. без окончаний, только название страны), значит отсюда мы можем получить список из названий стран."
   ]
  },
  {
   "cell_type": "code",
   "execution_count": 160,
   "metadata": {},
   "outputs": [
    {
     "data": {
      "text/plain": [
       "[' United Kingdom',\n",
       " ' United States of America',\n",
       " ' Australia',\n",
       " ' Ireland',\n",
       " ' United Arab Emirates',\n",
       " ' Saudi Arabia',\n",
       " ' Netherlands',\n",
       " ' Switzerland',\n",
       " ' Canada',\n",
       " ' Germany',\n",
       " ' France',\n",
       " ' Israel',\n",
       " ' Italy',\n",
       " ' Belgium',\n",
       " ' Turkey',\n",
       " ' Kuwait',\n",
       " ' Spain',\n",
       " ' Romania',\n",
       " ' Russia',\n",
       " ' South Africa',\n",
       " ' China',\n",
       " ' Sweden',\n",
       " ' India',\n",
       " ' Greece',\n",
       " ' New Zealand',\n",
       " ' Singapore',\n",
       " ' Hong Kong',\n",
       " ' Poland',\n",
       " ' Qatar',\n",
       " ' Austria',\n",
       " ' Egypt',\n",
       " ' Norway',\n",
       " ' Czech Republic',\n",
       " ' Lebanon',\n",
       " ' Hungary',\n",
       " ' Malaysia',\n",
       " ' Thailand',\n",
       " ' Brazil',\n",
       " ' Portugal',\n",
       " ' Finland',\n",
       " ' Denmark',\n",
       " ' Malta',\n",
       " ' Bahrain',\n",
       " ' Indonesia',\n",
       " ' Oman',\n",
       " ' Luxembourg',\n",
       " ' Croatia',\n",
       " ' Bulgaria',\n",
       " ' Cyprus',\n",
       " ' Japan',\n",
       " ' Serbia',\n",
       " ' Iran',\n",
       " ' Ukraine',\n",
       " ' Philippines',\n",
       " ' South Korea',\n",
       " ' Nigeria',\n",
       " ' Iceland',\n",
       " ' Slovakia',\n",
       " ' Taiwan',\n",
       " ' Pakistan',\n",
       " ' Jersey',\n",
       " ' Slovenia',\n",
       " ' Jordan',\n",
       " ' Lithuania',\n",
       " ' Estonia',\n",
       " ' Latvia',\n",
       " ' Mexico',\n",
       " ' Guernsey',\n",
       " '',\n",
       " ' Argentina',\n",
       " ' Isle of Man',\n",
       " ' Gibraltar',\n",
       " ' Chile',\n",
       " ' Iraq',\n",
       " ' Albania',\n",
       " ' Azerbaijan',\n",
       " ' Georgia',\n",
       " ' Sri Lanka',\n",
       " ' Macedonia',\n",
       " ' Kazakhstan',\n",
       " ' Colombia',\n",
       " ' Kenya',\n",
       " ' Monaco',\n",
       " ' Bosnia and Herzegovina',\n",
       " ' Morocco',\n",
       " ' Mauritius',\n",
       " ' Vietnam',\n",
       " ' Montenegro',\n",
       " ' Belarus',\n",
       " ' Puerto Rico',\n",
       " ' Bangladesh',\n",
       " ' Abkhazia Georgia',\n",
       " ' Ghana',\n",
       " ' Trinidad and Tobago',\n",
       " ' Armenia',\n",
       " ' Costa Rica',\n",
       " ' Panama',\n",
       " ' Moldova',\n",
       " ' Bermuda',\n",
       " ' Peru',\n",
       " ' Brunei',\n",
       " ' Macau',\n",
       " ' Algeria',\n",
       " ' Libya',\n",
       " ' Tunisia',\n",
       " ' Uruguay',\n",
       " ' Namibia',\n",
       " ' Venezuela',\n",
       " ' Andorra',\n",
       " ' United States Minor Outlying Islands',\n",
       " ' Kosovo',\n",
       " ' Barbados',\n",
       " ' Ecuador',\n",
       " ' Angola',\n",
       " ' Tanzania',\n",
       " ' Palestinian Territory',\n",
       " ' Sudan',\n",
       " ' Uganda',\n",
       " ' Botswana',\n",
       " ' Zimbabwe',\n",
       " ' Guatemala',\n",
       " ' Dominican Republic',\n",
       " ' Maldives',\n",
       " ' Mongolia',\n",
       " ' Cayman Islands',\n",
       " ' Cura ao',\n",
       " ' Cambodia',\n",
       " ' Zambia',\n",
       " ' Ethiopia',\n",
       " ' Mozambique',\n",
       " ' Jamaica',\n",
       " ' Bahamas',\n",
       " ' Aruba',\n",
       " ' Syria',\n",
       " ' El Salvador',\n",
       " ' Senegal',\n",
       " ' Honduras',\n",
       " ' Paraguay',\n",
       " ' Seychelles',\n",
       " ' Liechtenstein',\n",
       " ' Myanmar',\n",
       " ' Ivory Coast',\n",
       " ' Uzbekistan',\n",
       " ' Nicaragua',\n",
       " ' Kyrgyzstan',\n",
       " ' Bolivia',\n",
       " ' Yemen',\n",
       " ' British Virgin Islands',\n",
       " ' Faroe Islands',\n",
       " ' Turks Caicos Islands',\n",
       " ' Antigua Barbuda',\n",
       " ' Rwanda',\n",
       " ' U S Virgin Islands',\n",
       " ' Guam',\n",
       " ' Papua New Guinea',\n",
       " ' Fiji',\n",
       " ' Tajikistan',\n",
       " ' Malawi',\n",
       " ' Dominica',\n",
       " ' Togo',\n",
       " ' Nepal',\n",
       " ' New Caledonia',\n",
       " ' Suriname',\n",
       " ' Madagascar',\n",
       " ' Swaziland',\n",
       " ' Saint Kitts and Nevis',\n",
       " ' Belize',\n",
       " ' St Maarten',\n",
       " ' Laos',\n",
       " ' Vanuatu',\n",
       " ' Saint Lucia',\n",
       " ' Afghanistan',\n",
       " ' Gabon',\n",
       " ' Democratic Republic of the Congo',\n",
       " ' Falkland Islands Malvinas',\n",
       " ' Sierra Leone',\n",
       " ' Mali',\n",
       " ' Martinique',\n",
       " ' Bhutan',\n",
       " ' Cameroon',\n",
       " ' Haiti',\n",
       " ' Mauritania',\n",
       " ' East Timor',\n",
       " ' Crimea',\n",
       " ' Reunion',\n",
       " ' Turkmenistan',\n",
       " ' Gambia',\n",
       " ' Guadeloupe',\n",
       " ' Samoa',\n",
       " ' French Guiana',\n",
       " ' Guyana',\n",
       " ' Benin',\n",
       " ' San Marino',\n",
       " ' Liberia',\n",
       " ' Central Africa Republic',\n",
       " ' Antarctica',\n",
       " ' St Pierre and Miquelon',\n",
       " ' Burundi',\n",
       " ' Eritrea',\n",
       " ' French Polynesia',\n",
       " ' Somalia',\n",
       " ' Kiribati',\n",
       " ' Niger',\n",
       " ' Djibouti',\n",
       " ' Montserrat',\n",
       " ' Equatorial Guinea',\n",
       " ' Saint Martin',\n",
       " ' Congo',\n",
       " ' Wallis and Futuna',\n",
       " ' Cocos K I',\n",
       " ' Lesotho',\n",
       " ' American Samoa',\n",
       " ' Svalbard Jan Mayen',\n",
       " ' Northern Mariana Islands',\n",
       " ' Palau',\n",
       " ' Saint Barts',\n",
       " ' Tuvalu',\n",
       " ' Bonaire St Eustatius and Saba',\n",
       " ' South Sudan',\n",
       " ' Saint Vincent Grenadines',\n",
       " ' Cook Islands',\n",
       " ' Guinea',\n",
       " ' Comoros',\n",
       " ' Anguilla',\n",
       " ' Grenada']"
      ]
     },
     "execution_count": 160,
     "metadata": {},
     "output_type": "execute_result"
    }
   ],
   "source": [
    "nat_list = list(hotels.reviewer_nationality.value_counts().index) # получаем названия национальностей\n",
    "# Для корректного поиска удаляем пробел в конце каждоый строки\n",
    "count_list = []\n",
    "for nat in nat_list:\n",
    "    nat = nat[:-1]\n",
    "    count_list.append(nat)\n",
    "# Получаем список названий стран\n",
    "count_list"
   ]
  },
  {
   "cell_type": "code",
   "execution_count": 161,
   "metadata": {},
   "outputs": [],
   "source": [
    "# Функция принимает на вход строку и если название страны есть найдено в строке, \n",
    "# функция вернет только назвние страны, в которой находится отель.\n",
    "\n",
    "def get_country(adress):\n",
    "    for elem in count_list:\n",
    "        if elem in adress:            \n",
    "            return elem\n",
    "\n",
    "# Получим новый признак с информацией о стране, в которой находится отель        \n",
    "hotels['hotel_country'] = hotels['hotel_address'].apply(get_country) \n",
    "# Удалим признак с полным адрессом отеля\n",
    "hotels = hotels.drop('hotel_address',axis=1)"
   ]
  },
  {
   "cell_type": "code",
   "execution_count": 162,
   "metadata": {},
   "outputs": [
    {
     "name": "stdout",
     "output_type": "stream",
     "text": [
      "Отели в датасете располагаются в 6 странах\n"
     ]
    }
   ],
   "source": [
    "print('Отели в датасете располагаются в',hotels['hotel_country'].nunique(),'странах')"
   ]
  },
  {
   "attachments": {},
   "cell_type": "markdown",
   "metadata": {},
   "source": [
    "Количество стран небольшое, значит данный признак можно будет в дальнейшем закодировать для обучения модели."
   ]
  },
  {
   "attachments": {},
   "cell_type": "markdown",
   "metadata": {},
   "source": [
    "### ✓6. Обработка признака hotel_name"
   ]
  },
  {
   "attachments": {},
   "cell_type": "markdown",
   "metadata": {},
   "source": [
    "Названия некоторых отелей в таблице повторяются более 1500 раз, что говорит о том, что данные отели являются сетевыми.\n",
    "На основе этой информации можно создать признак, который будет свидетельствовать о том, является отель частью большой сети отелей или нет."
   ]
  },
  {
   "cell_type": "code",
   "execution_count": 163,
   "metadata": {},
   "outputs": [],
   "source": [
    "# Создадим список топ 20 названий отелей по количеству отелей в сети\n",
    "top_20_hotel_names = hotels.hotel_name.value_counts()[:20]\n",
    "top_20_hotel_names = list(top_20_hotel_names.index)\n",
    "\n",
    "# Признак chain_hotel содержит информацию о принадлежности \n",
    "# или непринадлежности отеля к большой сети\n",
    "hotels['chain_hotel'] = hotels.hotel_name.apply(\n",
    "    lambda x: 1 if x in top_20_hotel_names else 0\n",
    "    )\n",
    "\n",
    "# Удалаяем столбец hotel_name\n",
    "hotels = hotels.drop('hotel_name',axis=1)"
   ]
  },
  {
   "attachments": {},
   "cell_type": "markdown",
   "metadata": {},
   "source": [
    "### 7. Обработка признака negative_review"
   ]
  },
  {
   "cell_type": "code",
   "execution_count": 164,
   "metadata": {},
   "outputs": [
    {
     "data": {
      "text/plain": [
       "No Negative                                                                                                                                                                                                                                                                                                                                                                    95907\n",
       " Nothing                                                                                                                                                                                                                                                                                                                                                                       10737\n",
       " Nothing                                                                                                                                                                                                                                                                                                                                                                        3154\n",
       " nothing                                                                                                                                                                                                                                                                                                                                                                        1660\n",
       " N A                                                                                                                                                                                                                                                                                                                                                                             802\n",
       "                                                                                                                                                                                                                                                                                                                                                                               ...  \n",
       " Cleanliness the walls are dirty Battery sink it s too short you can not wash No wardrobe in the room                                                                                                                                                                                                                                                                              1\n",
       " This hotel is perfect for younger people a dream hotel if you are 35 The reception desk is part of a great room which includes the very busy lounge and restaurant space In the evenings the hotel was vibrant full of people and very noisy which has a great appeal for many but was not ideal for older travellers like myself and my husband both of whom are over 50         1\n",
       " The restaurant was expensive                                                                                                                                                                                                                                                                                                                                                      1\n",
       " Noisy air con expensive                                                                                                                                                                                                                                                                                                                                                           1\n",
       " Patio outside could have been cleaned of algae to give a more uplifting atmosphere to a downstairs room                                                                                                                                                                                                                                                                           1\n",
       "Name: negative_review, Length: 248828, dtype: int64"
      ]
     },
     "execution_count": 164,
     "metadata": {},
     "output_type": "execute_result"
    }
   ],
   "source": [
    "hotels['negative_review'].value_counts()"
   ]
  },
  {
   "cell_type": "code",
   "execution_count": 165,
   "metadata": {},
   "outputs": [
    {
     "data": {
      "text/plain": [
       "Series([], Name: negative_review, dtype: int64)"
      ]
     },
     "execution_count": 165,
     "metadata": {},
     "output_type": "execute_result"
    }
   ],
   "source": [
    "hotels[hotels['negative_review']=='Positive']['negative_review'].value_counts()"
   ]
  },
  {
   "cell_type": "code",
   "execution_count": 166,
   "metadata": {},
   "outputs": [
    {
     "data": {
      "text/plain": [
       "2    10737\n",
       "Name: review_total_negative_word_counts, dtype: int64"
      ]
     },
     "execution_count": 166,
     "metadata": {},
     "output_type": "execute_result"
    }
   ],
   "source": [
    "hotels[hotels['negative_review']==' Nothing']['review_total_negative_word_counts'].value_counts()"
   ]
  },
  {
   "cell_type": "code",
   "execution_count": 167,
   "metadata": {},
   "outputs": [
    {
     "data": {
      "text/plain": [
       "No Negative          95907\n",
       " Nothing             10737\n",
       " Nothing              3154\n",
       " nothing              1660\n",
       " N A                   802\n",
       "                     ...  \n",
       " Nothing especial        1\n",
       " Foam pillows            1\n",
       " checking in             1\n",
       " firm pillows            1\n",
       " Shower in bath          1\n",
       "Name: negative_review, Length: 9970, dtype: int64"
      ]
     },
     "execution_count": 167,
     "metadata": {},
     "output_type": "execute_result"
    }
   ],
   "source": [
    "hotels[hotels['review_total_negative_word_counts']<5]['negative_review'].value_counts()"
   ]
  },
  {
   "cell_type": "code",
   "execution_count": 168,
   "metadata": {},
   "outputs": [
    {
     "data": {
      "text/plain": [
       "13     7869\n",
       "14     7474\n",
       "15     6870\n",
       "16     6681\n",
       "17     6275\n",
       "       ... \n",
       "400       1\n",
       "402       1\n",
       "398       1\n",
       "408       1\n",
       "392       1\n",
       "Name: review_total_negative_word_counts, Length: 390, dtype: int64"
      ]
     },
     "execution_count": 168,
     "metadata": {},
     "output_type": "execute_result"
    }
   ],
   "source": [
    "hotels[hotels['review_total_negative_word_counts']>12]['review_total_negative_word_counts'].value_counts()"
   ]
  },
  {
   "attachments": {},
   "cell_type": "markdown",
   "metadata": {},
   "source": [
    "### 8. Обработка признака positive_review"
   ]
  },
  {
   "cell_type": "code",
   "execution_count": 169,
   "metadata": {},
   "outputs": [
    {
     "data": {
      "text/html": [
       "<div>\n",
       "<style scoped>\n",
       "    .dataframe tbody tr th:only-of-type {\n",
       "        vertical-align: middle;\n",
       "    }\n",
       "\n",
       "    .dataframe tbody tr th {\n",
       "        vertical-align: top;\n",
       "    }\n",
       "\n",
       "    .dataframe thead th {\n",
       "        text-align: right;\n",
       "    }\n",
       "</style>\n",
       "<table border=\"1\" class=\"dataframe\">\n",
       "  <thead>\n",
       "    <tr style=\"text-align: right;\">\n",
       "      <th></th>\n",
       "      <th>review_total_negative_word_counts</th>\n",
       "      <th>positive_review</th>\n",
       "    </tr>\n",
       "  </thead>\n",
       "  <tbody>\n",
       "    <tr>\n",
       "      <th>0</th>\n",
       "      <td>3</td>\n",
       "      <td>Staff were amazing</td>\n",
       "    </tr>\n",
       "    <tr>\n",
       "      <th>1</th>\n",
       "      <td>3</td>\n",
       "      <td>location</td>\n",
       "    </tr>\n",
       "    <tr>\n",
       "      <th>2</th>\n",
       "      <td>6</td>\n",
       "      <td>No Positive</td>\n",
       "    </tr>\n",
       "    <tr>\n",
       "      <th>3</th>\n",
       "      <td>0</td>\n",
       "      <td>Friendly staff quiet comfortable room spotles...</td>\n",
       "    </tr>\n",
       "    <tr>\n",
       "      <th>4</th>\n",
       "      <td>4</td>\n",
       "      <td>The staff was very friendly and helpful Break...</td>\n",
       "    </tr>\n",
       "    <tr>\n",
       "      <th>5</th>\n",
       "      <td>2</td>\n",
       "      <td>Very nice hotel Price is excellent when compa...</td>\n",
       "    </tr>\n",
       "    <tr>\n",
       "      <th>6</th>\n",
       "      <td>6</td>\n",
       "      <td>Very central location 2 minutes walk from Glo...</td>\n",
       "    </tr>\n",
       "    <tr>\n",
       "      <th>7</th>\n",
       "      <td>40</td>\n",
       "      <td>The location is good for transport links espe...</td>\n",
       "    </tr>\n",
       "    <tr>\n",
       "      <th>8</th>\n",
       "      <td>30</td>\n",
       "      <td>staff very good location wonderful</td>\n",
       "    </tr>\n",
       "    <tr>\n",
       "      <th>9</th>\n",
       "      <td>47</td>\n",
       "      <td>No Positive</td>\n",
       "    </tr>\n",
       "  </tbody>\n",
       "</table>\n",
       "</div>"
      ],
      "text/plain": [
       "   review_total_negative_word_counts  \\\n",
       "0                                  3   \n",
       "1                                  3   \n",
       "2                                  6   \n",
       "3                                  0   \n",
       "4                                  4   \n",
       "5                                  2   \n",
       "6                                  6   \n",
       "7                                 40   \n",
       "8                                 30   \n",
       "9                                 47   \n",
       "\n",
       "                                     positive_review  \n",
       "0                                 Staff were amazing  \n",
       "1                                           location  \n",
       "2                                        No Positive  \n",
       "3   Friendly staff quiet comfortable room spotles...  \n",
       "4   The staff was very friendly and helpful Break...  \n",
       "5   Very nice hotel Price is excellent when compa...  \n",
       "6   Very central location 2 minutes walk from Glo...  \n",
       "7   The location is good for transport links espe...  \n",
       "8                staff very good location wonderful   \n",
       "9                                        No Positive  "
      ]
     },
     "execution_count": 169,
     "metadata": {},
     "output_type": "execute_result"
    }
   ],
   "source": [
    "hotels[['review_total_negative_word_counts','positive_review']][:10]"
   ]
  },
  {
   "cell_type": "code",
   "execution_count": 170,
   "metadata": {},
   "outputs": [],
   "source": [
    "hotels['negative_review'] = hotels['negative_review'].apply(\n",
    "    lambda x: x.replace('No Negative','Positive'))\n",
    "hotels['negative_review'] = hotels['negative_review'].apply(\n",
    "    lambda x: x.replace('N A','Positive'))\n",
    "hotels['negative_review'] = hotels['negative_review'].apply(\n",
    "    lambda x: x.replace('All good','Positive'))\n",
    "hotels['negative_review'] = hotels['negative_review'].apply(\n",
    "    lambda x: x.replace('No complaints','Positive'))\n",
    "hotels['negative_review'] = hotels['negative_review'].apply(\n",
    "    lambda x: x.replace('Nothing to dislike','Positive'))\n",
    "hotels['negative_review'] = hotels['negative_review'].apply(\n",
    "    lambda x: x.replace(' Nothing','Positive'))\n",
    "hotels['negative_review'] = hotels['negative_review'].apply(\n",
    "    lambda x: x.replace(' nothing','Positive'))\n",
    "hotels['negative_review'] = hotels['negative_review'].apply(\n",
    "    lambda x: x.replace('N a','Positive'))\n",
    "hotels['negative_review'] = hotels['negative_review'].apply(\n",
    "    lambda x: x.replace(' Positive','Positive'))\n",
    "hotels['negative_review'] = hotels['negative_review'].apply(\n",
    "    lambda x: x.replace('Positive really','Positive'))\n",
    "hotels['negative_review'] = hotels['negative_review'].apply(\n",
    "    lambda x: x.replace(' None','Positive'))\n",
    "\n",
    "hotels['positive_review'] = hotels['positive_review'].apply(\n",
    "    lambda x: x.replace('No Positive', 'Negative')) "
   ]
  },
  {
   "cell_type": "code",
   "execution_count": 181,
   "metadata": {},
   "outputs": [],
   "source": [
    "\n",
    "hotels['negative_review'] = hotels['negative_review'].apply(\n",
    "    lambda x: x.replace('      ','Positive'))"
   ]
  },
  {
   "cell_type": "code",
   "execution_count": 188,
   "metadata": {},
   "outputs": [
    {
     "data": {
      "text/plain": [
       "Positive                                                                                                                                                                                                                                                                                                                                                                       111123\n",
       "Positive                                                                                                                                                                                                                                                                                                                                                                         4082\n",
       "                                                                                                                                                                                                                                                                                                                                                                                  606\n",
       " Breakfast                                                                                                                                                                                                                                                                                                                                                                        296\n",
       " Small room                                                                                                                                                                                                                                                                                                                                                                       283\n",
       "                                                                                                                                                                                                                                                                                                                                                                                ...  \n",
       " Cleanliness the walls are dirty Battery sink it s too short you can not wash No wardrobe in the room                                                                                                                                                                                                                                                                               1\n",
       " This hotel is perfect for younger people a dream hotel if you are 35 The reception desk is part of a great room which includes the very busy lounge and restaurant space In the evenings the hotel was vibrant full of people and very noisy which has a great appeal for many but was not ideal for older travellers like myself and my husband both of whom are over 50          1\n",
       " The restaurant was expensive                                                                                                                                                                                                                                                                                                                                                       1\n",
       " Noisy air con expensive                                                                                                                                                                                                                                                                                                                                                            1\n",
       " Patio outside could have been cleaned of algae to give a more uplifting atmosphere to a downstairs room                                                                                                                                                                                                                                                                            1\n",
       "Name: negative_review, Length: 248581, dtype: int64"
      ]
     },
     "execution_count": 188,
     "metadata": {},
     "output_type": "execute_result"
    }
   ],
   "source": [
    "hotels['negative_review'].value_counts()"
   ]
  }
 ],
 "metadata": {
  "kernelspec": {
   "display_name": "Python 3.9.12 64-bit",
   "language": "python",
   "name": "python3"
  },
  "language_info": {
   "codemirror_mode": {
    "name": "ipython",
    "version": 3
   },
   "file_extension": ".py",
   "mimetype": "text/x-python",
   "name": "python",
   "nbconvert_exporter": "python",
   "pygments_lexer": "ipython3",
   "version": "3.9.12"
  },
  "orig_nbformat": 4,
  "vscode": {
   "interpreter": {
    "hash": "8c217115874aa3a99d670e318d7f682ebdb43585778ade470915451b5cfdc522"
   }
  }
 },
 "nbformat": 4,
 "nbformat_minor": 2
}
