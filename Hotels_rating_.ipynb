{
 "cells": [
  {
   "cell_type": "code",
   "execution_count": 1,
   "id": "161647bd",
   "metadata": {
    "execution": {
     "iopub.execute_input": "2023-02-11T18:34:15.099629Z",
     "iopub.status.busy": "2023-02-11T18:34:15.099096Z",
     "iopub.status.idle": "2023-02-11T18:34:15.113960Z",
     "shell.execute_reply": "2023-02-11T18:34:15.113082Z"
    },
    "papermill": {
     "duration": 0.031029,
     "end_time": "2023-02-11T18:34:15.115874",
     "exception": false,
     "start_time": "2023-02-11T18:34:15.084845",
     "status": "completed"
    },
    "tags": []
   },
   "outputs": [
    {
     "name": "stdout",
     "output_type": "stream",
     "text": [
      "/kaggle/input/sf-booking/hotels_test.csv\n",
      "/kaggle/input/sf-booking/hotels_train.csv\n",
      "/kaggle/input/sf-booking/submission.csv\n"
     ]
    }
   ],
   "source": [
    "# This Python 3 environment comes with many helpful analytics libraries installed\n",
    "# It is defined by the kaggle/python Docker image: https://github.com/kaggle/docker-python\n",
    "# For example, here's several helpful packages to load\n",
    "\n",
    "import numpy as np # linear algebra\n",
    "import pandas as pd # data processing, CSV file I/O (e.g. pd.read_csv)\n",
    "\n",
    "# Input data files are available in the read-only \"../input/\" directory\n",
    "# For example, running this (by clicking run or pressing Shift+Enter) will list all files under the input directory\n",
    "\n",
    "import os\n",
    "for dirname, _, filenames in os.walk('/kaggle/input'):\n",
    "    for filename in filenames:\n",
    "        print(os.path.join(dirname, filename))\n",
    "\n",
    "# You can write up to 20GB to the current directory (/kaggle/working/) that gets preserved as output when you create a version using \"Save & Run All\" \n",
    "# You can also write temporary files to /kaggle/temp/, but they won't be saved outside of the current session"
   ]
  },
  {
   "cell_type": "code",
   "execution_count": 2,
   "id": "d74ca308",
   "metadata": {
    "execution": {
     "iopub.execute_input": "2023-02-11T18:34:15.141568Z",
     "iopub.status.busy": "2023-02-11T18:34:15.141188Z",
     "iopub.status.idle": "2023-02-11T18:34:18.715243Z",
     "shell.execute_reply": "2023-02-11T18:34:18.714142Z"
    },
    "papermill": {
     "duration": 3.589195,
     "end_time": "2023-02-11T18:34:18.717664",
     "exception": false,
     "start_time": "2023-02-11T18:34:15.128469",
     "status": "completed"
    },
    "tags": []
   },
   "outputs": [],
   "source": [
    "# зафиксируем версию пакетов, чтобы эксперименты были воспроизводимы\n",
    "!pip freeze > requirements.txt"
   ]
  },
  {
   "attachments": {},
   "cell_type": "markdown",
   "id": "6417f1a5",
   "metadata": {},
   "source": [
    "## Постановка задачи\n",
    "\n",
    "### Проблема:\n",
    "Booking — американский поисковик-агрегатор, позволяющий бронировать места в ресторанах, отелях, арендовать авто и т.д. Одна из проблем компании — это нечестные отели, которые накручивают себе рейтинг. Одним из способов обнаружения таких отелей является построение модели, которая предсказывает рейтинг отеля. Если предсказания модели сильно отличаются от фактического результата, то, возможно, отель ведёт себя нечестно, и его стоит проверить.\n",
    "\n",
    "### Задача:\n",
    "Создать модель, которая должна предсказывать рейтинг отеля по данным сайта Booking на основе имеющихся в датасете данных. "
   ]
  },
  {
   "cell_type": "code",
   "execution_count": 3,
   "id": "c3a39e33",
   "metadata": {
    "execution": {
     "iopub.execute_input": "2023-02-11T18:34:18.743264Z",
     "iopub.status.busy": "2023-02-11T18:34:18.742925Z",
     "iopub.status.idle": "2023-02-11T18:34:19.915509Z",
     "shell.execute_reply": "2023-02-11T18:34:19.914523Z"
    },
    "papermill": {
     "duration": 1.187789,
     "end_time": "2023-02-11T18:34:19.918055",
     "exception": false,
     "start_time": "2023-02-11T18:34:18.730266",
     "status": "completed"
    },
    "tags": []
   },
   "outputs": [],
   "source": [
    "import statistics\n",
    "import category_encoders as ce\n",
    "import re # регулярные выраженияcategory_encoders\n",
    "\n",
    "#Визуализация графиков\n",
    "import seaborn as sns\n",
    "import matplotlib.pyplot as plt"
   ]
  },
  {
   "cell_type": "code",
   "execution_count": 4,
   "id": "4b09903f",
   "metadata": {
    "execution": {
     "iopub.execute_input": "2023-02-11T18:34:19.943295Z",
     "iopub.status.busy": "2023-02-11T18:34:19.942945Z",
     "iopub.status.idle": "2023-02-11T18:34:25.798898Z",
     "shell.execute_reply": "2023-02-11T18:34:25.797960Z"
    },
    "papermill": {
     "duration": 5.8707,
     "end_time": "2023-02-11T18:34:25.800905",
     "exception": false,
     "start_time": "2023-02-11T18:34:19.930205",
     "status": "completed"
    },
    "tags": []
   },
   "outputs": [],
   "source": [
    "# подгрузим данные из соревнования\n",
    "DATA_DIR = '/kaggle/input/sf-booking/'\n",
    "df_train = pd.read_csv(DATA_DIR + '/hotels_train.csv') # датасет для обучения\n",
    "df_test = pd.read_csv(DATA_DIR + 'hotels_test.csv') # датасет для тестирования\n",
    "sample_submission = pd.read_csv(DATA_DIR + '/submission.csv') #submission"
   ]
  },
  {
   "cell_type": "code",
   "execution_count": 5,
   "id": "d1061fc0",
   "metadata": {
    "execution": {
     "iopub.execute_input": "2023-02-11T18:34:25.828436Z",
     "iopub.status.busy": "2023-02-11T18:34:25.828079Z",
     "iopub.status.idle": "2023-02-11T18:34:26.017996Z",
     "shell.execute_reply": "2023-02-11T18:34:26.017181Z"
    },
    "papermill": {
     "duration": 0.205838,
     "end_time": "2023-02-11T18:34:26.019862",
     "exception": false,
     "start_time": "2023-02-11T18:34:25.814024",
     "status": "completed"
    },
    "tags": []
   },
   "outputs": [
    {
     "name": "stdout",
     "output_type": "stream",
     "text": [
      "<class 'pandas.core.frame.DataFrame'>\n",
      "RangeIndex: 386803 entries, 0 to 386802\n",
      "Data columns (total 17 columns):\n",
      " #   Column                                      Non-Null Count   Dtype  \n",
      "---  ------                                      --------------   -----  \n",
      " 0   hotel_address                               386803 non-null  object \n",
      " 1   additional_number_of_scoring                386803 non-null  int64  \n",
      " 2   review_date                                 386803 non-null  object \n",
      " 3   average_score                               386803 non-null  float64\n",
      " 4   hotel_name                                  386803 non-null  object \n",
      " 5   reviewer_nationality                        386803 non-null  object \n",
      " 6   negative_review                             386803 non-null  object \n",
      " 7   review_total_negative_word_counts           386803 non-null  int64  \n",
      " 8   total_number_of_reviews                     386803 non-null  int64  \n",
      " 9   positive_review                             386803 non-null  object \n",
      " 10  review_total_positive_word_counts           386803 non-null  int64  \n",
      " 11  total_number_of_reviews_reviewer_has_given  386803 non-null  int64  \n",
      " 12  reviewer_score                              386803 non-null  float64\n",
      " 13  tags                                        386803 non-null  object \n",
      " 14  days_since_review                           386803 non-null  object \n",
      " 15  lat                                         384355 non-null  float64\n",
      " 16  lng                                         384355 non-null  float64\n",
      "dtypes: float64(4), int64(5), object(8)\n",
      "memory usage: 50.2+ MB\n"
     ]
    }
   ],
   "source": [
    "# посмотрим информацию по загруженным данным\n",
    "df_train.info()"
   ]
  },
  {
   "cell_type": "code",
   "execution_count": 6,
   "id": "3be8d28a",
   "metadata": {
    "execution": {
     "iopub.execute_input": "2023-02-11T18:34:26.047235Z",
     "iopub.status.busy": "2023-02-11T18:34:26.046664Z",
     "iopub.status.idle": "2023-02-11T18:34:26.071896Z",
     "shell.execute_reply": "2023-02-11T18:34:26.070876Z"
    },
    "papermill": {
     "duration": 0.041016,
     "end_time": "2023-02-11T18:34:26.074598",
     "exception": false,
     "start_time": "2023-02-11T18:34:26.033582",
     "status": "completed"
    },
    "tags": []
   },
   "outputs": [
    {
     "data": {
      "text/html": [
       "<div>\n",
       "<style scoped>\n",
       "    .dataframe tbody tr th:only-of-type {\n",
       "        vertical-align: middle;\n",
       "    }\n",
       "\n",
       "    .dataframe tbody tr th {\n",
       "        vertical-align: top;\n",
       "    }\n",
       "\n",
       "    .dataframe thead th {\n",
       "        text-align: right;\n",
       "    }\n",
       "</style>\n",
       "<table border=\"1\" class=\"dataframe\">\n",
       "  <thead>\n",
       "    <tr style=\"text-align: right;\">\n",
       "      <th></th>\n",
       "      <th>hotel_address</th>\n",
       "      <th>additional_number_of_scoring</th>\n",
       "      <th>review_date</th>\n",
       "      <th>average_score</th>\n",
       "      <th>hotel_name</th>\n",
       "      <th>reviewer_nationality</th>\n",
       "      <th>negative_review</th>\n",
       "      <th>review_total_negative_word_counts</th>\n",
       "      <th>total_number_of_reviews</th>\n",
       "      <th>positive_review</th>\n",
       "      <th>review_total_positive_word_counts</th>\n",
       "      <th>total_number_of_reviews_reviewer_has_given</th>\n",
       "      <th>reviewer_score</th>\n",
       "      <th>tags</th>\n",
       "      <th>days_since_review</th>\n",
       "      <th>lat</th>\n",
       "      <th>lng</th>\n",
       "    </tr>\n",
       "  </thead>\n",
       "  <tbody>\n",
       "    <tr>\n",
       "      <th>0</th>\n",
       "      <td>Stratton Street Mayfair Westminster Borough Lo...</td>\n",
       "      <td>581</td>\n",
       "      <td>2/19/2016</td>\n",
       "      <td>8.4</td>\n",
       "      <td>The May Fair Hotel</td>\n",
       "      <td>United Kingdom</td>\n",
       "      <td>Leaving</td>\n",
       "      <td>3</td>\n",
       "      <td>1994</td>\n",
       "      <td>Staff were amazing</td>\n",
       "      <td>4</td>\n",
       "      <td>7</td>\n",
       "      <td>10.0</td>\n",
       "      <td>[' Leisure trip ', ' Couple ', ' Studio Suite ...</td>\n",
       "      <td>531 day</td>\n",
       "      <td>51.507894</td>\n",
       "      <td>-0.143671</td>\n",
       "    </tr>\n",
       "    <tr>\n",
       "      <th>1</th>\n",
       "      <td>130 134 Southampton Row Camden London WC1B 5AF...</td>\n",
       "      <td>299</td>\n",
       "      <td>1/12/2017</td>\n",
       "      <td>8.3</td>\n",
       "      <td>Mercure London Bloomsbury Hotel</td>\n",
       "      <td>United Kingdom</td>\n",
       "      <td>poor breakfast</td>\n",
       "      <td>3</td>\n",
       "      <td>1361</td>\n",
       "      <td>location</td>\n",
       "      <td>2</td>\n",
       "      <td>14</td>\n",
       "      <td>6.3</td>\n",
       "      <td>[' Business trip ', ' Couple ', ' Standard Dou...</td>\n",
       "      <td>203 day</td>\n",
       "      <td>51.521009</td>\n",
       "      <td>-0.123097</td>\n",
       "    </tr>\n",
       "    <tr>\n",
       "      <th>2</th>\n",
       "      <td>151 bis Rue de Rennes 6th arr 75006 Paris France</td>\n",
       "      <td>32</td>\n",
       "      <td>10/18/2016</td>\n",
       "      <td>8.9</td>\n",
       "      <td>Legend Saint Germain by Elegancia</td>\n",
       "      <td>China</td>\n",
       "      <td>No kettle in room</td>\n",
       "      <td>6</td>\n",
       "      <td>406</td>\n",
       "      <td>No Positive</td>\n",
       "      <td>0</td>\n",
       "      <td>14</td>\n",
       "      <td>7.5</td>\n",
       "      <td>[' Leisure trip ', ' Solo traveler ', ' Modern...</td>\n",
       "      <td>289 day</td>\n",
       "      <td>48.845377</td>\n",
       "      <td>2.325643</td>\n",
       "    </tr>\n",
       "    <tr>\n",
       "      <th>3</th>\n",
       "      <td>216 Avenue Jean Jaures 19th arr 75019 Paris Fr...</td>\n",
       "      <td>34</td>\n",
       "      <td>9/22/2015</td>\n",
       "      <td>7.5</td>\n",
       "      <td>Mercure Paris 19 Philharmonie La Villette</td>\n",
       "      <td>United Kingdom</td>\n",
       "      <td>No Negative</td>\n",
       "      <td>0</td>\n",
       "      <td>607</td>\n",
       "      <td>Friendly staff quiet comfortable room spotles...</td>\n",
       "      <td>11</td>\n",
       "      <td>8</td>\n",
       "      <td>10.0</td>\n",
       "      <td>[' Leisure trip ', ' Solo traveler ', ' Standa...</td>\n",
       "      <td>681 day</td>\n",
       "      <td>48.888697</td>\n",
       "      <td>2.394540</td>\n",
       "    </tr>\n",
       "    <tr>\n",
       "      <th>4</th>\n",
       "      <td>Molenwerf 1 1014 AG Amsterdam Netherlands</td>\n",
       "      <td>914</td>\n",
       "      <td>3/5/2016</td>\n",
       "      <td>8.5</td>\n",
       "      <td>Golden Tulip Amsterdam West</td>\n",
       "      <td>Poland</td>\n",
       "      <td>Torn sheets</td>\n",
       "      <td>4</td>\n",
       "      <td>7586</td>\n",
       "      <td>The staff was very friendly and helpful Break...</td>\n",
       "      <td>20</td>\n",
       "      <td>10</td>\n",
       "      <td>9.6</td>\n",
       "      <td>[' Business trip ', ' Couple ', ' Standard Dou...</td>\n",
       "      <td>516 day</td>\n",
       "      <td>52.385601</td>\n",
       "      <td>4.847060</td>\n",
       "    </tr>\n",
       "  </tbody>\n",
       "</table>\n",
       "</div>"
      ],
      "text/plain": [
       "                                       hotel_address  \\\n",
       "0  Stratton Street Mayfair Westminster Borough Lo...   \n",
       "1  130 134 Southampton Row Camden London WC1B 5AF...   \n",
       "2   151 bis Rue de Rennes 6th arr 75006 Paris France   \n",
       "3  216 Avenue Jean Jaures 19th arr 75019 Paris Fr...   \n",
       "4          Molenwerf 1 1014 AG Amsterdam Netherlands   \n",
       "\n",
       "   additional_number_of_scoring review_date  average_score  \\\n",
       "0                           581   2/19/2016            8.4   \n",
       "1                           299   1/12/2017            8.3   \n",
       "2                            32  10/18/2016            8.9   \n",
       "3                            34   9/22/2015            7.5   \n",
       "4                           914    3/5/2016            8.5   \n",
       "\n",
       "                                  hotel_name reviewer_nationality  \\\n",
       "0                         The May Fair Hotel      United Kingdom    \n",
       "1            Mercure London Bloomsbury Hotel      United Kingdom    \n",
       "2          Legend Saint Germain by Elegancia               China    \n",
       "3  Mercure Paris 19 Philharmonie La Villette      United Kingdom    \n",
       "4                Golden Tulip Amsterdam West              Poland    \n",
       "\n",
       "       negative_review  review_total_negative_word_counts  \\\n",
       "0             Leaving                                   3   \n",
       "1       poor breakfast                                  3   \n",
       "2   No kettle in room                                   6   \n",
       "3          No Negative                                  0   \n",
       "4         Torn sheets                                   4   \n",
       "\n",
       "   total_number_of_reviews                                    positive_review  \\\n",
       "0                     1994                                 Staff were amazing   \n",
       "1                     1361                                           location   \n",
       "2                      406                                        No Positive   \n",
       "3                      607   Friendly staff quiet comfortable room spotles...   \n",
       "4                     7586   The staff was very friendly and helpful Break...   \n",
       "\n",
       "   review_total_positive_word_counts  \\\n",
       "0                                  4   \n",
       "1                                  2   \n",
       "2                                  0   \n",
       "3                                 11   \n",
       "4                                 20   \n",
       "\n",
       "   total_number_of_reviews_reviewer_has_given  reviewer_score  \\\n",
       "0                                           7            10.0   \n",
       "1                                          14             6.3   \n",
       "2                                          14             7.5   \n",
       "3                                           8            10.0   \n",
       "4                                          10             9.6   \n",
       "\n",
       "                                                tags days_since_review  \\\n",
       "0  [' Leisure trip ', ' Couple ', ' Studio Suite ...           531 day   \n",
       "1  [' Business trip ', ' Couple ', ' Standard Dou...           203 day   \n",
       "2  [' Leisure trip ', ' Solo traveler ', ' Modern...           289 day   \n",
       "3  [' Leisure trip ', ' Solo traveler ', ' Standa...           681 day   \n",
       "4  [' Business trip ', ' Couple ', ' Standard Dou...           516 day   \n",
       "\n",
       "         lat       lng  \n",
       "0  51.507894 -0.143671  \n",
       "1  51.521009 -0.123097  \n",
       "2  48.845377  2.325643  \n",
       "3  48.888697  2.394540  \n",
       "4  52.385601  4.847060  "
      ]
     },
     "execution_count": 6,
     "metadata": {},
     "output_type": "execute_result"
    }
   ],
   "source": [
    "df_train.head()"
   ]
  },
  {
   "cell_type": "code",
   "execution_count": 7,
   "id": "18129130",
   "metadata": {
    "execution": {
     "iopub.execute_input": "2023-02-11T18:34:26.103945Z",
     "iopub.status.busy": "2023-02-11T18:34:26.103577Z",
     "iopub.status.idle": "2023-02-11T18:34:26.168410Z",
     "shell.execute_reply": "2023-02-11T18:34:26.166699Z"
    },
    "papermill": {
     "duration": 0.085199,
     "end_time": "2023-02-11T18:34:26.173141",
     "exception": false,
     "start_time": "2023-02-11T18:34:26.087942",
     "status": "completed"
    },
    "tags": []
   },
   "outputs": [
    {
     "name": "stdout",
     "output_type": "stream",
     "text": [
      "<class 'pandas.core.frame.DataFrame'>\n",
      "RangeIndex: 128935 entries, 0 to 128934\n",
      "Data columns (total 16 columns):\n",
      " #   Column                                      Non-Null Count   Dtype  \n",
      "---  ------                                      --------------   -----  \n",
      " 0   hotel_address                               128935 non-null  object \n",
      " 1   additional_number_of_scoring                128935 non-null  int64  \n",
      " 2   review_date                                 128935 non-null  object \n",
      " 3   average_score                               128935 non-null  float64\n",
      " 4   hotel_name                                  128935 non-null  object \n",
      " 5   reviewer_nationality                        128935 non-null  object \n",
      " 6   negative_review                             128935 non-null  object \n",
      " 7   review_total_negative_word_counts           128935 non-null  int64  \n",
      " 8   total_number_of_reviews                     128935 non-null  int64  \n",
      " 9   positive_review                             128935 non-null  object \n",
      " 10  review_total_positive_word_counts           128935 non-null  int64  \n",
      " 11  total_number_of_reviews_reviewer_has_given  128935 non-null  int64  \n",
      " 12  tags                                        128935 non-null  object \n",
      " 13  days_since_review                           128935 non-null  object \n",
      " 14  lat                                         128115 non-null  float64\n",
      " 15  lng                                         128115 non-null  float64\n",
      "dtypes: float64(3), int64(5), object(8)\n",
      "memory usage: 15.7+ MB\n"
     ]
    }
   ],
   "source": [
    "df_test.info()"
   ]
  },
  {
   "cell_type": "code",
   "execution_count": 8,
   "id": "d2666688",
   "metadata": {
    "execution": {
     "iopub.execute_input": "2023-02-11T18:34:26.198243Z",
     "iopub.status.busy": "2023-02-11T18:34:26.197905Z",
     "iopub.status.idle": "2023-02-11T18:34:26.214670Z",
     "shell.execute_reply": "2023-02-11T18:34:26.213767Z"
    },
    "papermill": {
     "duration": 0.031418,
     "end_time": "2023-02-11T18:34:26.216549",
     "exception": false,
     "start_time": "2023-02-11T18:34:26.185131",
     "status": "completed"
    },
    "tags": []
   },
   "outputs": [
    {
     "data": {
      "text/html": [
       "<div>\n",
       "<style scoped>\n",
       "    .dataframe tbody tr th:only-of-type {\n",
       "        vertical-align: middle;\n",
       "    }\n",
       "\n",
       "    .dataframe tbody tr th {\n",
       "        vertical-align: top;\n",
       "    }\n",
       "\n",
       "    .dataframe thead th {\n",
       "        text-align: right;\n",
       "    }\n",
       "</style>\n",
       "<table border=\"1\" class=\"dataframe\">\n",
       "  <thead>\n",
       "    <tr style=\"text-align: right;\">\n",
       "      <th></th>\n",
       "      <th>hotel_address</th>\n",
       "      <th>additional_number_of_scoring</th>\n",
       "      <th>review_date</th>\n",
       "      <th>average_score</th>\n",
       "      <th>hotel_name</th>\n",
       "      <th>reviewer_nationality</th>\n",
       "      <th>negative_review</th>\n",
       "      <th>review_total_negative_word_counts</th>\n",
       "      <th>total_number_of_reviews</th>\n",
       "      <th>positive_review</th>\n",
       "      <th>review_total_positive_word_counts</th>\n",
       "      <th>total_number_of_reviews_reviewer_has_given</th>\n",
       "      <th>tags</th>\n",
       "      <th>days_since_review</th>\n",
       "      <th>lat</th>\n",
       "      <th>lng</th>\n",
       "    </tr>\n",
       "  </thead>\n",
       "  <tbody>\n",
       "    <tr>\n",
       "      <th>0</th>\n",
       "      <td>Via Senigallia 6 20161 Milan Italy</td>\n",
       "      <td>904</td>\n",
       "      <td>7/21/2017</td>\n",
       "      <td>8.1</td>\n",
       "      <td>Hotel Da Vinci</td>\n",
       "      <td>United Kingdom</td>\n",
       "      <td>Would have appreciated a shop in the hotel th...</td>\n",
       "      <td>52</td>\n",
       "      <td>16670</td>\n",
       "      <td>Hotel was great clean friendly staff free bre...</td>\n",
       "      <td>62</td>\n",
       "      <td>1</td>\n",
       "      <td>[' Leisure trip ', ' Couple ', ' Double Room '...</td>\n",
       "      <td>13 days</td>\n",
       "      <td>45.533137</td>\n",
       "      <td>9.171102</td>\n",
       "    </tr>\n",
       "    <tr>\n",
       "      <th>1</th>\n",
       "      <td>Arlandaweg 10 Westpoort 1043 EW Amsterdam Neth...</td>\n",
       "      <td>612</td>\n",
       "      <td>12/12/2016</td>\n",
       "      <td>8.6</td>\n",
       "      <td>Urban Lodge Hotel</td>\n",
       "      <td>Belgium</td>\n",
       "      <td>No tissue paper box was present at the room</td>\n",
       "      <td>10</td>\n",
       "      <td>5018</td>\n",
       "      <td>No Positive</td>\n",
       "      <td>0</td>\n",
       "      <td>7</td>\n",
       "      <td>[' Leisure trip ', ' Group ', ' Triple Room ',...</td>\n",
       "      <td>234 day</td>\n",
       "      <td>52.385649</td>\n",
       "      <td>4.834443</td>\n",
       "    </tr>\n",
       "    <tr>\n",
       "      <th>2</th>\n",
       "      <td>Mallorca 251 Eixample 08008 Barcelona Spain</td>\n",
       "      <td>46</td>\n",
       "      <td>11/26/2015</td>\n",
       "      <td>8.3</td>\n",
       "      <td>Alexandra Barcelona A DoubleTree by Hilton</td>\n",
       "      <td>Sweden</td>\n",
       "      <td>Pillows</td>\n",
       "      <td>3</td>\n",
       "      <td>351</td>\n",
       "      <td>Nice welcoming and service</td>\n",
       "      <td>5</td>\n",
       "      <td>15</td>\n",
       "      <td>[' Business trip ', ' Solo traveler ', ' Twin ...</td>\n",
       "      <td>616 day</td>\n",
       "      <td>41.393192</td>\n",
       "      <td>2.161520</td>\n",
       "    </tr>\n",
       "    <tr>\n",
       "      <th>3</th>\n",
       "      <td>Piazza Della Repubblica 17 Central Station 201...</td>\n",
       "      <td>241</td>\n",
       "      <td>10/17/2015</td>\n",
       "      <td>9.1</td>\n",
       "      <td>Hotel Principe Di Savoia</td>\n",
       "      <td>United States of America</td>\n",
       "      <td>No Negative</td>\n",
       "      <td>0</td>\n",
       "      <td>1543</td>\n",
       "      <td>Everything including the nice upgrade The Hot...</td>\n",
       "      <td>27</td>\n",
       "      <td>9</td>\n",
       "      <td>[' Leisure trip ', ' Couple ', ' Ambassador Ju...</td>\n",
       "      <td>656 day</td>\n",
       "      <td>45.479888</td>\n",
       "      <td>9.196298</td>\n",
       "    </tr>\n",
       "    <tr>\n",
       "      <th>4</th>\n",
       "      <td>Singel 303 309 Amsterdam City Center 1012 WJ A...</td>\n",
       "      <td>834</td>\n",
       "      <td>5/16/2016</td>\n",
       "      <td>9.1</td>\n",
       "      <td>Hotel Esther a</td>\n",
       "      <td>United Kingdom</td>\n",
       "      <td>No Negative</td>\n",
       "      <td>0</td>\n",
       "      <td>4687</td>\n",
       "      <td>Lovely hotel v welcoming staff</td>\n",
       "      <td>7</td>\n",
       "      <td>2</td>\n",
       "      <td>[' Business trip ', ' Solo traveler ', ' Class...</td>\n",
       "      <td>444 day</td>\n",
       "      <td>52.370545</td>\n",
       "      <td>4.888644</td>\n",
       "    </tr>\n",
       "  </tbody>\n",
       "</table>\n",
       "</div>"
      ],
      "text/plain": [
       "                                       hotel_address  \\\n",
       "0                 Via Senigallia 6 20161 Milan Italy   \n",
       "1  Arlandaweg 10 Westpoort 1043 EW Amsterdam Neth...   \n",
       "2        Mallorca 251 Eixample 08008 Barcelona Spain   \n",
       "3  Piazza Della Repubblica 17 Central Station 201...   \n",
       "4  Singel 303 309 Amsterdam City Center 1012 WJ A...   \n",
       "\n",
       "   additional_number_of_scoring review_date  average_score  \\\n",
       "0                           904   7/21/2017            8.1   \n",
       "1                           612  12/12/2016            8.6   \n",
       "2                            46  11/26/2015            8.3   \n",
       "3                           241  10/17/2015            9.1   \n",
       "4                           834   5/16/2016            9.1   \n",
       "\n",
       "                                   hotel_name        reviewer_nationality  \\\n",
       "0                              Hotel Da Vinci             United Kingdom    \n",
       "1                           Urban Lodge Hotel                    Belgium    \n",
       "2  Alexandra Barcelona A DoubleTree by Hilton                     Sweden    \n",
       "3                    Hotel Principe Di Savoia   United States of America    \n",
       "4                              Hotel Esther a             United Kingdom    \n",
       "\n",
       "                                     negative_review  \\\n",
       "0   Would have appreciated a shop in the hotel th...   \n",
       "1        No tissue paper box was present at the room   \n",
       "2                                           Pillows    \n",
       "3                                        No Negative   \n",
       "4                                        No Negative   \n",
       "\n",
       "   review_total_negative_word_counts  total_number_of_reviews  \\\n",
       "0                                 52                    16670   \n",
       "1                                 10                     5018   \n",
       "2                                  3                      351   \n",
       "3                                  0                     1543   \n",
       "4                                  0                     4687   \n",
       "\n",
       "                                     positive_review  \\\n",
       "0   Hotel was great clean friendly staff free bre...   \n",
       "1                                        No Positive   \n",
       "2                         Nice welcoming and service   \n",
       "3   Everything including the nice upgrade The Hot...   \n",
       "4                    Lovely hotel v welcoming staff    \n",
       "\n",
       "   review_total_positive_word_counts  \\\n",
       "0                                 62   \n",
       "1                                  0   \n",
       "2                                  5   \n",
       "3                                 27   \n",
       "4                                  7   \n",
       "\n",
       "   total_number_of_reviews_reviewer_has_given  \\\n",
       "0                                           1   \n",
       "1                                           7   \n",
       "2                                          15   \n",
       "3                                           9   \n",
       "4                                           2   \n",
       "\n",
       "                                                tags days_since_review  \\\n",
       "0  [' Leisure trip ', ' Couple ', ' Double Room '...           13 days   \n",
       "1  [' Leisure trip ', ' Group ', ' Triple Room ',...           234 day   \n",
       "2  [' Business trip ', ' Solo traveler ', ' Twin ...           616 day   \n",
       "3  [' Leisure trip ', ' Couple ', ' Ambassador Ju...           656 day   \n",
       "4  [' Business trip ', ' Solo traveler ', ' Class...           444 day   \n",
       "\n",
       "         lat       lng  \n",
       "0  45.533137  9.171102  \n",
       "1  52.385649  4.834443  \n",
       "2  41.393192  2.161520  \n",
       "3  45.479888  9.196298  \n",
       "4  52.370545  4.888644  "
      ]
     },
     "execution_count": 8,
     "metadata": {},
     "output_type": "execute_result"
    }
   ],
   "source": [
    "df_test.head()"
   ]
  },
  {
   "cell_type": "code",
   "execution_count": 9,
   "id": "60134441",
   "metadata": {
    "execution": {
     "iopub.execute_input": "2023-02-11T18:34:26.246690Z",
     "iopub.status.busy": "2023-02-11T18:34:26.246360Z",
     "iopub.status.idle": "2023-02-11T18:34:26.255943Z",
     "shell.execute_reply": "2023-02-11T18:34:26.255265Z"
    },
    "papermill": {
     "duration": 0.026241,
     "end_time": "2023-02-11T18:34:26.258324",
     "exception": false,
     "start_time": "2023-02-11T18:34:26.232083",
     "status": "completed"
    },
    "tags": []
   },
   "outputs": [
    {
     "name": "stdout",
     "output_type": "stream",
     "text": [
      "<class 'pandas.core.frame.DataFrame'>\n",
      "RangeIndex: 128935 entries, 0 to 128934\n",
      "Data columns (total 2 columns):\n",
      " #   Column          Non-Null Count   Dtype\n",
      "---  ------          --------------   -----\n",
      " 0   reviewer_score  128935 non-null  int64\n",
      " 1   id              128935 non-null  int64\n",
      "dtypes: int64(2)\n",
      "memory usage: 2.0 MB\n"
     ]
    }
   ],
   "source": [
    "sample_submission.info()"
   ]
  },
  {
   "cell_type": "code",
   "execution_count": 10,
   "id": "390ad06e",
   "metadata": {
    "execution": {
     "iopub.execute_input": "2023-02-11T18:34:26.285411Z",
     "iopub.status.busy": "2023-02-11T18:34:26.284858Z",
     "iopub.status.idle": "2023-02-11T18:34:26.292335Z",
     "shell.execute_reply": "2023-02-11T18:34:26.291698Z"
    },
    "papermill": {
     "duration": 0.023564,
     "end_time": "2023-02-11T18:34:26.294307",
     "exception": false,
     "start_time": "2023-02-11T18:34:26.270743",
     "status": "completed"
    },
    "tags": []
   },
   "outputs": [
    {
     "data": {
      "text/html": [
       "<div>\n",
       "<style scoped>\n",
       "    .dataframe tbody tr th:only-of-type {\n",
       "        vertical-align: middle;\n",
       "    }\n",
       "\n",
       "    .dataframe tbody tr th {\n",
       "        vertical-align: top;\n",
       "    }\n",
       "\n",
       "    .dataframe thead th {\n",
       "        text-align: right;\n",
       "    }\n",
       "</style>\n",
       "<table border=\"1\" class=\"dataframe\">\n",
       "  <thead>\n",
       "    <tr style=\"text-align: right;\">\n",
       "      <th></th>\n",
       "      <th>reviewer_score</th>\n",
       "      <th>id</th>\n",
       "    </tr>\n",
       "  </thead>\n",
       "  <tbody>\n",
       "    <tr>\n",
       "      <th>0</th>\n",
       "      <td>1</td>\n",
       "      <td>488440</td>\n",
       "    </tr>\n",
       "    <tr>\n",
       "      <th>1</th>\n",
       "      <td>10</td>\n",
       "      <td>274649</td>\n",
       "    </tr>\n",
       "    <tr>\n",
       "      <th>2</th>\n",
       "      <td>3</td>\n",
       "      <td>374688</td>\n",
       "    </tr>\n",
       "    <tr>\n",
       "      <th>3</th>\n",
       "      <td>10</td>\n",
       "      <td>404352</td>\n",
       "    </tr>\n",
       "    <tr>\n",
       "      <th>4</th>\n",
       "      <td>9</td>\n",
       "      <td>451596</td>\n",
       "    </tr>\n",
       "  </tbody>\n",
       "</table>\n",
       "</div>"
      ],
      "text/plain": [
       "   reviewer_score      id\n",
       "0               1  488440\n",
       "1              10  274649\n",
       "2               3  374688\n",
       "3              10  404352\n",
       "4               9  451596"
      ]
     },
     "execution_count": 10,
     "metadata": {},
     "output_type": "execute_result"
    }
   ],
   "source": [
    "sample_submission.head()"
   ]
  },
  {
   "cell_type": "code",
   "execution_count": 11,
   "id": "d9746c0f",
   "metadata": {
    "execution": {
     "iopub.execute_input": "2023-02-11T18:34:26.320595Z",
     "iopub.status.busy": "2023-02-11T18:34:26.320292Z",
     "iopub.status.idle": "2023-02-11T18:34:26.692499Z",
     "shell.execute_reply": "2023-02-11T18:34:26.691805Z"
    },
    "papermill": {
     "duration": 0.38746,
     "end_time": "2023-02-11T18:34:26.694176",
     "exception": false,
     "start_time": "2023-02-11T18:34:26.306716",
     "status": "completed"
    },
    "tags": []
   },
   "outputs": [
    {
     "data": {
      "text/html": [
       "<div>\n",
       "<style scoped>\n",
       "    .dataframe tbody tr th:only-of-type {\n",
       "        vertical-align: middle;\n",
       "    }\n",
       "\n",
       "    .dataframe tbody tr th {\n",
       "        vertical-align: top;\n",
       "    }\n",
       "\n",
       "    .dataframe thead th {\n",
       "        text-align: right;\n",
       "    }\n",
       "</style>\n",
       "<table border=\"1\" class=\"dataframe\">\n",
       "  <thead>\n",
       "    <tr style=\"text-align: right;\">\n",
       "      <th></th>\n",
       "      <th>hotel_address</th>\n",
       "      <th>additional_number_of_scoring</th>\n",
       "      <th>review_date</th>\n",
       "      <th>average_score</th>\n",
       "      <th>hotel_name</th>\n",
       "      <th>reviewer_nationality</th>\n",
       "      <th>negative_review</th>\n",
       "      <th>review_total_negative_word_counts</th>\n",
       "      <th>total_number_of_reviews</th>\n",
       "      <th>positive_review</th>\n",
       "      <th>review_total_positive_word_counts</th>\n",
       "      <th>total_number_of_reviews_reviewer_has_given</th>\n",
       "      <th>tags</th>\n",
       "      <th>days_since_review</th>\n",
       "      <th>lat</th>\n",
       "      <th>lng</th>\n",
       "      <th>sample</th>\n",
       "      <th>reviewer_score</th>\n",
       "    </tr>\n",
       "  </thead>\n",
       "  <tbody>\n",
       "    <tr>\n",
       "      <th>0</th>\n",
       "      <td>Via Senigallia 6 20161 Milan Italy</td>\n",
       "      <td>904</td>\n",
       "      <td>7/21/2017</td>\n",
       "      <td>8.1</td>\n",
       "      <td>Hotel Da Vinci</td>\n",
       "      <td>United Kingdom</td>\n",
       "      <td>Would have appreciated a shop in the hotel th...</td>\n",
       "      <td>52</td>\n",
       "      <td>16670</td>\n",
       "      <td>Hotel was great clean friendly staff free bre...</td>\n",
       "      <td>62</td>\n",
       "      <td>1</td>\n",
       "      <td>[' Leisure trip ', ' Couple ', ' Double Room '...</td>\n",
       "      <td>13 days</td>\n",
       "      <td>45.533137</td>\n",
       "      <td>9.171102</td>\n",
       "      <td>0</td>\n",
       "      <td>0.0</td>\n",
       "    </tr>\n",
       "    <tr>\n",
       "      <th>1</th>\n",
       "      <td>Arlandaweg 10 Westpoort 1043 EW Amsterdam Neth...</td>\n",
       "      <td>612</td>\n",
       "      <td>12/12/2016</td>\n",
       "      <td>8.6</td>\n",
       "      <td>Urban Lodge Hotel</td>\n",
       "      <td>Belgium</td>\n",
       "      <td>No tissue paper box was present at the room</td>\n",
       "      <td>10</td>\n",
       "      <td>5018</td>\n",
       "      <td>No Positive</td>\n",
       "      <td>0</td>\n",
       "      <td>7</td>\n",
       "      <td>[' Leisure trip ', ' Group ', ' Triple Room ',...</td>\n",
       "      <td>234 day</td>\n",
       "      <td>52.385649</td>\n",
       "      <td>4.834443</td>\n",
       "      <td>0</td>\n",
       "      <td>0.0</td>\n",
       "    </tr>\n",
       "    <tr>\n",
       "      <th>2</th>\n",
       "      <td>Mallorca 251 Eixample 08008 Barcelona Spain</td>\n",
       "      <td>46</td>\n",
       "      <td>11/26/2015</td>\n",
       "      <td>8.3</td>\n",
       "      <td>Alexandra Barcelona A DoubleTree by Hilton</td>\n",
       "      <td>Sweden</td>\n",
       "      <td>Pillows</td>\n",
       "      <td>3</td>\n",
       "      <td>351</td>\n",
       "      <td>Nice welcoming and service</td>\n",
       "      <td>5</td>\n",
       "      <td>15</td>\n",
       "      <td>[' Business trip ', ' Solo traveler ', ' Twin ...</td>\n",
       "      <td>616 day</td>\n",
       "      <td>41.393192</td>\n",
       "      <td>2.161520</td>\n",
       "      <td>0</td>\n",
       "      <td>0.0</td>\n",
       "    </tr>\n",
       "    <tr>\n",
       "      <th>3</th>\n",
       "      <td>Piazza Della Repubblica 17 Central Station 201...</td>\n",
       "      <td>241</td>\n",
       "      <td>10/17/2015</td>\n",
       "      <td>9.1</td>\n",
       "      <td>Hotel Principe Di Savoia</td>\n",
       "      <td>United States of America</td>\n",
       "      <td>No Negative</td>\n",
       "      <td>0</td>\n",
       "      <td>1543</td>\n",
       "      <td>Everything including the nice upgrade The Hot...</td>\n",
       "      <td>27</td>\n",
       "      <td>9</td>\n",
       "      <td>[' Leisure trip ', ' Couple ', ' Ambassador Ju...</td>\n",
       "      <td>656 day</td>\n",
       "      <td>45.479888</td>\n",
       "      <td>9.196298</td>\n",
       "      <td>0</td>\n",
       "      <td>0.0</td>\n",
       "    </tr>\n",
       "    <tr>\n",
       "      <th>4</th>\n",
       "      <td>Singel 303 309 Amsterdam City Center 1012 WJ A...</td>\n",
       "      <td>834</td>\n",
       "      <td>5/16/2016</td>\n",
       "      <td>9.1</td>\n",
       "      <td>Hotel Esther a</td>\n",
       "      <td>United Kingdom</td>\n",
       "      <td>No Negative</td>\n",
       "      <td>0</td>\n",
       "      <td>4687</td>\n",
       "      <td>Lovely hotel v welcoming staff</td>\n",
       "      <td>7</td>\n",
       "      <td>2</td>\n",
       "      <td>[' Business trip ', ' Solo traveler ', ' Class...</td>\n",
       "      <td>444 day</td>\n",
       "      <td>52.370545</td>\n",
       "      <td>4.888644</td>\n",
       "      <td>0</td>\n",
       "      <td>0.0</td>\n",
       "    </tr>\n",
       "    <tr>\n",
       "      <th>...</th>\n",
       "      <td>...</td>\n",
       "      <td>...</td>\n",
       "      <td>...</td>\n",
       "      <td>...</td>\n",
       "      <td>...</td>\n",
       "      <td>...</td>\n",
       "      <td>...</td>\n",
       "      <td>...</td>\n",
       "      <td>...</td>\n",
       "      <td>...</td>\n",
       "      <td>...</td>\n",
       "      <td>...</td>\n",
       "      <td>...</td>\n",
       "      <td>...</td>\n",
       "      <td>...</td>\n",
       "      <td>...</td>\n",
       "      <td>...</td>\n",
       "      <td>...</td>\n",
       "    </tr>\n",
       "    <tr>\n",
       "      <th>515733</th>\n",
       "      <td>9 Knaresborough Place Kensington and Chelsea L...</td>\n",
       "      <td>107</td>\n",
       "      <td>4/19/2017</td>\n",
       "      <td>9.0</td>\n",
       "      <td>Hotel Moonlight</td>\n",
       "      <td>France</td>\n",
       "      <td>No Negative</td>\n",
       "      <td>0</td>\n",
       "      <td>617</td>\n",
       "      <td>Tr s proche du metro Earl s court</td>\n",
       "      <td>10</td>\n",
       "      <td>10</td>\n",
       "      <td>[' Leisure trip ', ' Group ', ' Club Double or...</td>\n",
       "      <td>106 day</td>\n",
       "      <td>51.494028</td>\n",
       "      <td>-0.191050</td>\n",
       "      <td>1</td>\n",
       "      <td>8.8</td>\n",
       "    </tr>\n",
       "    <tr>\n",
       "      <th>515734</th>\n",
       "      <td>Landstra er Hauptstra e 155 03 Landstra e 1030...</td>\n",
       "      <td>272</td>\n",
       "      <td>2/13/2017</td>\n",
       "      <td>8.4</td>\n",
       "      <td>BEST WESTERN PLUS Amedia Wien</td>\n",
       "      <td>Turkey</td>\n",
       "      <td>No Negative</td>\n",
       "      <td>0</td>\n",
       "      <td>3224</td>\n",
       "      <td>The bed was so comfy I stayed with my boyfrie...</td>\n",
       "      <td>93</td>\n",
       "      <td>1</td>\n",
       "      <td>[' Leisure trip ', ' Couple ', ' Standard Doub...</td>\n",
       "      <td>171 day</td>\n",
       "      <td>48.192379</td>\n",
       "      <td>16.399451</td>\n",
       "      <td>1</td>\n",
       "      <td>9.2</td>\n",
       "    </tr>\n",
       "    <tr>\n",
       "      <th>515735</th>\n",
       "      <td>29 31 Gower Street Camden London WC1E 6HG Unit...</td>\n",
       "      <td>457</td>\n",
       "      <td>2/7/2016</td>\n",
       "      <td>6.8</td>\n",
       "      <td>Bloomsbury Palace Hotel</td>\n",
       "      <td>Netherlands</td>\n",
       "      <td>room is really small but guess is normal in L...</td>\n",
       "      <td>12</td>\n",
       "      <td>2751</td>\n",
       "      <td>great location simple check in out nice shower</td>\n",
       "      <td>9</td>\n",
       "      <td>21</td>\n",
       "      <td>[' Business trip ', ' Solo traveler ', ' Singl...</td>\n",
       "      <td>543 day</td>\n",
       "      <td>51.520795</td>\n",
       "      <td>-0.131084</td>\n",
       "      <td>1</td>\n",
       "      <td>8.3</td>\n",
       "    </tr>\n",
       "    <tr>\n",
       "      <th>515736</th>\n",
       "      <td>31 Great Cumberland Place Westminster Borough ...</td>\n",
       "      <td>365</td>\n",
       "      <td>5/21/2017</td>\n",
       "      <td>8.1</td>\n",
       "      <td>The Marble Arch London</td>\n",
       "      <td>United Arab Emirates</td>\n",
       "      <td>No Negative</td>\n",
       "      <td>0</td>\n",
       "      <td>1567</td>\n",
       "      <td>Location and very comfy bed</td>\n",
       "      <td>6</td>\n",
       "      <td>28</td>\n",
       "      <td>[' Leisure trip ', ' Solo traveler ', ' Deluxe...</td>\n",
       "      <td>74 days</td>\n",
       "      <td>51.515125</td>\n",
       "      <td>-0.160066</td>\n",
       "      <td>1</td>\n",
       "      <td>9.2</td>\n",
       "    </tr>\n",
       "    <tr>\n",
       "      <th>515737</th>\n",
       "      <td>25 Courtfield Gardens Kensington and Chelsea L...</td>\n",
       "      <td>222</td>\n",
       "      <td>8/5/2016</td>\n",
       "      <td>9.0</td>\n",
       "      <td>The Nadler Kensington</td>\n",
       "      <td>Australia</td>\n",
       "      <td>Patio outside could have been cleaned of alga...</td>\n",
       "      <td>20</td>\n",
       "      <td>1209</td>\n",
       "      <td>Beds comfortable Pillows also good Homely fee...</td>\n",
       "      <td>20</td>\n",
       "      <td>2</td>\n",
       "      <td>[' Leisure trip ', ' Couple ', ' Bunk Bed Room...</td>\n",
       "      <td>363 day</td>\n",
       "      <td>51.493109</td>\n",
       "      <td>-0.190208</td>\n",
       "      <td>1</td>\n",
       "      <td>8.8</td>\n",
       "    </tr>\n",
       "  </tbody>\n",
       "</table>\n",
       "<p>515738 rows × 18 columns</p>\n",
       "</div>"
      ],
      "text/plain": [
       "                                            hotel_address  \\\n",
       "0                      Via Senigallia 6 20161 Milan Italy   \n",
       "1       Arlandaweg 10 Westpoort 1043 EW Amsterdam Neth...   \n",
       "2             Mallorca 251 Eixample 08008 Barcelona Spain   \n",
       "3       Piazza Della Repubblica 17 Central Station 201...   \n",
       "4       Singel 303 309 Amsterdam City Center 1012 WJ A...   \n",
       "...                                                   ...   \n",
       "515733  9 Knaresborough Place Kensington and Chelsea L...   \n",
       "515734  Landstra er Hauptstra e 155 03 Landstra e 1030...   \n",
       "515735  29 31 Gower Street Camden London WC1E 6HG Unit...   \n",
       "515736  31 Great Cumberland Place Westminster Borough ...   \n",
       "515737  25 Courtfield Gardens Kensington and Chelsea L...   \n",
       "\n",
       "        additional_number_of_scoring review_date  average_score  \\\n",
       "0                                904   7/21/2017            8.1   \n",
       "1                                612  12/12/2016            8.6   \n",
       "2                                 46  11/26/2015            8.3   \n",
       "3                                241  10/17/2015            9.1   \n",
       "4                                834   5/16/2016            9.1   \n",
       "...                              ...         ...            ...   \n",
       "515733                           107   4/19/2017            9.0   \n",
       "515734                           272   2/13/2017            8.4   \n",
       "515735                           457    2/7/2016            6.8   \n",
       "515736                           365   5/21/2017            8.1   \n",
       "515737                           222    8/5/2016            9.0   \n",
       "\n",
       "                                        hotel_name  \\\n",
       "0                                   Hotel Da Vinci   \n",
       "1                                Urban Lodge Hotel   \n",
       "2       Alexandra Barcelona A DoubleTree by Hilton   \n",
       "3                         Hotel Principe Di Savoia   \n",
       "4                                   Hotel Esther a   \n",
       "...                                            ...   \n",
       "515733                             Hotel Moonlight   \n",
       "515734               BEST WESTERN PLUS Amedia Wien   \n",
       "515735                     Bloomsbury Palace Hotel   \n",
       "515736                      The Marble Arch London   \n",
       "515737                       The Nadler Kensington   \n",
       "\n",
       "              reviewer_nationality  \\\n",
       "0                  United Kingdom    \n",
       "1                         Belgium    \n",
       "2                          Sweden    \n",
       "3        United States of America    \n",
       "4                  United Kingdom    \n",
       "...                            ...   \n",
       "515733                     France    \n",
       "515734                     Turkey    \n",
       "515735                Netherlands    \n",
       "515736       United Arab Emirates    \n",
       "515737                  Australia    \n",
       "\n",
       "                                          negative_review  \\\n",
       "0        Would have appreciated a shop in the hotel th...   \n",
       "1             No tissue paper box was present at the room   \n",
       "2                                                Pillows    \n",
       "3                                             No Negative   \n",
       "4                                             No Negative   \n",
       "...                                                   ...   \n",
       "515733                                        No Negative   \n",
       "515734                                        No Negative   \n",
       "515735   room is really small but guess is normal in L...   \n",
       "515736                                        No Negative   \n",
       "515737   Patio outside could have been cleaned of alga...   \n",
       "\n",
       "        review_total_negative_word_counts  total_number_of_reviews  \\\n",
       "0                                      52                    16670   \n",
       "1                                      10                     5018   \n",
       "2                                       3                      351   \n",
       "3                                       0                     1543   \n",
       "4                                       0                     4687   \n",
       "...                                   ...                      ...   \n",
       "515733                                  0                      617   \n",
       "515734                                  0                     3224   \n",
       "515735                                 12                     2751   \n",
       "515736                                  0                     1567   \n",
       "515737                                 20                     1209   \n",
       "\n",
       "                                          positive_review  \\\n",
       "0        Hotel was great clean friendly staff free bre...   \n",
       "1                                             No Positive   \n",
       "2                              Nice welcoming and service   \n",
       "3        Everything including the nice upgrade The Hot...   \n",
       "4                         Lovely hotel v welcoming staff    \n",
       "...                                                   ...   \n",
       "515733                 Tr s proche du metro Earl s court    \n",
       "515734   The bed was so comfy I stayed with my boyfrie...   \n",
       "515735     great location simple check in out nice shower   \n",
       "515736                        Location and very comfy bed   \n",
       "515737   Beds comfortable Pillows also good Homely fee...   \n",
       "\n",
       "        review_total_positive_word_counts  \\\n",
       "0                                      62   \n",
       "1                                       0   \n",
       "2                                       5   \n",
       "3                                      27   \n",
       "4                                       7   \n",
       "...                                   ...   \n",
       "515733                                 10   \n",
       "515734                                 93   \n",
       "515735                                  9   \n",
       "515736                                  6   \n",
       "515737                                 20   \n",
       "\n",
       "        total_number_of_reviews_reviewer_has_given  \\\n",
       "0                                                1   \n",
       "1                                                7   \n",
       "2                                               15   \n",
       "3                                                9   \n",
       "4                                                2   \n",
       "...                                            ...   \n",
       "515733                                          10   \n",
       "515734                                           1   \n",
       "515735                                          21   \n",
       "515736                                          28   \n",
       "515737                                           2   \n",
       "\n",
       "                                                     tags days_since_review  \\\n",
       "0       [' Leisure trip ', ' Couple ', ' Double Room '...           13 days   \n",
       "1       [' Leisure trip ', ' Group ', ' Triple Room ',...           234 day   \n",
       "2       [' Business trip ', ' Solo traveler ', ' Twin ...           616 day   \n",
       "3       [' Leisure trip ', ' Couple ', ' Ambassador Ju...           656 day   \n",
       "4       [' Business trip ', ' Solo traveler ', ' Class...           444 day   \n",
       "...                                                   ...               ...   \n",
       "515733  [' Leisure trip ', ' Group ', ' Club Double or...           106 day   \n",
       "515734  [' Leisure trip ', ' Couple ', ' Standard Doub...           171 day   \n",
       "515735  [' Business trip ', ' Solo traveler ', ' Singl...           543 day   \n",
       "515736  [' Leisure trip ', ' Solo traveler ', ' Deluxe...           74 days   \n",
       "515737  [' Leisure trip ', ' Couple ', ' Bunk Bed Room...           363 day   \n",
       "\n",
       "              lat        lng  sample  reviewer_score  \n",
       "0       45.533137   9.171102       0             0.0  \n",
       "1       52.385649   4.834443       0             0.0  \n",
       "2       41.393192   2.161520       0             0.0  \n",
       "3       45.479888   9.196298       0             0.0  \n",
       "4       52.370545   4.888644       0             0.0  \n",
       "...           ...        ...     ...             ...  \n",
       "515733  51.494028  -0.191050       1             8.8  \n",
       "515734  48.192379  16.399451       1             9.2  \n",
       "515735  51.520795  -0.131084       1             8.3  \n",
       "515736  51.515125  -0.160066       1             9.2  \n",
       "515737  51.493109  -0.190208       1             8.8  \n",
       "\n",
       "[515738 rows x 18 columns]"
      ]
     },
     "execution_count": 11,
     "metadata": {},
     "output_type": "execute_result"
    }
   ],
   "source": [
    "# объединим train и test в один датасет\n",
    "df_train['sample'] = 1 \n",
    "df_test['sample'] = 0 \n",
    "df_test['reviewer_score'] = 0 #для объединения присвоим значение 0 reviewer_score - целевой признак в тестовой выборке\n",
    "\n",
    "hotels = df_test.append(df_train, sort=False).reset_index(drop=True) #объединение датасетов\n",
    "hotels"
   ]
  },
  {
   "cell_type": "markdown",
   "id": "1f0192d2",
   "metadata": {
    "papermill": {
     "duration": 0.012449,
     "end_time": "2023-02-11T18:34:26.719520",
     "exception": false,
     "start_time": "2023-02-11T18:34:26.707071",
     "status": "completed"
    },
    "tags": []
   },
   "source": [
    "## Информация о датасете"
   ]
  },
  {
   "cell_type": "markdown",
   "id": "7d981be9",
   "metadata": {
    "papermill": {
     "duration": 0.012373,
     "end_time": "2023-02-11T18:34:26.744506",
     "exception": false,
     "start_time": "2023-02-11T18:34:26.732133",
     "status": "completed"
    },
    "tags": []
   },
   "source": [
    "Первоначальная версия датасета содержит 17 полей со следующей информацией:\n",
    "\n",
    "* hotel_address — адрес отеля;\n",
    "* review_date — дата, когда рецензент разместил соответствующий отзыв;\n",
    "* average_score — средний балл отеля, рассчитанный на основе последнего комментария за последний год;\n",
    "* hotel_name — название отеля;\n",
    "* reviewer_nationality — страна рецензента;\n",
    "* negative_review — отрицательный отзыв, который рецензент дал отелю;\n",
    "* review_total_negative_word_counts — общее количество слов в отрицательном отзыве;\n",
    "* positive_review — положительный отзыв, который рецензент дал отелю;\n",
    "* review_total_positive_word_counts — общее количество слов в положительном отзыве.\n",
    "* reviewer_score — оценка, которую рецензент поставил отелю на основе своего опыта;\n",
    "* total_number_of_reviews_reviewer_has_given — количество отзывов, которые рецензенты дали в прошлом;\n",
    "* total_number_of_reviews — общее количество действительных отзывов об отеле;\n",
    "* tags — теги, которые рецензент дал отелю;\n",
    "* days_since_review — количество дней между датой проверки и датой очистки;\n",
    "* additional_number_of_scoring — есть также некоторые гости, которые просто поставили оценку сервису, но не оставили отзыв. Это число указывает, сколько там действительных оценок без проверки.\n",
    "* lat — географическая широта отеля;\n",
    "* lng — географическая долгота отеля.\n",
    "\n",
    "Размер таблицы: (386803;17)\n",
    "Пропуски в данных: 'lat', 'lng'"
   ]
  },
  {
   "cell_type": "code",
   "execution_count": 12,
   "id": "2b630c78",
   "metadata": {
    "execution": {
     "iopub.execute_input": "2023-02-11T18:34:26.771571Z",
     "iopub.status.busy": "2023-02-11T18:34:26.771061Z",
     "iopub.status.idle": "2023-02-11T18:34:26.982127Z",
     "shell.execute_reply": "2023-02-11T18:34:26.980650Z"
    },
    "papermill": {
     "duration": 0.227393,
     "end_time": "2023-02-11T18:34:26.984477",
     "exception": false,
     "start_time": "2023-02-11T18:34:26.757084",
     "status": "completed"
    },
    "tags": []
   },
   "outputs": [
    {
     "name": "stdout",
     "output_type": "stream",
     "text": [
      "<class 'pandas.core.frame.DataFrame'>\n",
      "RangeIndex: 515738 entries, 0 to 515737\n",
      "Data columns (total 18 columns):\n",
      " #   Column                                      Non-Null Count   Dtype  \n",
      "---  ------                                      --------------   -----  \n",
      " 0   hotel_address                               515738 non-null  object \n",
      " 1   additional_number_of_scoring                515738 non-null  int64  \n",
      " 2   review_date                                 515738 non-null  object \n",
      " 3   average_score                               515738 non-null  float64\n",
      " 4   hotel_name                                  515738 non-null  object \n",
      " 5   reviewer_nationality                        515738 non-null  object \n",
      " 6   negative_review                             515738 non-null  object \n",
      " 7   review_total_negative_word_counts           515738 non-null  int64  \n",
      " 8   total_number_of_reviews                     515738 non-null  int64  \n",
      " 9   positive_review                             515738 non-null  object \n",
      " 10  review_total_positive_word_counts           515738 non-null  int64  \n",
      " 11  total_number_of_reviews_reviewer_has_given  515738 non-null  int64  \n",
      " 12  tags                                        515738 non-null  object \n",
      " 13  days_since_review                           515738 non-null  object \n",
      " 14  lat                                         512470 non-null  float64\n",
      " 15  lng                                         512470 non-null  float64\n",
      " 16  sample                                      515738 non-null  int64  \n",
      " 17  reviewer_score                              515738 non-null  float64\n",
      "dtypes: float64(4), int64(6), object(8)\n",
      "memory usage: 70.8+ MB\n"
     ]
    }
   ],
   "source": [
    "hotels.info()"
   ]
  },
  {
   "cell_type": "code",
   "execution_count": 13,
   "id": "26c2b59d",
   "metadata": {
    "execution": {
     "iopub.execute_input": "2023-02-11T18:34:27.012324Z",
     "iopub.status.busy": "2023-02-11T18:34:27.011969Z",
     "iopub.status.idle": "2023-02-11T18:34:27.029507Z",
     "shell.execute_reply": "2023-02-11T18:34:27.028583Z"
    },
    "papermill": {
     "duration": 0.033679,
     "end_time": "2023-02-11T18:34:27.031333",
     "exception": false,
     "start_time": "2023-02-11T18:34:26.997654",
     "status": "completed"
    },
    "tags": []
   },
   "outputs": [
    {
     "data": {
      "text/html": [
       "<div>\n",
       "<style scoped>\n",
       "    .dataframe tbody tr th:only-of-type {\n",
       "        vertical-align: middle;\n",
       "    }\n",
       "\n",
       "    .dataframe tbody tr th {\n",
       "        vertical-align: top;\n",
       "    }\n",
       "\n",
       "    .dataframe thead th {\n",
       "        text-align: right;\n",
       "    }\n",
       "</style>\n",
       "<table border=\"1\" class=\"dataframe\">\n",
       "  <thead>\n",
       "    <tr style=\"text-align: right;\">\n",
       "      <th></th>\n",
       "      <th>hotel_address</th>\n",
       "      <th>additional_number_of_scoring</th>\n",
       "      <th>review_date</th>\n",
       "      <th>average_score</th>\n",
       "      <th>hotel_name</th>\n",
       "      <th>reviewer_nationality</th>\n",
       "      <th>negative_review</th>\n",
       "      <th>review_total_negative_word_counts</th>\n",
       "      <th>total_number_of_reviews</th>\n",
       "      <th>positive_review</th>\n",
       "      <th>review_total_positive_word_counts</th>\n",
       "      <th>total_number_of_reviews_reviewer_has_given</th>\n",
       "      <th>tags</th>\n",
       "      <th>days_since_review</th>\n",
       "      <th>lat</th>\n",
       "      <th>lng</th>\n",
       "      <th>sample</th>\n",
       "      <th>reviewer_score</th>\n",
       "    </tr>\n",
       "  </thead>\n",
       "  <tbody>\n",
       "    <tr>\n",
       "      <th>0</th>\n",
       "      <td>Via Senigallia 6 20161 Milan Italy</td>\n",
       "      <td>904</td>\n",
       "      <td>7/21/2017</td>\n",
       "      <td>8.1</td>\n",
       "      <td>Hotel Da Vinci</td>\n",
       "      <td>United Kingdom</td>\n",
       "      <td>Would have appreciated a shop in the hotel th...</td>\n",
       "      <td>52</td>\n",
       "      <td>16670</td>\n",
       "      <td>Hotel was great clean friendly staff free bre...</td>\n",
       "      <td>62</td>\n",
       "      <td>1</td>\n",
       "      <td>[' Leisure trip ', ' Couple ', ' Double Room '...</td>\n",
       "      <td>13 days</td>\n",
       "      <td>45.533137</td>\n",
       "      <td>9.171102</td>\n",
       "      <td>0</td>\n",
       "      <td>0.0</td>\n",
       "    </tr>\n",
       "    <tr>\n",
       "      <th>1</th>\n",
       "      <td>Arlandaweg 10 Westpoort 1043 EW Amsterdam Neth...</td>\n",
       "      <td>612</td>\n",
       "      <td>12/12/2016</td>\n",
       "      <td>8.6</td>\n",
       "      <td>Urban Lodge Hotel</td>\n",
       "      <td>Belgium</td>\n",
       "      <td>No tissue paper box was present at the room</td>\n",
       "      <td>10</td>\n",
       "      <td>5018</td>\n",
       "      <td>No Positive</td>\n",
       "      <td>0</td>\n",
       "      <td>7</td>\n",
       "      <td>[' Leisure trip ', ' Group ', ' Triple Room ',...</td>\n",
       "      <td>234 day</td>\n",
       "      <td>52.385649</td>\n",
       "      <td>4.834443</td>\n",
       "      <td>0</td>\n",
       "      <td>0.0</td>\n",
       "    </tr>\n",
       "    <tr>\n",
       "      <th>2</th>\n",
       "      <td>Mallorca 251 Eixample 08008 Barcelona Spain</td>\n",
       "      <td>46</td>\n",
       "      <td>11/26/2015</td>\n",
       "      <td>8.3</td>\n",
       "      <td>Alexandra Barcelona A DoubleTree by Hilton</td>\n",
       "      <td>Sweden</td>\n",
       "      <td>Pillows</td>\n",
       "      <td>3</td>\n",
       "      <td>351</td>\n",
       "      <td>Nice welcoming and service</td>\n",
       "      <td>5</td>\n",
       "      <td>15</td>\n",
       "      <td>[' Business trip ', ' Solo traveler ', ' Twin ...</td>\n",
       "      <td>616 day</td>\n",
       "      <td>41.393192</td>\n",
       "      <td>2.161520</td>\n",
       "      <td>0</td>\n",
       "      <td>0.0</td>\n",
       "    </tr>\n",
       "    <tr>\n",
       "      <th>3</th>\n",
       "      <td>Piazza Della Repubblica 17 Central Station 201...</td>\n",
       "      <td>241</td>\n",
       "      <td>10/17/2015</td>\n",
       "      <td>9.1</td>\n",
       "      <td>Hotel Principe Di Savoia</td>\n",
       "      <td>United States of America</td>\n",
       "      <td>No Negative</td>\n",
       "      <td>0</td>\n",
       "      <td>1543</td>\n",
       "      <td>Everything including the nice upgrade The Hot...</td>\n",
       "      <td>27</td>\n",
       "      <td>9</td>\n",
       "      <td>[' Leisure trip ', ' Couple ', ' Ambassador Ju...</td>\n",
       "      <td>656 day</td>\n",
       "      <td>45.479888</td>\n",
       "      <td>9.196298</td>\n",
       "      <td>0</td>\n",
       "      <td>0.0</td>\n",
       "    </tr>\n",
       "    <tr>\n",
       "      <th>4</th>\n",
       "      <td>Singel 303 309 Amsterdam City Center 1012 WJ A...</td>\n",
       "      <td>834</td>\n",
       "      <td>5/16/2016</td>\n",
       "      <td>9.1</td>\n",
       "      <td>Hotel Esther a</td>\n",
       "      <td>United Kingdom</td>\n",
       "      <td>No Negative</td>\n",
       "      <td>0</td>\n",
       "      <td>4687</td>\n",
       "      <td>Lovely hotel v welcoming staff</td>\n",
       "      <td>7</td>\n",
       "      <td>2</td>\n",
       "      <td>[' Business trip ', ' Solo traveler ', ' Class...</td>\n",
       "      <td>444 day</td>\n",
       "      <td>52.370545</td>\n",
       "      <td>4.888644</td>\n",
       "      <td>0</td>\n",
       "      <td>0.0</td>\n",
       "    </tr>\n",
       "  </tbody>\n",
       "</table>\n",
       "</div>"
      ],
      "text/plain": [
       "                                       hotel_address  \\\n",
       "0                 Via Senigallia 6 20161 Milan Italy   \n",
       "1  Arlandaweg 10 Westpoort 1043 EW Amsterdam Neth...   \n",
       "2        Mallorca 251 Eixample 08008 Barcelona Spain   \n",
       "3  Piazza Della Repubblica 17 Central Station 201...   \n",
       "4  Singel 303 309 Amsterdam City Center 1012 WJ A...   \n",
       "\n",
       "   additional_number_of_scoring review_date  average_score  \\\n",
       "0                           904   7/21/2017            8.1   \n",
       "1                           612  12/12/2016            8.6   \n",
       "2                            46  11/26/2015            8.3   \n",
       "3                           241  10/17/2015            9.1   \n",
       "4                           834   5/16/2016            9.1   \n",
       "\n",
       "                                   hotel_name        reviewer_nationality  \\\n",
       "0                              Hotel Da Vinci             United Kingdom    \n",
       "1                           Urban Lodge Hotel                    Belgium    \n",
       "2  Alexandra Barcelona A DoubleTree by Hilton                     Sweden    \n",
       "3                    Hotel Principe Di Savoia   United States of America    \n",
       "4                              Hotel Esther a             United Kingdom    \n",
       "\n",
       "                                     negative_review  \\\n",
       "0   Would have appreciated a shop in the hotel th...   \n",
       "1        No tissue paper box was present at the room   \n",
       "2                                           Pillows    \n",
       "3                                        No Negative   \n",
       "4                                        No Negative   \n",
       "\n",
       "   review_total_negative_word_counts  total_number_of_reviews  \\\n",
       "0                                 52                    16670   \n",
       "1                                 10                     5018   \n",
       "2                                  3                      351   \n",
       "3                                  0                     1543   \n",
       "4                                  0                     4687   \n",
       "\n",
       "                                     positive_review  \\\n",
       "0   Hotel was great clean friendly staff free bre...   \n",
       "1                                        No Positive   \n",
       "2                         Nice welcoming and service   \n",
       "3   Everything including the nice upgrade The Hot...   \n",
       "4                    Lovely hotel v welcoming staff    \n",
       "\n",
       "   review_total_positive_word_counts  \\\n",
       "0                                 62   \n",
       "1                                  0   \n",
       "2                                  5   \n",
       "3                                 27   \n",
       "4                                  7   \n",
       "\n",
       "   total_number_of_reviews_reviewer_has_given  \\\n",
       "0                                           1   \n",
       "1                                           7   \n",
       "2                                          15   \n",
       "3                                           9   \n",
       "4                                           2   \n",
       "\n",
       "                                                tags days_since_review  \\\n",
       "0  [' Leisure trip ', ' Couple ', ' Double Room '...           13 days   \n",
       "1  [' Leisure trip ', ' Group ', ' Triple Room ',...           234 day   \n",
       "2  [' Business trip ', ' Solo traveler ', ' Twin ...           616 day   \n",
       "3  [' Leisure trip ', ' Couple ', ' Ambassador Ju...           656 day   \n",
       "4  [' Business trip ', ' Solo traveler ', ' Class...           444 day   \n",
       "\n",
       "         lat       lng  sample  reviewer_score  \n",
       "0  45.533137  9.171102       0             0.0  \n",
       "1  52.385649  4.834443       0             0.0  \n",
       "2  41.393192  2.161520       0             0.0  \n",
       "3  45.479888  9.196298       0             0.0  \n",
       "4  52.370545  4.888644       0             0.0  "
      ]
     },
     "execution_count": 13,
     "metadata": {},
     "output_type": "execute_result"
    }
   ],
   "source": [
    "hotels.head()"
   ]
  },
  {
   "cell_type": "code",
   "execution_count": 14,
   "id": "989caf76",
   "metadata": {
    "execution": {
     "iopub.execute_input": "2023-02-11T18:34:27.061301Z",
     "iopub.status.busy": "2023-02-11T18:34:27.060217Z",
     "iopub.status.idle": "2023-02-11T18:34:27.273576Z",
     "shell.execute_reply": "2023-02-11T18:34:27.272551Z"
    },
    "papermill": {
     "duration": 0.230867,
     "end_time": "2023-02-11T18:34:27.276120",
     "exception": false,
     "start_time": "2023-02-11T18:34:27.045253",
     "status": "completed"
    },
    "tags": []
   },
   "outputs": [],
   "source": [
    "# заполним пропуски в признаках lat и lng медианным значением\n",
    "def fill_blanks(df, sign): \n",
    "    sign_mode = round(statistics.median(df[sign]), 6)\n",
    "    df.fillna(value={sign: sign_mode}, inplace=True)\n",
    "    return df\n",
    "\n",
    "sign_to_fill = ['lat', 'lng']\n",
    "\n",
    "for sign in sign_to_fill:\n",
    "    hotels = fill_blanks(hotels, sign) "
   ]
  },
  {
   "cell_type": "code",
   "execution_count": 15,
   "id": "3bd0b676",
   "metadata": {
    "execution": {
     "iopub.execute_input": "2023-02-11T18:34:27.304372Z",
     "iopub.status.busy": "2023-02-11T18:34:27.303996Z",
     "iopub.status.idle": "2023-02-11T18:34:28.025605Z",
     "shell.execute_reply": "2023-02-11T18:34:28.024657Z"
    },
    "papermill": {
     "duration": 0.738213,
     "end_time": "2023-02-11T18:34:28.027823",
     "exception": false,
     "start_time": "2023-02-11T18:34:27.289610",
     "status": "completed"
    },
    "tags": []
   },
   "outputs": [
    {
     "data": {
      "text/plain": [
       "<AxesSubplot:>"
      ]
     },
     "execution_count": 15,
     "metadata": {},
     "output_type": "execute_result"
    },
    {
     "data": {
      "image/png": "[encoded data removed]",
      "text/plain": [
       "<Figure size 1080x720 with 2 Axes>"
      ]
     },
     "metadata": {
      "needs_background": "light"
     },
     "output_type": "display_data"
    }
   ],
   "source": [
    "# построим тепловую матрицу корреляций\n",
    "\n",
    "plt.rcParams['figure.figsize'] = (15,10)\n",
    "sns.heatmap(hotels.corr(), annot=True)"
   ]
  },
  {
   "cell_type": "code",
   "execution_count": 16,
   "id": "7b1de4cb",
   "metadata": {
    "execution": {
     "iopub.execute_input": "2023-02-11T18:34:28.058929Z",
     "iopub.status.busy": "2023-02-11T18:34:28.058510Z",
     "iopub.status.idle": "2023-02-11T18:34:28.116909Z",
     "shell.execute_reply": "2023-02-11T18:34:28.115733Z"
    },
    "papermill": {
     "duration": 0.076664,
     "end_time": "2023-02-11T18:34:28.119371",
     "exception": false,
     "start_time": "2023-02-11T18:34:28.042707",
     "status": "completed"
    },
    "tags": []
   },
   "outputs": [],
   "source": [
    "#Признаки total_number_of_reviews и additional_number_of_scoring имеют сильную корреляцию, удалим один из признаков\n",
    "hotels.drop(columns='additional_number_of_scoring', inplace=True)"
   ]
  },
  {
   "cell_type": "markdown",
   "id": "694a7eb0",
   "metadata": {
    "papermill": {
     "duration": 0.014324,
     "end_time": "2023-02-11T18:34:28.148800",
     "exception": false,
     "start_time": "2023-02-11T18:34:28.134476",
     "status": "completed"
    },
    "tags": []
   },
   "source": [
    "Признаков типа object  а данной таблице всего 8:\n",
    "1. hotel_address \n",
    "2. review_date \n",
    "3. hotel_name \n",
    "4. reviewer_nationality \n",
    "5. negative_review\n",
    "6. positive_review\n",
    "7. tags \n",
    "8. days_since_review \n",
    "\n",
    "### Подзадача:\n",
    "Получить информацию из признаков типа object, которая может пригодиться для обучения модели."
   ]
  },
  {
   "cell_type": "markdown",
   "id": "cbb15a20",
   "metadata": {
    "papermill": {
     "duration": 0.014447,
     "end_time": "2023-02-11T18:34:28.177939",
     "exception": false,
     "start_time": "2023-02-11T18:34:28.163492",
     "status": "completed"
    },
    "tags": []
   },
   "source": [
    "## Обработка признаков типа object"
   ]
  },
  {
   "cell_type": "markdown",
   "id": "f8fd2d19",
   "metadata": {
    "papermill": {
     "duration": 0.014456,
     "end_time": "2023-02-11T18:34:28.208118",
     "exception": false,
     "start_time": "2023-02-11T18:34:28.193662",
     "status": "completed"
    },
    "tags": []
   },
   "source": [
    "### 1. review_date"
   ]
  },
  {
   "cell_type": "code",
   "execution_count": 17,
   "id": "7d7189e2",
   "metadata": {
    "execution": {
     "iopub.execute_input": "2023-02-11T18:34:28.238659Z",
     "iopub.status.busy": "2023-02-11T18:34:28.238282Z",
     "iopub.status.idle": "2023-02-11T18:34:28.518594Z",
     "shell.execute_reply": "2023-02-11T18:34:28.517627Z"
    },
    "papermill": {
     "duration": 0.298872,
     "end_time": "2023-02-11T18:34:28.521551",
     "exception": false,
     "start_time": "2023-02-11T18:34:28.222679",
     "status": "completed"
    },
    "tags": []
   },
   "outputs": [],
   "source": [
    "# Преобразуем информацию о дате в формат datetime\n",
    "hotels['review_date'] = pd.to_datetime(hotels['review_date'],yearfirst=True)\n",
    "\n",
    "#Вынесем информацию о годе и месяце в отдельные признаки\n",
    "hotels['review_year'] = hotels['review_date'].dt.year\n",
    "hotels['review_month'] = hotels['review_date'].dt.month\n",
    "\n",
    "#Удалим исходный признак\n",
    "hotels = hotels.drop('review_date',axis=1)"
   ]
  },
  {
   "cell_type": "markdown",
   "id": "3cd4778c",
   "metadata": {
    "papermill": {
     "duration": 0.01474,
     "end_time": "2023-02-11T18:34:28.551846",
     "exception": false,
     "start_time": "2023-02-11T18:34:28.537106",
     "status": "completed"
    },
    "tags": []
   },
   "source": [
    "### 2. tags"
   ]
  },
  {
   "cell_type": "markdown",
   "id": "28209745",
   "metadata": {
    "papermill": {
     "duration": 0.014421,
     "end_time": "2023-02-11T18:34:28.581179",
     "exception": false,
     "start_time": "2023-02-11T18:34:28.566758",
     "status": "completed"
    },
    "tags": []
   },
   "source": [
    "Признак 'tags' содержит информацию о тэгах пользователей, оставленных в каждом коментариии к отелю, инфромация в ячейках представлена в виде строки. Нам необходимо получить из строки список тэгов. "
   ]
  },
  {
   "cell_type": "code",
   "execution_count": 18,
   "id": "a882afbd",
   "metadata": {
    "execution": {
     "iopub.execute_input": "2023-02-11T18:34:28.612361Z",
     "iopub.status.busy": "2023-02-11T18:34:28.612017Z",
     "iopub.status.idle": "2023-02-11T18:34:30.030185Z",
     "shell.execute_reply": "2023-02-11T18:34:30.029493Z"
    },
    "papermill": {
     "duration": 1.435897,
     "end_time": "2023-02-11T18:34:30.032449",
     "exception": false,
     "start_time": "2023-02-11T18:34:28.596552",
     "status": "completed"
    },
    "tags": []
   },
   "outputs": [],
   "source": [
    "# Функция принимает строку с тэгами и возвращает список тэгов\n",
    "def get_tags_list(tags_str):\n",
    "\n",
    "    tags_list = tags_str[1:-1] # удаляем скобки вначале и в конце строки\n",
    "    tags_list = tags_list.replace(\"' \",\"\") # удаляем кавычки вначале тэга\n",
    "    tags_list = tags_list.replace(\" '\",\"\") # удаляем кавычки вконце тэга\n",
    "    tags_list = tags_list.split(', ') # разделяем строку на отдельные тэги\n",
    "    return tags_list\n",
    "\n",
    "hotels['tags'] = hotels['tags'].apply(get_tags_list)"
   ]
  },
  {
   "cell_type": "markdown",
   "id": "66feaa04",
   "metadata": {
    "papermill": {
     "duration": 0.013841,
     "end_time": "2023-02-11T18:34:30.060702",
     "exception": false,
     "start_time": "2023-02-11T18:34:30.046861",
     "status": "completed"
    },
    "tags": []
   },
   "source": [
    "Попробуем выяснить какие тэги пользователи оставляли чаще, а какие реже."
   ]
  },
  {
   "cell_type": "code",
   "execution_count": 19,
   "id": "1bf51e7b",
   "metadata": {
    "execution": {
     "iopub.execute_input": "2023-02-11T18:34:30.090802Z",
     "iopub.status.busy": "2023-02-11T18:34:30.090138Z",
     "iopub.status.idle": "2023-02-11T18:34:31.283631Z",
     "shell.execute_reply": "2023-02-11T18:34:31.282660Z"
    },
    "papermill": {
     "duration": 1.212894,
     "end_time": "2023-02-11T18:34:31.287649",
     "exception": false,
     "start_time": "2023-02-11T18:34:30.074755",
     "status": "completed"
    },
    "tags": []
   },
   "outputs": [
    {
     "name": "stdout",
     "output_type": "stream",
     "text": [
      "Количество уникальных тэгов в таблице: 2428\n",
      "{'Leisure trip': 417778, 'Submitted from a mobile device': 307640, 'Couple': 252294, 'Stayed 1 night': 193645, 'Stayed 2 nights': 133937, 'Solo traveler': 108545, 'Stayed 3 nights': 95821, 'Business trip': 82939, 'Group': 65392, 'Family with young children': 61015, 'Stayed 4 nights': 47817, 'Double Room': 35207, 'Standard Double Room': 32248, 'Superior Double Room': 31393, 'Family with older children': 26349, 'Deluxe Double Room': 24823, 'Double or Twin Room': 22393, 'Stayed 5 nights': 20845, 'Standard Double or Twin Room': 17483, 'Classic Double Room': 16989, 'Superior Double or Twin Room': 13570, '2 rooms': 12393, 'Stayed 6 nights': 9776, 'Standard Twin Room': 9745, 'Single Room': 9670, 'Twin Room': 8321, 'Stayed 7 nights': 7399, 'Executive Double Room': 6425, 'Classic Double or Twin Room': 6107, 'Superior Twin Room': 6064, 'Deluxe Double or Twin Room': 5998, 'Club Double Room': 5908, 'Queen Room': 5472, 'Deluxe King Room': 5357, 'Superior Queen Room': 4898, 'Standard Single Room': 4615, 'Junior Suite': 4559, 'Triple Room': 4493, 'Superior Room': 4417, 'Classic Room': 4416, 'Superior King Room': 4248, 'Standard Room': 4205, 'Deluxe Room': 3974, 'Standard Queen Room': 3533, 'Double Guest Room': 3437, 'Deluxe Single Room': 3283, 'Small Double Room': 3187, 'Queen Guest Room': 3125, 'Deluxe Twin Room': 3083, 'Basic Double Room': 2851, 'King Room': 2843, 'Comfort Double Room': 2641, 'Executive King Room': 2631, 'Small Queen Room': 2505, 'Stayed 8 nights': 2502, 'Standard Double Room without Window': 2424, 'Comfort Double or Twin Room': 2404, 'Double or Twin Room 1 2 Adults': 2391, 'Classic Twin Room': 2360, 'Twin Guest Room': 2197, 'Family Room': 2165, 'Travelers with friends': 2143, 'Suite': 1897, 'Superior King or Twin Room': 1831, 'Deluxe King or Twin Room': 1650, 'Deluxe Double': 1634, 'King Guest Room': 1630, 'Cosy Double Room': 1604, 'Standard Double Twin Room': 1420, 'With a pet': 1405, 'Club Twin Room': 1401, 'Executive Double or Twin Room': 1395, 'Classic King Room': 1318, 'Standard Triple Room': 1300, 'Executive Room': 1293, 'Double Room Non Smoking': 1257, 'Standard': 1231, 'Economy Double Room': 1193, 'Large Double Room': 1192, 'Quadruple Room': 1157, 'Luxury Double Room': 1149, 'Superior Single Room': 1120, 'Superior Double Room with Internal View': 1112, 'Classic Single Room': 1090, 'Double Room with Two Double Beds': 1087, 'Executive Twin Room': 1080, 'Dorsett Double Room': 1044, 'Premier Double Room': 996, 'Studio': 986, 'Superior Double or Twin Room 1 2 Adults': 971, 'Twin Hilton Guest Room': 951, 'Family Room 2 Adults 2 Children': 926, 'Studio King Family': 925, 'Compact Double Room': 913, 'City King or Twin Room': 897, 'Stayed 10 nights': 889, 'Standard Room with 1 Double Bed': 879, 'Classic Queen Room': 791, 'Deluxe Queen Room': 748, 'Deluxe Triple Room': 747, 'Comfort Room': 744, 'Queen or Two Double Beds Room': 742, 'City King Room': 739, 'Studio Suite': 728, 'Standard Double': 722, 'Premium Double or Twin Room': 710, 'Superior Triple Room': 706, 'Queen Room Non Smoking': 703, 'Twin Room Non Smoking': 700, 'Superior Twin Room with Internal View': 697, 'One Bedroom Suite': 661, 'Double Room with View': 649, 'King Hilton Guest Room': 646, 'Double Room 1 Adult': 623, 'Art King Room': 610, 'Deluxe Room Barlow Wing': 607, 'Standard King Room': 599, 'Premium Double Room': 594, 'Double Room with Courtyard View': 592, 'Executive King Room with Lounge Access': 585, 'Deluxe King Room with River View': 541, 'Double or Twin Room Non Smoking': 540, 'Queen Room Mobility Access': 515, 'Double Room 1 2 Adults': 508, 'Studio Double Family': 506, 'City Twin Room': 503, 'Double Room with Sofa Bed': 484, 'Cosy Single Room': 476, '3 rooms': 474, 'Standard Double Room No Window': 470, 'Business Double or Twin Room': 428, 'Room Selected at Check In': 418, 'Superior Shard King': 402, 'Superior Double Room Disability Access': 399, 'Deluxe with Two Double Beds': 391, 'Comfort Triple Room': 388, 'Superior Room with 2 Single Beds': 385, 'Club Single Room': 384, 'Double or Twin Room with Spa Access': 379, 'Deluxe King Room with City View': 375, 'Deluxe King Room with Stadium View': 367, 'Standard Double Room with Bridge View': 360, 'Double Room with Terrace': 358, 'Standard Room with 1 Single Bed': 348, 'Deluxe Double Room with Two Double Beds': 340, 'Double Room with Single Bed': 339, 'Queen Room with Mobility Access': 338, 'Double Room with City View': 337, 'Basic Single Room': 327, 'Large Twin Room': 319, 'Stayed 12 nights': 316, 'Small Single Room': 312, 'Duplex Double Room': 311, 'Standard Room with Spa access': 310, 'Luxury Room': 308, 'Deluxe Double Room 1 2 Adults': 305, 'Standard Room with 2 Single Beds': 304, 'Luxury Suite': 303, 'Double Room with Sofa Bed Non Smoking': 299, 'Superior Double or Twin Room with View': 296, 'Standard Room with Queen Bed': 293, 'Superior Double Room with City View': 289, 'Special Offer Double Room': 288, 'Standard Room 1 2 adults': 286, 'Double Room with Balcony': 285, 'Queen Hilton Guest Room': 283, 'Wonderful Double or Twin Room': 280, 'Superior Deluxe Room': 275, 'Superior Double Room with Terrace': 272, 'Executive Double Room River View': 271, 'Deluxe Double and Single Room': 270, 'Classic Double or Twin Room with Spa Access': 269, 'Standard Quadruple Room': 268, 'Deluxe King Room with Balcony': 264, 'Superior Room with Queen size bed and Sofa Bed': 261, 'Superior Room with Queensize Bed and double couch 2 adults 2 children': 260, 'Queen Guest Room with Sofa Bed': 257, 'Double or Twin Room with Terrace': 256, 'Double Hilton Deluxe Room': 255, 'Double Room with Street View': 251, 'Double or Twin Room with Courtyard View': 250, 'Business Double Room': 248, 'Stayed 14 nights': 247, 'Stayed 13 nights': 246, 'Standard Family Room': 240, 'Quality Double or Twin Room': 238, 'Superior Double or Twin Room with Terrace': 237, 'Double or Twin Room with City View': 236, 'Studio Triple': 230, 'Junior Double Room': 229, 'Privilege Double Room': 228, 'Double or Twin Room with Extra Bed': 227, 'Superior Room with Queen Bed Sofa': 225, 'King Double Room': 224, 'Standard Suite': 223, 'Standard Double or Twin Room with Balcony': 222, 'Chelsea Double Suite': 220, 'Family Suite': 219, 'Large Room': 216, 'Urban Double or Twin Room': 214, 'Deluxe King with Balcony': 213, 'Double or Twin Room with Balcony': 212, 'Double Room with Public Transport Ticket': 209, 'Executive Single Room': 207, 'Classic Room with Courtyard View': 206, 'Prestige Double Room': 204, 'Double Room with Extra Bed': 202, 'Studio Double Room': 201, 'Superior Double Room with Spa Access': 199, 'Wonderful Room': 198, 'Single Room with Shower': 197, 'Dalston King': 195, 'Premier King Room with City View': 192, 'Executive Suite': 191, 'Double Room Annex': 187, 'Superior Room with Spa access': 185, 'Standard Twin Room with Bridge View': 183, 'Deluxe Guest Room': 182, 'Family Room 3 Adults': 181, 'Two Bedroom Apartment': 180, 'Superior Room with 1 Queen Bed': 178, 'Double Room Disability Access': 177, 'Queen Double Room': 176, 'Two Connecting Double Rooms': 174, 'Double or Twin Room with Sea View': 173, 'Superior Queen Room with Sofa': 170, 'Grand Deluxe Double or Twin Room': 169, 'Family Room 4 Adults': 167, 'Comfort Twin Room': 165, 'Deluxe Suite': 164, 'Deluxe Studio': 163, 'Large Comfort Double or Twin Room': 162, 'Classic Double or Twin Room with City View': 160, 'Executive Studio': 159, 'Superior King Room Eiffel Tower View': 158, 'Family Junior Suite 3 Adults 1 Child': 156, 'Deluxe Family Room': 155, 'Superior Double Room with 1 Double Bed and 1 Sofa Bed 2 places': 152, 'Deluxe Double or Twin Room 1 2 Adults': 150, 'Executive Club Double Room': 149, 'Queen Room with Sofa Bed': 148, 'Deluxe Double or Twin Room with City View': 147, 'Executive Studio City View Family': 146, 'Junior Suite with Spa Access': 145, 'Comfort Double or Twin Room 1 2 Adults': 144, 'Two Connecting Rooms': 143, 'Club King Room': 142, 'Double Room with River View': 140, 'Superior Twin Room Barlow Wing': 138, 'King Room Non Smoking': 137, 'Twin Deluxe Room': 136, 'One Room Suite with Kitchenette': 135, 'Special Offer Superior Double Room': 134, 'Deluxe One Bedroom Suite': 133, 'Standard Double Room with Park View': 132, 'Junior Suite 1 2 Adults': 130, 'Discovery Double Room': 129, 'Premier Twin Room': 128, 'Apartment': 127, 'Superior Room with 1 kingsize bed': 126, 'King Deluxe Guest Room': 125, 'Classic Double or Single Room': 124, 'Deluxe Double or Twin Room 2 adults 1 child': 123, 'Queen Bed Leisure': 122, 'Double Room Free Wi Fi': 121, 'Executive Double Room with Whirlpool': 120, 'Comfort Single Room': 119, 'Deluxe Double Room with Spa Bath': 118, 'Superior Room with Queensize Bed and Single Sofa Bed': 117, 'Deluxe Queen Room with River View': 115, 'King Room with Balcony': 113, 'Deluxe Single Room with View': 112, 'Special Offer Double or Twin Room': 110, 'Eiffel Tower View King Room': 109, 'Standard Room for 1 or 2 people with Kitchenette': 108, 'Superior Double Room with View': 107, 'Quality Single Room': 106, 'Fabulous Double or Twin Room': 105, 'Superior Double or Twin Room with Spa Access': 104, 'Standard Double or Twin Room with Extra bed 2 Adults 1 Child': 103, 'Double Family Guestroom': 102, 'Corner Suite': 101, 'Superior Double or Twin Room with City View': 100, 'Executive Double': 99, 'Double Queen Waterfront': 98, 'Triple Hilton Family Room': 97, 'Superior Room with Spa Fitness Access': 96, 'Secret Double Room': 95, 'Executive King Room Non Smoking': 94, 'Duplex Suite': 93, 'Classic Double Room with Garden View': 92, 'Deluxe': 91, 'Executive Queen Room with Sofa': 90, 'Superior Room with City View': 89, 'Superior Room with 1 Double Bed': 88, 'Double Hilton Deluxe': 87, 'Superior Family Room 2 Adults 1 Child': 86, 'Deluxe Double Room Canal View': 85, 'penta Standard Room': 84, 'Deluxe King Room with Water View': 83, 'One Bed Feature Room': 82, 'Premier Room with Balcony': 81, 'Classic Triple Room 3 Adults': 80, 'Deluxe Double or Twin Room with Terrace': 79, 'Budget Single Room': 78, 'Superior Quadruple Room': 77, 'Superior Twin Room with View': 76, 'Superior Twin or Double Room': 75, 'Deluxe Eiffel Tower King Room': 74, 'Suite with Hot Tub': 73, 'Quintuple Room': 72, 'Aldwych Double Twin Room': 71, 'Special Offer Executive Double Twin Room with Access to Nagomi Health': 70, 'Superior Queen Suite with Sofa': 69, 'Superior Double or Twin Room with Balcony': 68, 'Grand Superior King or Twin Room': 67, 'Double or Twin Room 1 or 2 adults': 66, 'Superior Plus Room': 65, 'Large King Room': 64, 'Grand Deluxe King or Twin Room': 63, 'Luxury Room 1 Queensize Bed Twin bedded Room On Request': 62, 'King City View Room': 61, 'Superior Room with Queen Bed and Sofa': 60, 'Club Room with Club Lounge Access Free Wifi': 59, 'Junior King Suite': 58, 'Stayed 16 nights': 57, 'Superior Studio Apartment': 56, 'Super Deluxe Double Room': 55, 'Twin Room with Extra Bed': 54, 'Royal Suite with Canal View': 53, 'Superior Double Room with Free Access to Steam Bath': 52, 'Weekend Offer Standard Studio': 51, 'Hypoallergenic Double or Twin Room': 50, 'Privilege Super King or Twin Room': 49, 'Premium Triple Room': 48, 'Privilege Room with 1 Double Bed': 47, 'Premier Shard King Room': 46, 'Superior Suite 2 Adults 2 Children': 45, 'Double or Twin Room with Bath': 44, 'Superior Room with a shower or a bath': 43, 'Studio Twin': 42, 'Deluxe Double plus Single Bed': 41, 'Luxury Twin Room': 40, 'Deluxe Double Room with Balcony': 39, 'Superior Double Room with Free Pool Access': 38, 'Executive Double or Twin Room La Ravissante': 37, 'penta Plus Room': 36, 'Twin Room with City View 1 2 Adults': 35, 'Executive Room with Two Double Beds': 34, 'Stayed 18 nights': 33, 'Double Room GWR Tower': 32, 'Superior Triple Room XL': 31, 'King Room Second Floor': 30, 'Deluxe Family Room with 1 Double and 2 Single Beds 4 Adults': 29, 'Traditional Double Room': 28, 'Cool Corner Suite': 27, 'Premium Double Room with Garden View': 26, 'Souterrain Triple Room': 25, 'Classic Double Room with Courtyard View': 24, 'Junior Suite with Private Pool': 23, 'Superior Suite with View': 22, 'Executive Room Free Executive Lounge Access': 21, 'Superior Premium Queen Room with Sofa Bed': 20, 'Comfort Single Room with Window and Double Bed': 19, 'Superior Double Room 1 2 Adults': 18, 'Suite with Private Pool': 17, 'Junior Suite with Park View': 16, 'Romantic Offer Double Room': 15, 'King Executive Plus Room': 14, 'Park Queen': 13, 'Suite 2 Adults 2 Children': 12, 'Deluxe double or Twin Room': 11, 'Queen Suite': 10, 'Superior King Suite': 9, 'Ambassador Junior Suite': 8, 'Prestige Double Room with Eiffel Tower View': 7, 'Single Room with Arc de Triomphe View': 6, 'Executive Deluxe Double Room': 5, 'Double Room Duchesse': 4, 'Junior Conservatory with King Bed': 3, 'Two Bedroom Deluxe Suite': 2, 'Minsters Deluxe One Bedroom Suite': 1}\n"
     ]
    }
   ],
   "source": [
    "# Функция принимает на вход список тэгов\n",
    "# и возвращает словарь тэгов, где значения - количество их повтров в ячейках таблицы\n",
    "\n",
    "uniq_tags_dict = dict() # задаем словарь, в который будем добавлять тэги\n",
    "\n",
    "def tags_count(tags_list):\n",
    "    for elem in tags_list:\n",
    "        if elem in uniq_tags_dict.keys():\n",
    "            uniq_tags_dict[elem] = int(uniq_tags_dict.get(elem)) + 1 \n",
    "        else:\n",
    "            uniq_tags_dict[elem] = 1\n",
    "    return(uniq_tags_dict)\n",
    "    \n",
    "hotels['tags'].apply(tags_count)\n",
    "\n",
    "# Количество уникальных тэгов в таблице\n",
    "print(\"Количество уникальных тэгов в таблице:\",len(uniq_tags_dict))\n",
    "\n",
    "# Отсоритируем словарь с тэгами по значению в порядке убывания (сохранение порядка элементов словаря\n",
    "# не гарантируется в версиях Python старше 3.7) \n",
    "\n",
    "sorted_values = sorted(uniq_tags_dict.values(),reverse=True) # Создадим отсортированный список со значениями \n",
    "sorted_dict = {} # пустой словарь, куда будем добавлять отсортированные ключи со значениями\n",
    "\n",
    "for i in sorted_values:\n",
    "    for k in uniq_tags_dict.keys():\n",
    "        if uniq_tags_dict[k] == i:\n",
    "            sorted_dict[k] = uniq_tags_dict[k]\n",
    "            break\n",
    "\n",
    "print(sorted_dict)"
   ]
  },
  {
   "cell_type": "markdown",
   "id": "730c9f16",
   "metadata": {
    "papermill": {
     "duration": 0.014495,
     "end_time": "2023-02-11T18:34:31.317341",
     "exception": false,
     "start_time": "2023-02-11T18:34:31.302846",
     "status": "completed"
    },
    "tags": []
   },
   "source": [
    "Итак, в таблице 2368 уникальных тэга, из них чаще всего используется тэг 'Leisure trip' - 313593 раз, \n",
    "реже всего тэг 'King Room with Sea View' - 1 раз. Тэги, которые редко используют пользователи, не несут для нас полезной информации поэтому можно оставить только те тэги, которые чаще встречаются в датасете."
   ]
  },
  {
   "cell_type": "code",
   "execution_count": 20,
   "id": "801b6900",
   "metadata": {
    "execution": {
     "iopub.execute_input": "2023-02-11T18:34:31.347708Z",
     "iopub.status.busy": "2023-02-11T18:34:31.347320Z",
     "iopub.status.idle": "2023-02-11T18:34:35.755726Z",
     "shell.execute_reply": "2023-02-11T18:34:35.754754Z"
    },
    "papermill": {
     "duration": 4.426443,
     "end_time": "2023-02-11T18:34:35.758191",
     "exception": false,
     "start_time": "2023-02-11T18:34:31.331748",
     "status": "completed"
    },
    "tags": []
   },
   "outputs": [],
   "source": [
    "# Составим список топ-20 тэгов\n",
    "top_tags = list(sorted_dict.keys())[:20]\n",
    "\n",
    "# По каждому тэгу создадим отдельный признак, который будет содержать информацию о наличии или отутсвии тэга \n",
    "for tag in top_tags:\n",
    "    hotels[tag] = hotels.tags.apply(lambda x: 1 if tag in x else 0)\n",
    "    \n",
    "# Удаляем исходный столбец\n",
    "hotels = hotels.drop('tags',axis=1)"
   ]
  },
  {
   "cell_type": "markdown",
   "id": "95e91398",
   "metadata": {
    "papermill": {
     "duration": 0.014056,
     "end_time": "2023-02-11T18:34:35.787023",
     "exception": false,
     "start_time": "2023-02-11T18:34:35.772967",
     "status": "completed"
    },
    "tags": []
   },
   "source": [
    "### 3. days_since_review"
   ]
  },
  {
   "cell_type": "markdown",
   "id": "ab679da7",
   "metadata": {
    "papermill": {
     "duration": 0.01397,
     "end_time": "2023-02-11T18:34:35.815278",
     "exception": false,
     "start_time": "2023-02-11T18:34:35.801308",
     "status": "completed"
    },
    "tags": []
   },
   "source": [
    "Признак days_since_review содержит информацию о количестве прошедших дней с момента создания отзыва в формате строки, вынесем из этого признака число дней"
   ]
  },
  {
   "cell_type": "code",
   "execution_count": 21,
   "id": "cccaaa01",
   "metadata": {
    "execution": {
     "iopub.execute_input": "2023-02-11T18:34:35.845931Z",
     "iopub.status.busy": "2023-02-11T18:34:35.845343Z",
     "iopub.status.idle": "2023-02-11T18:34:36.712254Z",
     "shell.execute_reply": "2023-02-11T18:34:36.711305Z"
    },
    "papermill": {
     "duration": 0.885029,
     "end_time": "2023-02-11T18:34:36.714683",
     "exception": false,
     "start_time": "2023-02-11T18:34:35.829654",
     "status": "completed"
    },
    "tags": []
   },
   "outputs": [],
   "source": [
    "# Функция принимает на вход строку и возвращает из нее число\n",
    "def get_day_count(string):\n",
    "    pattern = re.compile(r'\\d+') #задаем паттерн для поиска числа в строке\n",
    "    day_count = int(pattern.findall(string)[0]) #применяем паттерн и преобразуем строку в число\n",
    "    return day_count\n",
    "\n",
    "# Применим функцию к признаку days_since_review\n",
    "hotels['days_since_review'] = hotels['days_since_review'].apply(get_day_count)"
   ]
  },
  {
   "cell_type": "markdown",
   "id": "3fd474e8",
   "metadata": {
    "papermill": {
     "duration": 0.013976,
     "end_time": "2023-02-11T18:34:36.743668",
     "exception": false,
     "start_time": "2023-02-11T18:34:36.729692",
     "status": "completed"
    },
    "tags": []
   },
   "source": [
    "### 4. hotel_address"
   ]
  },
  {
   "cell_type": "markdown",
   "id": "70c68764",
   "metadata": {
    "papermill": {
     "duration": 0.013713,
     "end_time": "2023-02-11T18:34:36.771532",
     "exception": false,
     "start_time": "2023-02-11T18:34:36.757819",
     "status": "completed"
    },
    "tags": []
   },
   "source": [
    "В адрессе старана, где находится отель обозначена в конце адресса. Наша задача попробовать получить из этой строки только название станы, в которой находится отель."
   ]
  },
  {
   "cell_type": "markdown",
   "id": "3debeda0",
   "metadata": {
    "papermill": {
     "duration": 0.013795,
     "end_time": "2023-02-11T18:34:36.799291",
     "exception": false,
     "start_time": "2023-02-11T18:34:36.785496",
     "status": "completed"
    },
    "tags": []
   },
   "source": [
    "Заметим, что национальность интервьюера записана в таком же формате, как название страны в адрессе отеля (т.е. без окончаний, только название страны), значит отсюда мы можем получить список из названий стран."
   ]
  },
  {
   "cell_type": "code",
   "execution_count": 22,
   "id": "3bf0df59",
   "metadata": {
    "execution": {
     "iopub.execute_input": "2023-02-11T18:34:36.828587Z",
     "iopub.status.busy": "2023-02-11T18:34:36.828256Z",
     "iopub.status.idle": "2023-02-11T18:34:36.866502Z",
     "shell.execute_reply": "2023-02-11T18:34:36.865404Z"
    },
    "papermill": {
     "duration": 0.055846,
     "end_time": "2023-02-11T18:34:36.868995",
     "exception": false,
     "start_time": "2023-02-11T18:34:36.813149",
     "status": "completed"
    },
    "tags": []
   },
   "outputs": [
    {
     "data": {
      "text/plain": [
       "[' United Kingdom',\n",
       " ' United States of America',\n",
       " ' Australia',\n",
       " ' Ireland',\n",
       " ' United Arab Emirates',\n",
       " ' Saudi Arabia',\n",
       " ' Netherlands',\n",
       " ' Switzerland',\n",
       " ' Germany',\n",
       " ' Canada',\n",
       " ' France',\n",
       " ' Israel',\n",
       " ' Italy',\n",
       " ' Belgium',\n",
       " ' Turkey',\n",
       " ' Kuwait',\n",
       " ' Spain',\n",
       " ' Romania',\n",
       " ' Russia',\n",
       " ' South Africa',\n",
       " ' India',\n",
       " ' Greece',\n",
       " ' China',\n",
       " ' Sweden',\n",
       " ' New Zealand',\n",
       " ' Singapore',\n",
       " ' Hong Kong',\n",
       " ' Poland',\n",
       " ' Qatar',\n",
       " ' Austria',\n",
       " ' Egypt',\n",
       " ' Norway',\n",
       " ' Czech Republic',\n",
       " ' Lebanon',\n",
       " ' Hungary',\n",
       " ' Malaysia',\n",
       " ' Thailand',\n",
       " ' Brazil',\n",
       " ' Portugal',\n",
       " ' Finland',\n",
       " ' Denmark',\n",
       " ' Malta',\n",
       " ' Bahrain',\n",
       " ' Indonesia',\n",
       " ' Cyprus',\n",
       " ' Luxembourg',\n",
       " ' Croatia',\n",
       " ' Oman',\n",
       " ' Bulgaria',\n",
       " ' Japan',\n",
       " ' Serbia',\n",
       " ' Ukraine',\n",
       " ' Iran',\n",
       " ' South Korea',\n",
       " ' Philippines',\n",
       " ' Nigeria',\n",
       " ' Iceland',\n",
       " ' Taiwan',\n",
       " ' Pakistan',\n",
       " ' Slovakia',\n",
       " ' Jersey',\n",
       " ' Slovenia',\n",
       " ' Estonia',\n",
       " ' Jordan',\n",
       " ' Lithuania',\n",
       " ' Latvia',\n",
       " ' Mexico',\n",
       " ' Guernsey',\n",
       " '',\n",
       " ' Argentina',\n",
       " ' Isle of Man',\n",
       " ' Gibraltar',\n",
       " ' Chile',\n",
       " ' Georgia',\n",
       " ' Iraq',\n",
       " ' Albania',\n",
       " ' Sri Lanka',\n",
       " ' Macedonia',\n",
       " ' Kazakhstan',\n",
       " ' Colombia',\n",
       " ' Azerbaijan',\n",
       " ' Kenya',\n",
       " ' Monaco',\n",
       " ' Bosnia and Herzegovina',\n",
       " ' Morocco',\n",
       " ' Mauritius',\n",
       " ' Belarus',\n",
       " ' Montenegro',\n",
       " ' Vietnam',\n",
       " ' Puerto Rico',\n",
       " ' Trinidad and Tobago',\n",
       " ' Abkhazia Georgia',\n",
       " ' Bangladesh',\n",
       " ' Ghana',\n",
       " ' Armenia',\n",
       " ' Panama',\n",
       " ' Costa Rica',\n",
       " ' Peru',\n",
       " ' Macau',\n",
       " ' Moldova',\n",
       " ' Bermuda',\n",
       " ' Brunei',\n",
       " ' Algeria',\n",
       " ' Uruguay',\n",
       " ' Venezuela',\n",
       " ' Tunisia',\n",
       " ' United States Minor Outlying Islands',\n",
       " ' Libya',\n",
       " ' Kosovo',\n",
       " ' Namibia',\n",
       " ' Andorra',\n",
       " ' Angola',\n",
       " ' Ecuador',\n",
       " ' Barbados',\n",
       " ' Tanzania',\n",
       " ' Palestinian Territory',\n",
       " ' Guatemala',\n",
       " ' Dominican Republic',\n",
       " ' Sudan',\n",
       " ' Zimbabwe',\n",
       " ' Maldives',\n",
       " ' Uganda',\n",
       " ' Botswana',\n",
       " ' Cayman Islands',\n",
       " ' Cura ao',\n",
       " ' Jamaica',\n",
       " ' Mongolia',\n",
       " ' Zambia',\n",
       " ' Mozambique',\n",
       " ' Cambodia',\n",
       " ' Syria',\n",
       " ' Bahamas',\n",
       " ' Ethiopia',\n",
       " ' Aruba',\n",
       " ' Paraguay',\n",
       " ' El Salvador',\n",
       " ' Senegal',\n",
       " ' Honduras',\n",
       " ' Seychelles',\n",
       " ' Kyrgyzstan',\n",
       " ' Liechtenstein',\n",
       " ' Uzbekistan',\n",
       " ' Ivory Coast',\n",
       " ' Bolivia',\n",
       " ' Myanmar',\n",
       " ' U S Virgin Islands',\n",
       " ' Tajikistan',\n",
       " ' Faroe Islands',\n",
       " ' Yemen',\n",
       " ' British Virgin Islands',\n",
       " ' Nicaragua',\n",
       " ' Nepal',\n",
       " ' Turks Caicos Islands',\n",
       " ' Papua New Guinea',\n",
       " ' Antigua Barbuda',\n",
       " ' Guam',\n",
       " ' Rwanda',\n",
       " ' Fiji',\n",
       " ' Dominica',\n",
       " ' Suriname',\n",
       " ' St Maarten',\n",
       " ' Malawi',\n",
       " ' New Caledonia',\n",
       " ' Saint Kitts and Nevis',\n",
       " ' Democratic Republic of the Congo',\n",
       " ' Laos',\n",
       " ' Cameroon',\n",
       " ' Madagascar',\n",
       " ' Vanuatu',\n",
       " ' Swaziland',\n",
       " ' Afghanistan',\n",
       " ' Mauritania',\n",
       " ' Saint Lucia',\n",
       " ' Belize',\n",
       " ' Togo',\n",
       " ' Gabon',\n",
       " ' Falkland Islands Malvinas',\n",
       " ' Haiti',\n",
       " ' Bhutan',\n",
       " ' Reunion',\n",
       " ' Benin',\n",
       " ' Crimea',\n",
       " ' Sierra Leone',\n",
       " ' Guadeloupe',\n",
       " ' Turkmenistan',\n",
       " ' Mali',\n",
       " ' Martinique',\n",
       " ' Gambia',\n",
       " ' Guyana',\n",
       " ' Samoa',\n",
       " ' East Timor',\n",
       " ' French Guiana',\n",
       " ' Saint Martin',\n",
       " ' Grenada',\n",
       " ' Somalia',\n",
       " ' Saint Barts',\n",
       " ' Liberia',\n",
       " ' Lesotho',\n",
       " ' San Marino',\n",
       " ' Antarctica',\n",
       " ' Burundi',\n",
       " ' Congo',\n",
       " ' French Polynesia',\n",
       " ' Bonaire St Eustatius and Saba',\n",
       " ' Central Africa Republic',\n",
       " ' South Sudan',\n",
       " ' Montserrat',\n",
       " ' Cook Islands',\n",
       " ' Wallis and Futuna',\n",
       " ' Cocos K I',\n",
       " ' St Pierre and Miquelon',\n",
       " ' Equatorial Guinea',\n",
       " ' American Samoa',\n",
       " ' Saint Vincent Grenadines',\n",
       " ' Djibouti',\n",
       " ' Niger',\n",
       " ' Eritrea',\n",
       " ' Kiribati',\n",
       " ' Northern Mariana Islands',\n",
       " ' Svalbard Jan Mayen',\n",
       " ' Guinea',\n",
       " ' Vatican City',\n",
       " ' Comoros',\n",
       " ' Anguilla',\n",
       " ' Tuvalu',\n",
       " ' Cape Verde',\n",
       " ' Palau']"
      ]
     },
     "execution_count": 22,
     "metadata": {},
     "output_type": "execute_result"
    }
   ],
   "source": [
    "nat_list = list(hotels.reviewer_nationality.value_counts().index) # получаем названия национальностей\n",
    "# Для корректного поиска удаляем пробел в конце каждоый строки\n",
    "count_list = []\n",
    "for nat in nat_list:\n",
    "    nat = nat[:-1]\n",
    "    count_list.append(nat)\n",
    "# Получаем список названий стран\n",
    "count_list"
   ]
  },
  {
   "cell_type": "code",
   "execution_count": 23,
   "id": "d5a4f94c",
   "metadata": {
    "execution": {
     "iopub.execute_input": "2023-02-11T18:34:36.901561Z",
     "iopub.status.busy": "2023-02-11T18:34:36.901211Z",
     "iopub.status.idle": "2023-02-11T18:34:37.492079Z",
     "shell.execute_reply": "2023-02-11T18:34:37.490732Z"
    },
    "papermill": {
     "duration": 0.609932,
     "end_time": "2023-02-11T18:34:37.494290",
     "exception": false,
     "start_time": "2023-02-11T18:34:36.884358",
     "status": "completed"
    },
    "tags": []
   },
   "outputs": [],
   "source": [
    "# Функция принимает на вход строку и если название страны есть найдено в строке, \n",
    "# функция вернет только назвние страны, в которой находится отель.\n",
    "\n",
    "def get_country(adress):\n",
    "    for elem in count_list:\n",
    "        if elem in adress:            \n",
    "            return elem\n",
    "\n",
    "# Получим новый признак с информацией о стране, в которой находится отель        \n",
    "hotels['hotel_country'] = hotels['hotel_address'].apply(get_country) \n",
    "# Удалим признак с полным адрессом отеля\n",
    "hotels = hotels.drop('hotel_address',axis=1)"
   ]
  },
  {
   "cell_type": "code",
   "execution_count": 24,
   "id": "8dd2019e",
   "metadata": {
    "execution": {
     "iopub.execute_input": "2023-02-11T18:34:37.526369Z",
     "iopub.status.busy": "2023-02-11T18:34:37.525214Z",
     "iopub.status.idle": "2023-02-11T18:34:37.565914Z",
     "shell.execute_reply": "2023-02-11T18:34:37.565110Z"
    },
    "papermill": {
     "duration": 0.059053,
     "end_time": "2023-02-11T18:34:37.568360",
     "exception": false,
     "start_time": "2023-02-11T18:34:37.509307",
     "status": "completed"
    },
    "tags": []
   },
   "outputs": [
    {
     "name": "stdout",
     "output_type": "stream",
     "text": [
      "Отели в датасете располагаются в 6 странах\n"
     ]
    }
   ],
   "source": [
    "print('Отели в датасете располагаются в',hotels['hotel_country'].nunique(),'странах')"
   ]
  },
  {
   "cell_type": "code",
   "execution_count": 25,
   "id": "15652a5a",
   "metadata": {
    "execution": {
     "iopub.execute_input": "2023-02-11T18:34:37.600105Z",
     "iopub.status.busy": "2023-02-11T18:34:37.599779Z",
     "iopub.status.idle": "2023-02-11T18:34:37.779167Z",
     "shell.execute_reply": "2023-02-11T18:34:37.778141Z"
    },
    "papermill": {
     "duration": 0.197945,
     "end_time": "2023-02-11T18:34:37.781485",
     "exception": false,
     "start_time": "2023-02-11T18:34:37.583540",
     "status": "completed"
    },
    "tags": []
   },
   "outputs": [],
   "source": [
    "# Количество стран небольшое, значит данный признак можно закодировать\n",
    "hotels = pd.get_dummies(hotels, columns=['hotel_country'])"
   ]
  },
  {
   "cell_type": "markdown",
   "id": "3fd105d3",
   "metadata": {
    "papermill": {
     "duration": 0.014443,
     "end_time": "2023-02-11T18:34:37.810956",
     "exception": false,
     "start_time": "2023-02-11T18:34:37.796513",
     "status": "completed"
    },
    "tags": []
   },
   "source": [
    "### 5. reviewer_nationality"
   ]
  },
  {
   "cell_type": "code",
   "execution_count": 26,
   "id": "b10b15ae",
   "metadata": {
    "execution": {
     "iopub.execute_input": "2023-02-11T18:34:37.841899Z",
     "iopub.status.busy": "2023-02-11T18:34:37.841582Z",
     "iopub.status.idle": "2023-02-11T18:34:37.885021Z",
     "shell.execute_reply": "2023-02-11T18:34:37.883571Z"
    },
    "papermill": {
     "duration": 0.061464,
     "end_time": "2023-02-11T18:34:37.887114",
     "exception": false,
     "start_time": "2023-02-11T18:34:37.825650",
     "status": "completed"
    },
    "tags": []
   },
   "outputs": [
    {
     "name": "stdout",
     "output_type": "stream",
     "text": [
      "Количество уникальных значений 227\n"
     ]
    }
   ],
   "source": [
    "print(\"Количество уникальных значений\",hotels['reviewer_nationality'].nunique())"
   ]
  },
  {
   "cell_type": "code",
   "execution_count": 27,
   "id": "0ccf27d2",
   "metadata": {
    "execution": {
     "iopub.execute_input": "2023-02-11T18:34:37.918471Z",
     "iopub.status.busy": "2023-02-11T18:34:37.918093Z",
     "iopub.status.idle": "2023-02-11T18:34:41.412492Z",
     "shell.execute_reply": "2023-02-11T18:34:41.411189Z"
    },
    "papermill": {
     "duration": 3.512861,
     "end_time": "2023-02-11T18:34:41.415036",
     "exception": false,
     "start_time": "2023-02-11T18:34:37.902175",
     "status": "completed"
    },
    "tags": []
   },
   "outputs": [],
   "source": [
    "# Топ 20 национальностей рецензентов\n",
    "top_nat_list = list(hotels['reviewer_nationality'].value_counts().index[:20])\n",
    "\n",
    "# По каждой национальности рецензента создадим отдельный признак\n",
    "for nat in top_nat_list:\n",
    "    hotels[nat] = hotels.reviewer_nationality.apply(lambda x: 1 if nat in x else 0)\n",
    "    \n",
    "hotels = hotels.drop('reviewer_nationality',axis=1)   "
   ]
  },
  {
   "cell_type": "markdown",
   "id": "2b30db45",
   "metadata": {
    "papermill": {
     "duration": 0.014606,
     "end_time": "2023-02-11T18:34:41.444914",
     "exception": false,
     "start_time": "2023-02-11T18:34:41.430308",
     "status": "completed"
    },
    "tags": []
   },
   "source": [
    "### 6. hotel_name"
   ]
  },
  {
   "cell_type": "markdown",
   "id": "5c9facde",
   "metadata": {
    "papermill": {
     "duration": 0.014689,
     "end_time": "2023-02-11T18:34:41.475019",
     "exception": false,
     "start_time": "2023-02-11T18:34:41.460330",
     "status": "completed"
    },
    "tags": []
   },
   "source": [
    "Названия некоторых отелей в таблице повторяются более 1500 раз, что говорит о том, что данные отели являются сетевыми.\n",
    "На основе этой информации можно создать признак, который будет свидетельствовать о том, является отель частью большой сети отелей или нет."
   ]
  },
  {
   "cell_type": "code",
   "execution_count": 28,
   "id": "5ead9a40",
   "metadata": {
    "execution": {
     "iopub.execute_input": "2023-02-11T18:34:41.506260Z",
     "iopub.status.busy": "2023-02-11T18:34:41.505928Z",
     "iopub.status.idle": "2023-02-11T18:34:41.952803Z",
     "shell.execute_reply": "2023-02-11T18:34:41.951770Z"
    },
    "papermill": {
     "duration": 0.465207,
     "end_time": "2023-02-11T18:34:41.955043",
     "exception": false,
     "start_time": "2023-02-11T18:34:41.489836",
     "status": "completed"
    },
    "tags": []
   },
   "outputs": [],
   "source": [
    "# Создадим список топ 20 названий отелей по количеству отелей в сети\n",
    "top_20_hotel_names = hotels.hotel_name.value_counts()[:20]\n",
    "top_20_hotel_names = list(top_20_hotel_names.index)\n",
    "\n",
    "# Признак chain_hotel содержит информацию о принадлежности \n",
    "# или непринадлежности отеля к большой сети\n",
    "hotels['chain_hotel'] = hotels.hotel_name.apply(\n",
    "    lambda x: 1 if x in top_20_hotel_names else 0\n",
    "    )\n",
    "\n",
    "# Удалаяем столбец hotel_name\n",
    "hotels = hotels.drop('hotel_name',axis=1)"
   ]
  },
  {
   "cell_type": "markdown",
   "id": "9d516e95",
   "metadata": {
    "papermill": {
     "duration": 0.016471,
     "end_time": "2023-02-11T18:34:41.987942",
     "exception": false,
     "start_time": "2023-02-11T18:34:41.971471",
     "status": "completed"
    },
    "tags": []
   },
   "source": [
    "### 7. negative_review"
   ]
  },
  {
   "cell_type": "markdown",
   "id": "f56733bb",
   "metadata": {
    "papermill": {
     "duration": 0.015724,
     "end_time": "2023-02-11T18:34:42.018775",
     "exception": false,
     "start_time": "2023-02-11T18:34:42.003051",
     "status": "completed"
    },
    "tags": []
   },
   "source": [
    "Заменим некоторые коментарии, которые на самом деле не несут в себе нагативного посыла на строку 'Positive'"
   ]
  },
  {
   "cell_type": "code",
   "execution_count": 29,
   "id": "2d06d02e",
   "metadata": {
    "execution": {
     "iopub.execute_input": "2023-02-11T18:34:42.050724Z",
     "iopub.status.busy": "2023-02-11T18:34:42.050114Z",
     "iopub.status.idle": "2023-02-11T18:34:44.973067Z",
     "shell.execute_reply": "2023-02-11T18:34:44.972112Z"
    },
    "papermill": {
     "duration": 2.941364,
     "end_time": "2023-02-11T18:34:44.975307",
     "exception": false,
     "start_time": "2023-02-11T18:34:42.033943",
     "status": "completed"
    },
    "tags": []
   },
   "outputs": [],
   "source": [
    "hotels['negative_review'] = hotels['negative_review'].apply(\n",
    "    lambda x: x.replace('No Negative','Positive'))\n",
    "hotels['negative_review'] = hotels['negative_review'].apply(\n",
    "    lambda x: x.replace('N A','Positive'))\n",
    "hotels['negative_review'] = hotels['negative_review'].apply(\n",
    "    lambda x: x.replace('All good','Positive'))\n",
    "hotels['negative_review'] = hotels['negative_review'].apply(\n",
    "    lambda x: x.replace('No complaints','Positive'))\n",
    "hotels['negative_review'] = hotels['negative_review'].apply(\n",
    "    lambda x: x.replace('Nothing to dislike','Positive'))\n",
    "hotels['negative_review'] = hotels['negative_review'].apply(\n",
    "    lambda x: x.replace(' Nothing','Positive'))\n",
    "hotels['negative_review'] = hotels['negative_review'].apply(\n",
    "    lambda x: x.replace(' nothing','Positive'))\n",
    "hotels['negative_review'] = hotels['negative_review'].apply(\n",
    "    lambda x: x.replace('N a','Positive'))\n",
    "hotels['negative_review'] = hotels['negative_review'].apply(\n",
    "    lambda x: x.replace(' Positive','Positive'))\n",
    "hotels['negative_review'] = hotels['negative_review'].apply(\n",
    "    lambda x: x.replace('Positive ','Positive'))\n",
    "hotels['negative_review'] = hotels['negative_review'].apply(\n",
    "    lambda x: x.replace('Positive really','Positive'))\n",
    "hotels['negative_review'] = hotels['negative_review'].apply(\n",
    "    lambda x: x.replace(' None','Positive'))\n",
    "hotels['negative_review'] = hotels['negative_review'].apply(\n",
    "    lambda x: x.replace(' ','Positive')) #Заменит все пробелы в ячейках на Positive\n",
    "\n",
    "# Здесь мы учтем только те строки, которые полностью равны Positive \n",
    "# им присваиваем значение 0 остальным 1\n",
    "hotels['negative_review'] = hotels['negative_review'].apply(lambda x: 0 if x=='Positive' else 1)"
   ]
  },
  {
   "cell_type": "markdown",
   "id": "021c9546",
   "metadata": {
    "papermill": {
     "duration": 0.014365,
     "end_time": "2023-02-11T18:34:45.004978",
     "exception": false,
     "start_time": "2023-02-11T18:34:44.990613",
     "status": "completed"
    },
    "tags": []
   },
   "source": [
    "### 8. positive_review"
   ]
  },
  {
   "cell_type": "markdown",
   "id": "27d78999",
   "metadata": {
    "papermill": {
     "duration": 0.014194,
     "end_time": "2023-02-11T18:34:45.033667",
     "exception": false,
     "start_time": "2023-02-11T18:34:45.019473",
     "status": "completed"
    },
    "tags": []
   },
   "source": [
    "Заменим некоторые коментарии, которые на самом деле не несут в себе позитивного посыла на строку 'Negative'"
   ]
  },
  {
   "cell_type": "code",
   "execution_count": 30,
   "id": "111a6e67",
   "metadata": {
    "execution": {
     "iopub.execute_input": "2023-02-11T18:34:45.064820Z",
     "iopub.status.busy": "2023-02-11T18:34:45.064292Z",
     "iopub.status.idle": "2023-02-11T18:34:46.675013Z",
     "shell.execute_reply": "2023-02-11T18:34:46.674284Z"
    },
    "papermill": {
     "duration": 1.62906,
     "end_time": "2023-02-11T18:34:46.677175",
     "exception": false,
     "start_time": "2023-02-11T18:34:45.048115",
     "status": "completed"
    },
    "tags": []
   },
   "outputs": [],
   "source": [
    "hotels['positive_review'] = hotels['positive_review'].apply(\n",
    "    lambda x: x.replace('No Positive', 'Negative')) \n",
    "hotels['positive_review'] = hotels['positive_review'].apply(\n",
    "    lambda x: x.replace(' Nothing', 'Negative'))\n",
    "hotels['positive_review'] = hotels['positive_review'].apply(\n",
    "    lambda x: x.replace('Negative ', 'Negative'))\n",
    "hotels['positive_review'] = hotels['positive_review'].apply(\n",
    "    lambda x: x.replace('nothing', 'Negative'))\n",
    "hotels['positive_review'] = hotels['positive_review'].apply(\n",
    "    lambda x: x.replace(' Negative', 'Negative'))\n",
    "hotels['positive_review'] = hotels['positive_review'].apply(\n",
    "    lambda x: x.replace(' ', 'Negative')) #Заменит все пробелы в ячейках на Negative\n",
    "\n",
    "# Здесь мы учтем только те строки, которые полностью равны Negative \n",
    "# им присваиваем значение 0 остальным 1\n",
    "hotels['positive_review'] = hotels['positive_review'].apply(lambda x: 0 if x=='Negative' else 1)"
   ]
  },
  {
   "cell_type": "code",
   "execution_count": 31,
   "id": "b5a19bfe",
   "metadata": {
    "execution": {
     "iopub.execute_input": "2023-02-11T18:34:46.708930Z",
     "iopub.status.busy": "2023-02-11T18:34:46.708453Z",
     "iopub.status.idle": "2023-02-11T18:34:46.748086Z",
     "shell.execute_reply": "2023-02-11T18:34:46.746430Z"
    },
    "papermill": {
     "duration": 0.05776,
     "end_time": "2023-02-11T18:34:46.750201",
     "exception": false,
     "start_time": "2023-02-11T18:34:46.692441",
     "status": "completed"
    },
    "tags": []
   },
   "outputs": [
    {
     "name": "stdout",
     "output_type": "stream",
     "text": [
      "<class 'pandas.core.frame.DataFrame'>\n",
      "RangeIndex: 515738 entries, 0 to 515737\n",
      "Data columns (total 61 columns):\n",
      " #   Column                                      Non-Null Count   Dtype  \n",
      "---  ------                                      --------------   -----  \n",
      " 0   average_score                               515738 non-null  float64\n",
      " 1   negative_review                             515738 non-null  int64  \n",
      " 2   review_total_negative_word_counts           515738 non-null  int64  \n",
      " 3   total_number_of_reviews                     515738 non-null  int64  \n",
      " 4   positive_review                             515738 non-null  int64  \n",
      " 5   review_total_positive_word_counts           515738 non-null  int64  \n",
      " 6   total_number_of_reviews_reviewer_has_given  515738 non-null  int64  \n",
      " 7   days_since_review                           515738 non-null  int64  \n",
      " 8   lat                                         515738 non-null  float64\n",
      " 9   lng                                         515738 non-null  float64\n",
      " 10  sample                                      515738 non-null  int64  \n",
      " 11  reviewer_score                              515738 non-null  float64\n",
      " 12  review_year                                 515738 non-null  int64  \n",
      " 13  review_month                                515738 non-null  int64  \n",
      " 14  Leisure trip                                515738 non-null  int64  \n",
      " 15  Submitted from a mobile device              515738 non-null  int64  \n",
      " 16  Couple                                      515738 non-null  int64  \n",
      " 17  Stayed 1 night                              515738 non-null  int64  \n",
      " 18  Stayed 2 nights                             515738 non-null  int64  \n",
      " 19  Solo traveler                               515738 non-null  int64  \n",
      " 20  Stayed 3 nights                             515738 non-null  int64  \n",
      " 21  Business trip                               515738 non-null  int64  \n",
      " 22  Group                                       515738 non-null  int64  \n",
      " 23  Family with young children                  515738 non-null  int64  \n",
      " 24  Stayed 4 nights                             515738 non-null  int64  \n",
      " 25  Double Room                                 515738 non-null  int64  \n",
      " 26  Standard Double Room                        515738 non-null  int64  \n",
      " 27  Superior Double Room                        515738 non-null  int64  \n",
      " 28  Family with older children                  515738 non-null  int64  \n",
      " 29  Deluxe Double Room                          515738 non-null  int64  \n",
      " 30  Double or Twin Room                         515738 non-null  int64  \n",
      " 31  Stayed 5 nights                             515738 non-null  int64  \n",
      " 32  Standard Double or Twin Room                515738 non-null  int64  \n",
      " 33  Classic Double Room                         515738 non-null  int64  \n",
      " 34  hotel_country_ Austria                      515738 non-null  uint8  \n",
      " 35  hotel_country_ France                       515738 non-null  uint8  \n",
      " 36  hotel_country_ Italy                        515738 non-null  uint8  \n",
      " 37  hotel_country_ Netherlands                  515738 non-null  uint8  \n",
      " 38  hotel_country_ Spain                        515738 non-null  uint8  \n",
      " 39  hotel_country_ United Kingdom               515738 non-null  uint8  \n",
      " 40   United Kingdom                             515738 non-null  int64  \n",
      " 41   United States of America                   515738 non-null  int64  \n",
      " 42   Australia                                  515738 non-null  int64  \n",
      " 43   Ireland                                    515738 non-null  int64  \n",
      " 44   United Arab Emirates                       515738 non-null  int64  \n",
      " 45   Saudi Arabia                               515738 non-null  int64  \n",
      " 46   Netherlands                                515738 non-null  int64  \n",
      " 47   Switzerland                                515738 non-null  int64  \n",
      " 48   Germany                                    515738 non-null  int64  \n",
      " 49   Canada                                     515738 non-null  int64  \n",
      " 50   France                                     515738 non-null  int64  \n",
      " 51   Israel                                     515738 non-null  int64  \n",
      " 52   Italy                                      515738 non-null  int64  \n",
      " 53   Belgium                                    515738 non-null  int64  \n",
      " 54   Turkey                                     515738 non-null  int64  \n",
      " 55   Kuwait                                     515738 non-null  int64  \n",
      " 56   Spain                                      515738 non-null  int64  \n",
      " 57   Romania                                    515738 non-null  int64  \n",
      " 58   Russia                                     515738 non-null  int64  \n",
      " 59   South Africa                               515738 non-null  int64  \n",
      " 60  chain_hotel                                 515738 non-null  int64  \n",
      "dtypes: float64(4), int64(51), uint8(6)\n",
      "memory usage: 219.4 MB\n"
     ]
    }
   ],
   "source": [
    "hotels.info()"
   ]
  },
  {
   "cell_type": "markdown",
   "id": "73113660",
   "metadata": {
    "papermill": {
     "duration": 0.014652,
     "end_time": "2023-02-11T18:34:46.780812",
     "exception": false,
     "start_time": "2023-02-11T18:34:46.766160",
     "status": "completed"
    },
    "tags": []
   },
   "source": [
    "### Дополнительно"
   ]
  },
  {
   "cell_type": "code",
   "execution_count": 32,
   "id": "5fd777ce",
   "metadata": {
    "execution": {
     "iopub.execute_input": "2023-02-11T18:34:46.812195Z",
     "iopub.status.busy": "2023-02-11T18:34:46.811857Z",
     "iopub.status.idle": "2023-02-11T18:34:46.824658Z",
     "shell.execute_reply": "2023-02-11T18:34:46.823770Z"
    },
    "papermill": {
     "duration": 0.030741,
     "end_time": "2023-02-11T18:34:46.826502",
     "exception": false,
     "start_time": "2023-02-11T18:34:46.795761",
     "status": "completed"
    },
    "tags": []
   },
   "outputs": [],
   "source": [
    "# Теперь для всех положительных отзывах, которые попали в Negative \n",
    "# исправим значение review_total_negative_word_counts на 0\n",
    "# аналогично исправим для Positive \n",
    "hotels.loc[(hotels.negative_review==0),'review_total_negative_word_counts'] = 0\n",
    "hotels.loc[(hotels.positive_review==0),'review_total_positive_word_counts'] = 0"
   ]
  },
  {
   "cell_type": "markdown",
   "id": "bbb2ab05",
   "metadata": {
    "papermill": {
     "duration": 0.014455,
     "end_time": "2023-02-11T18:34:46.855863",
     "exception": false,
     "start_time": "2023-02-11T18:34:46.841408",
     "status": "completed"
    },
    "tags": []
   },
   "source": [
    "## Обучение модели"
   ]
  },
  {
   "cell_type": "code",
   "execution_count": 33,
   "id": "159c6adc",
   "metadata": {
    "execution": {
     "iopub.execute_input": "2023-02-11T18:34:46.888660Z",
     "iopub.status.busy": "2023-02-11T18:34:46.887936Z",
     "iopub.status.idle": "2023-02-11T18:40:29.465597Z",
     "shell.execute_reply": "2023-02-11T18:40:29.464299Z"
    },
    "papermill": {
     "duration": 342.597429,
     "end_time": "2023-02-11T18:40:29.467985",
     "exception": false,
     "start_time": "2023-02-11T18:34:46.870556",
     "status": "completed"
    },
    "tags": []
   },
   "outputs": [],
   "source": [
    "from sklearn.model_selection import train_test_split  \n",
    "# Разбиваем датафрейм на части, необходимые для обучения и тестирования модели  \n",
    "# Х - данные с информацией об отелях, у - целевая переменная (рейтинги отелей)  \n",
    "X = hotels.drop(['reviewer_score'], axis = 1)  \n",
    "y = hotels['reviewer_score'] \n",
    "# Наборы данных с меткой \"train\" будут использоваться для обучения модели, \"test\" - для тестирования.  \n",
    "# Для тестирования мы будем использовать 25% от исходного датасета.  \n",
    "X_train, X_test, y_train, y_test = train_test_split(X, y, test_size=0.25, random_state=42)\n",
    "\n",
    "# Импортируем необходимые библиотеки:  \n",
    "from sklearn.ensemble import RandomForestRegressor # инструмент для создания и обучения модели  \n",
    "from sklearn import metrics # инструменты для оценки точности модели  \n",
    "  \n",
    "# Создаём модель  \n",
    "regr = RandomForestRegressor(n_estimators=100)  \n",
    "      \n",
    "# Обучаем модель на тестовом наборе данных  \n",
    "regr.fit(X_train, y_train)  \n",
    "      \n",
    "# Используем обученную модель для предсказания рейтинга отелей в тестовой выборке.  \n",
    "# Предсказанные значения записываем в переменную y_pred  \n",
    "y_pred = regr.predict(X_test)  "
   ]
  },
  {
   "cell_type": "code",
   "execution_count": 34,
   "id": "37df5e53",
   "metadata": {
    "execution": {
     "iopub.execute_input": "2023-02-11T18:40:29.500225Z",
     "iopub.status.busy": "2023-02-11T18:40:29.499893Z",
     "iopub.status.idle": "2023-02-11T18:40:29.507150Z",
     "shell.execute_reply": "2023-02-11T18:40:29.506023Z"
    },
    "papermill": {
     "duration": 0.025742,
     "end_time": "2023-02-11T18:40:29.509304",
     "exception": false,
     "start_time": "2023-02-11T18:40:29.483562",
     "status": "completed"
    },
    "tags": []
   },
   "outputs": [
    {
     "name": "stdout",
     "output_type": "stream",
     "text": [
      "MAPE: 0.0997054518107078\n"
     ]
    }
   ],
   "source": [
    "# Сравниваем предсказанные значения (y_pred) с реальными (y_test), и смотрим насколько они отличаются  \n",
    "# Метрика называется Mean Absolute Percentage Error (MAPE) и показывает среднюю абсолютную процентную ошибку предсказанных значений от фактических.  \n",
    "print('MAPE:', metrics.mean_absolute_percentage_error(y_test, y_pred))"
   ]
  },
  {
   "cell_type": "code",
   "execution_count": 35,
   "id": "2d58cf75",
   "metadata": {
    "execution": {
     "iopub.execute_input": "2023-02-11T18:40:29.541807Z",
     "iopub.status.busy": "2023-02-11T18:40:29.541072Z",
     "iopub.status.idle": "2023-02-11T18:40:30.020616Z",
     "shell.execute_reply": "2023-02-11T18:40:30.019468Z"
    },
    "papermill": {
     "duration": 0.497895,
     "end_time": "2023-02-11T18:40:30.022557",
     "exception": false,
     "start_time": "2023-02-11T18:40:29.524662",
     "status": "completed"
    },
    "tags": []
   },
   "outputs": [
    {
     "data": {
      "text/plain": [
       "<AxesSubplot:>"
      ]
     },
     "execution_count": 35,
     "metadata": {},
     "output_type": "execute_result"
    },
    {
     "data": {
      "image/png": "[encoded data removed]",
      "text/plain": [
       "<Figure size 720x720 with 1 Axes>"
      ]
     },
     "metadata": {
      "needs_background": "light"
     },
     "output_type": "display_data"
    }
   ],
   "source": [
    "# в RandomForestRegressor есть возможность вывести самые важные признаки для модели\n",
    "plt.rcParams['figure.figsize'] = (10,10)\n",
    "feat_importances = pd.Series(regr.feature_importances_, index=X.columns)\n",
    "feat_importances.nlargest(30).plot(kind='barh')"
   ]
  },
  {
   "cell_type": "code",
   "execution_count": 36,
   "id": "2715a1df",
   "metadata": {
    "execution": {
     "iopub.execute_input": "2023-02-11T18:40:30.055481Z",
     "iopub.status.busy": "2023-02-11T18:40:30.055145Z",
     "iopub.status.idle": "2023-02-11T18:40:30.081940Z",
     "shell.execute_reply": "2023-02-11T18:40:30.080668Z"
    },
    "papermill": {
     "duration": 0.045543,
     "end_time": "2023-02-11T18:40:30.083958",
     "exception": false,
     "start_time": "2023-02-11T18:40:30.038415",
     "status": "completed"
    },
    "tags": []
   },
   "outputs": [
    {
     "data": {
      "text/html": [
       "<div>\n",
       "<style scoped>\n",
       "    .dataframe tbody tr th:only-of-type {\n",
       "        vertical-align: middle;\n",
       "    }\n",
       "\n",
       "    .dataframe tbody tr th {\n",
       "        vertical-align: top;\n",
       "    }\n",
       "\n",
       "    .dataframe thead th {\n",
       "        text-align: right;\n",
       "    }\n",
       "</style>\n",
       "<table border=\"1\" class=\"dataframe\">\n",
       "  <thead>\n",
       "    <tr style=\"text-align: right;\">\n",
       "      <th></th>\n",
       "      <th>average_score</th>\n",
       "      <th>negative_review</th>\n",
       "      <th>review_total_negative_word_counts</th>\n",
       "      <th>total_number_of_reviews</th>\n",
       "      <th>positive_review</th>\n",
       "      <th>review_total_positive_word_counts</th>\n",
       "      <th>total_number_of_reviews_reviewer_has_given</th>\n",
       "      <th>days_since_review</th>\n",
       "      <th>lat</th>\n",
       "      <th>lng</th>\n",
       "      <th>...</th>\n",
       "      <th>Israel</th>\n",
       "      <th>Italy</th>\n",
       "      <th>Belgium</th>\n",
       "      <th>Turkey</th>\n",
       "      <th>Kuwait</th>\n",
       "      <th>Spain</th>\n",
       "      <th>Romania</th>\n",
       "      <th>Russia</th>\n",
       "      <th>South Africa</th>\n",
       "      <th>chain_hotel</th>\n",
       "    </tr>\n",
       "  </thead>\n",
       "  <tbody>\n",
       "    <tr>\n",
       "      <th>213179</th>\n",
       "      <td>8.6</td>\n",
       "      <td>1</td>\n",
       "      <td>17</td>\n",
       "      <td>2764</td>\n",
       "      <td>1</td>\n",
       "      <td>5</td>\n",
       "      <td>5</td>\n",
       "      <td>711</td>\n",
       "      <td>48.855566</td>\n",
       "      <td>2.292624</td>\n",
       "      <td>...</td>\n",
       "      <td>0</td>\n",
       "      <td>0</td>\n",
       "      <td>0</td>\n",
       "      <td>0</td>\n",
       "      <td>0</td>\n",
       "      <td>0</td>\n",
       "      <td>0</td>\n",
       "      <td>0</td>\n",
       "      <td>0</td>\n",
       "      <td>0</td>\n",
       "    </tr>\n",
       "    <tr>\n",
       "      <th>283782</th>\n",
       "      <td>8.2</td>\n",
       "      <td>1</td>\n",
       "      <td>3</td>\n",
       "      <td>1003</td>\n",
       "      <td>1</td>\n",
       "      <td>10</td>\n",
       "      <td>1</td>\n",
       "      <td>662</td>\n",
       "      <td>51.491908</td>\n",
       "      <td>-0.168440</td>\n",
       "      <td>...</td>\n",
       "      <td>0</td>\n",
       "      <td>0</td>\n",
       "      <td>0</td>\n",
       "      <td>0</td>\n",
       "      <td>0</td>\n",
       "      <td>0</td>\n",
       "      <td>0</td>\n",
       "      <td>0</td>\n",
       "      <td>0</td>\n",
       "      <td>0</td>\n",
       "    </tr>\n",
       "    <tr>\n",
       "      <th>5615</th>\n",
       "      <td>7.5</td>\n",
       "      <td>1</td>\n",
       "      <td>8</td>\n",
       "      <td>2197</td>\n",
       "      <td>1</td>\n",
       "      <td>4</td>\n",
       "      <td>1</td>\n",
       "      <td>449</td>\n",
       "      <td>51.491668</td>\n",
       "      <td>-0.194747</td>\n",
       "      <td>...</td>\n",
       "      <td>0</td>\n",
       "      <td>0</td>\n",
       "      <td>0</td>\n",
       "      <td>0</td>\n",
       "      <td>0</td>\n",
       "      <td>0</td>\n",
       "      <td>0</td>\n",
       "      <td>0</td>\n",
       "      <td>0</td>\n",
       "      <td>0</td>\n",
       "    </tr>\n",
       "    <tr>\n",
       "      <th>335374</th>\n",
       "      <td>8.6</td>\n",
       "      <td>1</td>\n",
       "      <td>4</td>\n",
       "      <td>4276</td>\n",
       "      <td>1</td>\n",
       "      <td>11</td>\n",
       "      <td>9</td>\n",
       "      <td>491</td>\n",
       "      <td>41.385639</td>\n",
       "      <td>2.166827</td>\n",
       "      <td>...</td>\n",
       "      <td>0</td>\n",
       "      <td>0</td>\n",
       "      <td>0</td>\n",
       "      <td>0</td>\n",
       "      <td>0</td>\n",
       "      <td>0</td>\n",
       "      <td>0</td>\n",
       "      <td>0</td>\n",
       "      <td>0</td>\n",
       "      <td>0</td>\n",
       "    </tr>\n",
       "    <tr>\n",
       "      <th>393404</th>\n",
       "      <td>7.7</td>\n",
       "      <td>0</td>\n",
       "      <td>0</td>\n",
       "      <td>6539</td>\n",
       "      <td>1</td>\n",
       "      <td>54</td>\n",
       "      <td>1</td>\n",
       "      <td>614</td>\n",
       "      <td>51.510995</td>\n",
       "      <td>-0.186342</td>\n",
       "      <td>...</td>\n",
       "      <td>0</td>\n",
       "      <td>0</td>\n",
       "      <td>0</td>\n",
       "      <td>0</td>\n",
       "      <td>0</td>\n",
       "      <td>0</td>\n",
       "      <td>0</td>\n",
       "      <td>0</td>\n",
       "      <td>0</td>\n",
       "      <td>1</td>\n",
       "    </tr>\n",
       "    <tr>\n",
       "      <th>238144</th>\n",
       "      <td>8.8</td>\n",
       "      <td>1</td>\n",
       "      <td>178</td>\n",
       "      <td>489</td>\n",
       "      <td>1</td>\n",
       "      <td>91</td>\n",
       "      <td>9</td>\n",
       "      <td>279</td>\n",
       "      <td>48.851662</td>\n",
       "      <td>2.297940</td>\n",
       "      <td>...</td>\n",
       "      <td>0</td>\n",
       "      <td>0</td>\n",
       "      <td>0</td>\n",
       "      <td>0</td>\n",
       "      <td>0</td>\n",
       "      <td>0</td>\n",
       "      <td>0</td>\n",
       "      <td>0</td>\n",
       "      <td>0</td>\n",
       "      <td>0</td>\n",
       "    </tr>\n",
       "    <tr>\n",
       "      <th>395968</th>\n",
       "      <td>8.2</td>\n",
       "      <td>1</td>\n",
       "      <td>3</td>\n",
       "      <td>1259</td>\n",
       "      <td>1</td>\n",
       "      <td>41</td>\n",
       "      <td>9</td>\n",
       "      <td>177</td>\n",
       "      <td>48.201728</td>\n",
       "      <td>16.375463</td>\n",
       "      <td>...</td>\n",
       "      <td>0</td>\n",
       "      <td>0</td>\n",
       "      <td>0</td>\n",
       "      <td>0</td>\n",
       "      <td>0</td>\n",
       "      <td>0</td>\n",
       "      <td>0</td>\n",
       "      <td>0</td>\n",
       "      <td>0</td>\n",
       "      <td>0</td>\n",
       "    </tr>\n",
       "    <tr>\n",
       "      <th>67665</th>\n",
       "      <td>7.2</td>\n",
       "      <td>0</td>\n",
       "      <td>0</td>\n",
       "      <td>182</td>\n",
       "      <td>1</td>\n",
       "      <td>19</td>\n",
       "      <td>2</td>\n",
       "      <td>518</td>\n",
       "      <td>48.869973</td>\n",
       "      <td>2.290940</td>\n",
       "      <td>...</td>\n",
       "      <td>0</td>\n",
       "      <td>0</td>\n",
       "      <td>0</td>\n",
       "      <td>0</td>\n",
       "      <td>0</td>\n",
       "      <td>0</td>\n",
       "      <td>0</td>\n",
       "      <td>0</td>\n",
       "      <td>0</td>\n",
       "      <td>0</td>\n",
       "    </tr>\n",
       "    <tr>\n",
       "      <th>398585</th>\n",
       "      <td>8.7</td>\n",
       "      <td>1</td>\n",
       "      <td>45</td>\n",
       "      <td>310</td>\n",
       "      <td>1</td>\n",
       "      <td>79</td>\n",
       "      <td>1</td>\n",
       "      <td>177</td>\n",
       "      <td>41.391908</td>\n",
       "      <td>2.157332</td>\n",
       "      <td>...</td>\n",
       "      <td>0</td>\n",
       "      <td>0</td>\n",
       "      <td>0</td>\n",
       "      <td>0</td>\n",
       "      <td>0</td>\n",
       "      <td>0</td>\n",
       "      <td>0</td>\n",
       "      <td>0</td>\n",
       "      <td>0</td>\n",
       "      <td>0</td>\n",
       "    </tr>\n",
       "    <tr>\n",
       "      <th>288067</th>\n",
       "      <td>8.0</td>\n",
       "      <td>0</td>\n",
       "      <td>0</td>\n",
       "      <td>1725</td>\n",
       "      <td>1</td>\n",
       "      <td>59</td>\n",
       "      <td>1</td>\n",
       "      <td>643</td>\n",
       "      <td>41.403622</td>\n",
       "      <td>2.190281</td>\n",
       "      <td>...</td>\n",
       "      <td>0</td>\n",
       "      <td>0</td>\n",
       "      <td>0</td>\n",
       "      <td>0</td>\n",
       "      <td>0</td>\n",
       "      <td>0</td>\n",
       "      <td>0</td>\n",
       "      <td>0</td>\n",
       "      <td>0</td>\n",
       "      <td>0</td>\n",
       "    </tr>\n",
       "  </tbody>\n",
       "</table>\n",
       "<p>10 rows × 60 columns</p>\n",
       "</div>"
      ],
      "text/plain": [
       "        average_score  negative_review  review_total_negative_word_counts  \\\n",
       "213179            8.6                1                                 17   \n",
       "283782            8.2                1                                  3   \n",
       "5615              7.5                1                                  8   \n",
       "335374            8.6                1                                  4   \n",
       "393404            7.7                0                                  0   \n",
       "238144            8.8                1                                178   \n",
       "395968            8.2                1                                  3   \n",
       "67665             7.2                0                                  0   \n",
       "398585            8.7                1                                 45   \n",
       "288067            8.0                0                                  0   \n",
       "\n",
       "        total_number_of_reviews  positive_review  \\\n",
       "213179                     2764                1   \n",
       "283782                     1003                1   \n",
       "5615                       2197                1   \n",
       "335374                     4276                1   \n",
       "393404                     6539                1   \n",
       "238144                      489                1   \n",
       "395968                     1259                1   \n",
       "67665                       182                1   \n",
       "398585                      310                1   \n",
       "288067                     1725                1   \n",
       "\n",
       "        review_total_positive_word_counts  \\\n",
       "213179                                  5   \n",
       "283782                                 10   \n",
       "5615                                    4   \n",
       "335374                                 11   \n",
       "393404                                 54   \n",
       "238144                                 91   \n",
       "395968                                 41   \n",
       "67665                                  19   \n",
       "398585                                 79   \n",
       "288067                                 59   \n",
       "\n",
       "        total_number_of_reviews_reviewer_has_given  days_since_review  \\\n",
       "213179                                           5                711   \n",
       "283782                                           1                662   \n",
       "5615                                             1                449   \n",
       "335374                                           9                491   \n",
       "393404                                           1                614   \n",
       "238144                                           9                279   \n",
       "395968                                           9                177   \n",
       "67665                                            2                518   \n",
       "398585                                           1                177   \n",
       "288067                                           1                643   \n",
       "\n",
       "              lat        lng  ...   Israel    Italy    Belgium    Turkey   \\\n",
       "213179  48.855566   2.292624  ...         0        0          0         0   \n",
       "283782  51.491908  -0.168440  ...         0        0          0         0   \n",
       "5615    51.491668  -0.194747  ...         0        0          0         0   \n",
       "335374  41.385639   2.166827  ...         0        0          0         0   \n",
       "393404  51.510995  -0.186342  ...         0        0          0         0   \n",
       "238144  48.851662   2.297940  ...         0        0          0         0   \n",
       "395968  48.201728  16.375463  ...         0        0          0         0   \n",
       "67665   48.869973   2.290940  ...         0        0          0         0   \n",
       "398585  41.391908   2.157332  ...         0        0          0         0   \n",
       "288067  41.403622   2.190281  ...         0        0          0         0   \n",
       "\n",
       "         Kuwait    Spain    Romania    Russia    South Africa   chain_hotel  \n",
       "213179         0        0          0         0               0            0  \n",
       "283782         0        0          0         0               0            0  \n",
       "5615           0        0          0         0               0            0  \n",
       "335374         0        0          0         0               0            0  \n",
       "393404         0        0          0         0               0            1  \n",
       "238144         0        0          0         0               0            0  \n",
       "395968         0        0          0         0               0            0  \n",
       "67665          0        0          0         0               0            0  \n",
       "398585         0        0          0         0               0            0  \n",
       "288067         0        0          0         0               0            0  \n",
       "\n",
       "[10 rows x 60 columns]"
      ]
     },
     "execution_count": 36,
     "metadata": {},
     "output_type": "execute_result"
    }
   ],
   "source": [
    "X_test.sample(10)"
   ]
  },
  {
   "cell_type": "code",
   "execution_count": 37,
   "id": "7aa583fc",
   "metadata": {
    "execution": {
     "iopub.execute_input": "2023-02-11T18:40:30.119442Z",
     "iopub.status.busy": "2023-02-11T18:40:30.119075Z",
     "iopub.status.idle": "2023-02-11T18:40:30.130666Z",
     "shell.execute_reply": "2023-02-11T18:40:30.129774Z"
    },
    "papermill": {
     "duration": 0.032064,
     "end_time": "2023-02-11T18:40:30.132925",
     "exception": false,
     "start_time": "2023-02-11T18:40:30.100861",
     "status": "completed"
    },
    "tags": []
   },
   "outputs": [
    {
     "data": {
      "text/html": [
       "<div>\n",
       "<style scoped>\n",
       "    .dataframe tbody tr th:only-of-type {\n",
       "        vertical-align: middle;\n",
       "    }\n",
       "\n",
       "    .dataframe tbody tr th {\n",
       "        vertical-align: top;\n",
       "    }\n",
       "\n",
       "    .dataframe thead th {\n",
       "        text-align: right;\n",
       "    }\n",
       "</style>\n",
       "<table border=\"1\" class=\"dataframe\">\n",
       "  <thead>\n",
       "    <tr style=\"text-align: right;\">\n",
       "      <th></th>\n",
       "      <th>reviewer_score</th>\n",
       "      <th>id</th>\n",
       "    </tr>\n",
       "  </thead>\n",
       "  <tbody>\n",
       "    <tr>\n",
       "      <th>0</th>\n",
       "      <td>1</td>\n",
       "      <td>488440</td>\n",
       "    </tr>\n",
       "    <tr>\n",
       "      <th>1</th>\n",
       "      <td>10</td>\n",
       "      <td>274649</td>\n",
       "    </tr>\n",
       "    <tr>\n",
       "      <th>2</th>\n",
       "      <td>3</td>\n",
       "      <td>374688</td>\n",
       "    </tr>\n",
       "    <tr>\n",
       "      <th>3</th>\n",
       "      <td>10</td>\n",
       "      <td>404352</td>\n",
       "    </tr>\n",
       "    <tr>\n",
       "      <th>4</th>\n",
       "      <td>9</td>\n",
       "      <td>451596</td>\n",
       "    </tr>\n",
       "    <tr>\n",
       "      <th>...</th>\n",
       "      <td>...</td>\n",
       "      <td>...</td>\n",
       "    </tr>\n",
       "    <tr>\n",
       "      <th>128930</th>\n",
       "      <td>7</td>\n",
       "      <td>495812</td>\n",
       "    </tr>\n",
       "    <tr>\n",
       "      <th>128931</th>\n",
       "      <td>1</td>\n",
       "      <td>315577</td>\n",
       "    </tr>\n",
       "    <tr>\n",
       "      <th>128932</th>\n",
       "      <td>3</td>\n",
       "      <td>511968</td>\n",
       "    </tr>\n",
       "    <tr>\n",
       "      <th>128933</th>\n",
       "      <td>6</td>\n",
       "      <td>303386</td>\n",
       "    </tr>\n",
       "    <tr>\n",
       "      <th>128934</th>\n",
       "      <td>5</td>\n",
       "      <td>103157</td>\n",
       "    </tr>\n",
       "  </tbody>\n",
       "</table>\n",
       "<p>128935 rows × 2 columns</p>\n",
       "</div>"
      ],
      "text/plain": [
       "        reviewer_score      id\n",
       "0                    1  488440\n",
       "1                   10  274649\n",
       "2                    3  374688\n",
       "3                   10  404352\n",
       "4                    9  451596\n",
       "...                ...     ...\n",
       "128930               7  495812\n",
       "128931               1  315577\n",
       "128932               3  511968\n",
       "128933               6  303386\n",
       "128934               5  103157\n",
       "\n",
       "[128935 rows x 2 columns]"
      ]
     },
     "execution_count": 37,
     "metadata": {},
     "output_type": "execute_result"
    }
   ],
   "source": [
    "sample_submission"
   ]
  },
  {
   "cell_type": "code",
   "execution_count": 38,
   "id": "7058c194",
   "metadata": {
    "execution": {
     "iopub.execute_input": "2023-02-11T18:40:30.167787Z",
     "iopub.status.busy": "2023-02-11T18:40:30.167442Z",
     "iopub.status.idle": "2023-02-11T18:40:35.057930Z",
     "shell.execute_reply": "2023-02-11T18:40:35.056287Z"
    },
    "papermill": {
     "duration": 4.910478,
     "end_time": "2023-02-11T18:40:35.060159",
     "exception": false,
     "start_time": "2023-02-11T18:40:30.149681",
     "status": "completed"
    },
    "tags": []
   },
   "outputs": [],
   "source": [
    "predict_submission = regr.predict(X_test)"
   ]
  },
  {
   "cell_type": "code",
   "execution_count": 39,
   "id": "a43f5407",
   "metadata": {
    "execution": {
     "iopub.execute_input": "2023-02-11T18:40:35.094706Z",
     "iopub.status.busy": "2023-02-11T18:40:35.094347Z",
     "iopub.status.idle": "2023-02-11T18:40:35.099992Z",
     "shell.execute_reply": "2023-02-11T18:40:35.099178Z"
    },
    "papermill": {
     "duration": 0.024911,
     "end_time": "2023-02-11T18:40:35.101837",
     "exception": false,
     "start_time": "2023-02-11T18:40:35.076926",
     "status": "completed"
    },
    "tags": []
   },
   "outputs": [
    {
     "data": {
      "text/plain": [
       "array([8.779, 9.561, 7.569, ..., 7.831, 6.254, 0.   ])"
      ]
     },
     "execution_count": 39,
     "metadata": {},
     "output_type": "execute_result"
    }
   ],
   "source": [
    "predict_submission"
   ]
  },
  {
   "cell_type": "code",
   "execution_count": 40,
   "id": "94dd7c8e",
   "metadata": {
    "execution": {
     "iopub.execute_input": "2023-02-11T18:40:35.137071Z",
     "iopub.status.busy": "2023-02-11T18:40:35.136717Z",
     "iopub.status.idle": "2023-02-11T18:40:35.142818Z",
     "shell.execute_reply": "2023-02-11T18:40:35.141539Z"
    },
    "papermill": {
     "duration": 0.02559,
     "end_time": "2023-02-11T18:40:35.144554",
     "exception": false,
     "start_time": "2023-02-11T18:40:35.118964",
     "status": "completed"
    },
    "tags": []
   },
   "outputs": [
    {
     "data": {
      "text/plain": [
       "['reviewer_score', 'id']"
      ]
     },
     "execution_count": 40,
     "metadata": {},
     "output_type": "execute_result"
    }
   ],
   "source": [
    "list(sample_submission)"
   ]
  },
  {
   "cell_type": "code",
   "execution_count": 41,
   "id": "e3c65628",
   "metadata": {
    "execution": {
     "iopub.execute_input": "2023-02-11T18:40:35.179860Z",
     "iopub.status.busy": "2023-02-11T18:40:35.179159Z",
     "iopub.status.idle": "2023-02-11T18:40:35.366675Z",
     "shell.execute_reply": "2023-02-11T18:40:35.365474Z"
    },
    "papermill": {
     "duration": 0.207749,
     "end_time": "2023-02-11T18:40:35.368914",
     "exception": false,
     "start_time": "2023-02-11T18:40:35.161165",
     "status": "completed"
    },
    "tags": []
   },
   "outputs": [
    {
     "data": {
      "text/html": [
       "<div>\n",
       "<style scoped>\n",
       "    .dataframe tbody tr th:only-of-type {\n",
       "        vertical-align: middle;\n",
       "    }\n",
       "\n",
       "    .dataframe tbody tr th {\n",
       "        vertical-align: top;\n",
       "    }\n",
       "\n",
       "    .dataframe thead th {\n",
       "        text-align: right;\n",
       "    }\n",
       "</style>\n",
       "<table border=\"1\" class=\"dataframe\">\n",
       "  <thead>\n",
       "    <tr style=\"text-align: right;\">\n",
       "      <th></th>\n",
       "      <th>reviewer_score</th>\n",
       "      <th>id</th>\n",
       "    </tr>\n",
       "  </thead>\n",
       "  <tbody>\n",
       "    <tr>\n",
       "      <th>0</th>\n",
       "      <td>8.779</td>\n",
       "      <td>488440</td>\n",
       "    </tr>\n",
       "    <tr>\n",
       "      <th>1</th>\n",
       "      <td>9.561</td>\n",
       "      <td>274649</td>\n",
       "    </tr>\n",
       "    <tr>\n",
       "      <th>2</th>\n",
       "      <td>7.569</td>\n",
       "      <td>374688</td>\n",
       "    </tr>\n",
       "    <tr>\n",
       "      <th>3</th>\n",
       "      <td>9.611</td>\n",
       "      <td>404352</td>\n",
       "    </tr>\n",
       "    <tr>\n",
       "      <th>4</th>\n",
       "      <td>7.460</td>\n",
       "      <td>451596</td>\n",
       "    </tr>\n",
       "    <tr>\n",
       "      <th>5</th>\n",
       "      <td>8.375</td>\n",
       "      <td>302161</td>\n",
       "    </tr>\n",
       "    <tr>\n",
       "      <th>6</th>\n",
       "      <td>5.589</td>\n",
       "      <td>317079</td>\n",
       "    </tr>\n",
       "    <tr>\n",
       "      <th>7</th>\n",
       "      <td>0.000</td>\n",
       "      <td>13963</td>\n",
       "    </tr>\n",
       "    <tr>\n",
       "      <th>8</th>\n",
       "      <td>7.427</td>\n",
       "      <td>159785</td>\n",
       "    </tr>\n",
       "    <tr>\n",
       "      <th>9</th>\n",
       "      <td>9.371</td>\n",
       "      <td>195089</td>\n",
       "    </tr>\n",
       "  </tbody>\n",
       "</table>\n",
       "</div>"
      ],
      "text/plain": [
       "   reviewer_score      id\n",
       "0           8.779  488440\n",
       "1           9.561  274649\n",
       "2           7.569  374688\n",
       "3           9.611  404352\n",
       "4           7.460  451596\n",
       "5           8.375  302161\n",
       "6           5.589  317079\n",
       "7           0.000   13963\n",
       "8           7.427  159785\n",
       "9           9.371  195089"
      ]
     },
     "execution_count": 41,
     "metadata": {},
     "output_type": "execute_result"
    }
   ],
   "source": [
    "sample_submission['reviewer_score'] = predict_submission\n",
    "sample_submission.to_csv('submission3.csv', index=False)\n",
    "sample_submission.head(10)"
   ]
  }
 ],
 "metadata": {
  "kernelspec": {
   "display_name": "Python 3",
   "language": "python",
   "name": "python3"
  },
  "language_info": {
   "codemirror_mode": {
    "name": "ipython",
    "version": 3
   },
   "file_extension": ".py",
   "mimetype": "text/x-python",
   "name": "python",
   "nbconvert_exporter": "python",
   "pygments_lexer": "ipython3",
   "version": "3.9.12"
  },
  "papermill": {
   "default_parameters": {},
   "duration": 388.010887,
   "end_time": "2023-02-11T18:40:36.209832",
   "environment_variables": {},
   "exception": null,
   "input_path": "__notebook__.ipynb",
   "output_path": "__notebook__.ipynb",
   "parameters": {},
   "start_time": "2023-02-11T18:34:08.198945",
   "version": "2.3.4"
  },
  "vscode": {
   "interpreter": {
    "hash": "8c217115874aa3a99d670e318d7f682ebdb43585778ade470915451b5cfdc522"
   }
  }
 },
 "nbformat": 4,
 "nbformat_minor": 5
}
